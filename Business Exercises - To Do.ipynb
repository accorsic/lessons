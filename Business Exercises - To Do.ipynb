{
 "cells": [
  {
   "cell_type": "markdown",
   "id": "e5b37760",
   "metadata": {},
   "source": [
    "# BI Exercises"
   ]
  },
  {
   "cell_type": "markdown",
   "id": "6e4edcd9",
   "metadata": {},
   "source": [
    "## Set Up"
   ]
  },
  {
   "cell_type": "code",
   "execution_count": 1,
   "id": "477ff8fb",
   "metadata": {
    "ExecuteTime": {
     "end_time": "2022-10-25T14:34:34.048664Z",
     "start_time": "2022-10-25T14:34:33.511959Z"
    }
   },
   "outputs": [],
   "source": [
    "%load_ext sql"
   ]
  },
  {
   "cell_type": "code",
   "execution_count": 2,
   "id": "7aafb340",
   "metadata": {
    "ExecuteTime": {
     "end_time": "2022-10-25T14:34:34.061333Z",
     "start_time": "2022-10-25T14:34:34.051153Z"
    }
   },
   "outputs": [],
   "source": [
    "%config SqlMagic.autopandas=True"
   ]
  },
  {
   "cell_type": "code",
   "execution_count": 3,
   "id": "098f627b",
   "metadata": {
    "ExecuteTime": {
     "end_time": "2022-10-25T14:34:34.074011Z",
     "start_time": "2022-10-25T14:34:34.063762Z"
    }
   },
   "outputs": [],
   "source": [
    "%config SqlMagic.displaycon=False"
   ]
  },
  {
   "cell_type": "code",
   "execution_count": 4,
   "id": "2adbbccb",
   "metadata": {
    "ExecuteTime": {
     "end_time": "2022-10-25T14:34:34.135676Z",
     "start_time": "2022-10-25T14:34:34.120623Z"
    }
   },
   "outputs": [],
   "source": [
    "%sql sqlite:///transactions.db"
   ]
  },
  {
   "cell_type": "code",
   "execution_count": 5,
   "id": "b67fa40b",
   "metadata": {
    "ExecuteTime": {
     "end_time": "2022-10-25T14:34:34.775101Z",
     "start_time": "2022-10-25T14:34:34.757342Z"
    }
   },
   "outputs": [
    {
     "name": "stdout",
     "output_type": "stream",
     "text": [
      "Done.\n"
     ]
    },
    {
     "data": {
      "text/html": [
       "<div>\n",
       "<style scoped>\n",
       "    .dataframe tbody tr th:only-of-type {\n",
       "        vertical-align: middle;\n",
       "    }\n",
       "\n",
       "    .dataframe tbody tr th {\n",
       "        vertical-align: top;\n",
       "    }\n",
       "\n",
       "    .dataframe thead th {\n",
       "        text-align: right;\n",
       "    }\n",
       "</style>\n",
       "<table border=\"1\" class=\"dataframe\">\n",
       "  <thead>\n",
       "    <tr style=\"text-align: right;\">\n",
       "      <th></th>\n",
       "      <th>transaction_id</th>\n",
       "      <th>payment_method</th>\n",
       "      <th>seller_id</th>\n",
       "      <th>buyer_id</th>\n",
       "      <th>transaction_date</th>\n",
       "      <th>product_price</th>\n",
       "    </tr>\n",
       "  </thead>\n",
       "  <tbody>\n",
       "    <tr>\n",
       "      <th>0</th>\n",
       "      <td>1294738</td>\n",
       "      <td>1</td>\n",
       "      <td>5107765</td>\n",
       "      <td>5007941</td>\n",
       "      <td>2022-05-11 15:46:38</td>\n",
       "      <td>1410.0</td>\n",
       "    </tr>\n",
       "    <tr>\n",
       "      <th>1</th>\n",
       "      <td>585369</td>\n",
       "      <td>4</td>\n",
       "      <td>4205200</td>\n",
       "      <td>4250752</td>\n",
       "      <td>2021-03-27 15:01:28</td>\n",
       "      <td>800.0</td>\n",
       "    </tr>\n",
       "    <tr>\n",
       "      <th>2</th>\n",
       "      <td>882933</td>\n",
       "      <td>4</td>\n",
       "      <td>581926</td>\n",
       "      <td>4695227</td>\n",
       "      <td>2021-10-20 14:45:11</td>\n",
       "      <td>800.0</td>\n",
       "    </tr>\n",
       "    <tr>\n",
       "      <th>3</th>\n",
       "      <td>1145325</td>\n",
       "      <td>3</td>\n",
       "      <td>536932</td>\n",
       "      <td>4865235</td>\n",
       "      <td>2022-03-06 17:37:04</td>\n",
       "      <td>1616.0</td>\n",
       "    </tr>\n",
       "    <tr>\n",
       "      <th>4</th>\n",
       "      <td>762483</td>\n",
       "      <td>5</td>\n",
       "      <td>432561</td>\n",
       "      <td>4186489</td>\n",
       "      <td>2021-08-06 11:33:12</td>\n",
       "      <td>840.0</td>\n",
       "    </tr>\n",
       "  </tbody>\n",
       "</table>\n",
       "</div>"
      ],
      "text/plain": [
       "   transaction_id  payment_method  seller_id  buyer_id     transaction_date  \\\n",
       "0         1294738               1    5107765   5007941  2022-05-11 15:46:38   \n",
       "1          585369               4    4205200   4250752  2021-03-27 15:01:28   \n",
       "2          882933               4     581926   4695227  2021-10-20 14:45:11   \n",
       "3         1145325               3     536932   4865235  2022-03-06 17:37:04   \n",
       "4          762483               5     432561   4186489  2021-08-06 11:33:12   \n",
       "\n",
       "   product_price  \n",
       "0         1410.0  \n",
       "1          800.0  \n",
       "2          800.0  \n",
       "3         1616.0  \n",
       "4          840.0  "
      ]
     },
     "execution_count": 5,
     "metadata": {},
     "output_type": "execute_result"
    }
   ],
   "source": [
    "%%sql\n",
    "SELECT *\n",
    "FROM transactions\n",
    "LIMIT 5"
   ]
  },
  {
   "cell_type": "code",
   "execution_count": 6,
   "id": "409bf896",
   "metadata": {
    "ExecuteTime": {
     "end_time": "2022-10-25T14:34:36.329451Z",
     "start_time": "2022-10-25T14:34:36.318342Z"
    }
   },
   "outputs": [
    {
     "name": "stdout",
     "output_type": "stream",
     "text": [
      "Done.\n"
     ]
    },
    {
     "data": {
      "text/html": [
       "<div>\n",
       "<style scoped>\n",
       "    .dataframe tbody tr th:only-of-type {\n",
       "        vertical-align: middle;\n",
       "    }\n",
       "\n",
       "    .dataframe tbody tr th {\n",
       "        vertical-align: top;\n",
       "    }\n",
       "\n",
       "    .dataframe thead th {\n",
       "        text-align: right;\n",
       "    }\n",
       "</style>\n",
       "<table border=\"1\" class=\"dataframe\">\n",
       "  <thead>\n",
       "    <tr style=\"text-align: right;\">\n",
       "      <th></th>\n",
       "      <th>user_id</th>\n",
       "      <th>register_date</th>\n",
       "    </tr>\n",
       "  </thead>\n",
       "  <tbody>\n",
       "    <tr>\n",
       "      <th>0</th>\n",
       "      <td>5042412</td>\n",
       "      <td>2022-03-01 21:26:27</td>\n",
       "    </tr>\n",
       "    <tr>\n",
       "      <th>1</th>\n",
       "      <td>707930</td>\n",
       "      <td>2020-09-29 08:33:26</td>\n",
       "    </tr>\n",
       "    <tr>\n",
       "      <th>2</th>\n",
       "      <td>5283835</td>\n",
       "      <td>2022-06-23 11:18:09</td>\n",
       "    </tr>\n",
       "    <tr>\n",
       "      <th>3</th>\n",
       "      <td>4195678</td>\n",
       "      <td>2021-02-24 22:12:15</td>\n",
       "    </tr>\n",
       "    <tr>\n",
       "      <th>4</th>\n",
       "      <td>5370530</td>\n",
       "      <td>2022-08-29 13:53:33</td>\n",
       "    </tr>\n",
       "  </tbody>\n",
       "</table>\n",
       "</div>"
      ],
      "text/plain": [
       "   user_id        register_date\n",
       "0  5042412  2022-03-01 21:26:27\n",
       "1   707930  2020-09-29 08:33:26\n",
       "2  5283835  2022-06-23 11:18:09\n",
       "3  4195678  2021-02-24 22:12:15\n",
       "4  5370530  2022-08-29 13:53:33"
      ]
     },
     "execution_count": 6,
     "metadata": {},
     "output_type": "execute_result"
    }
   ],
   "source": [
    "%%sql\n",
    "SELECT *\n",
    "FROM users\n",
    "LIMIT 5"
   ]
  },
  {
   "cell_type": "markdown",
   "id": "0773f2dc",
   "metadata": {},
   "source": [
    "## Preguntas"
   ]
  },
  {
   "cell_type": "markdown",
   "id": "192250ca",
   "metadata": {},
   "source": [
    "### Agregaciones simples"
   ]
  },
  {
   "cell_type": "markdown",
   "id": "a7e086de",
   "metadata": {},
   "source": [
    "#### Qué procentaje de usuarias registradas han comprado al menos un producto?"
   ]
  },
  {
   "cell_type": "code",
   "execution_count": 7,
   "id": "1a0ed757",
   "metadata": {},
   "outputs": [
    {
     "name": "stdout",
     "output_type": "stream",
     "text": [
      "Done.\n",
      "Returning data to local variable buyer_transactions\n"
     ]
    }
   ],
   "source": [
    "%%sql buyer_transactions <<\n",
    "SELECT user_id, COUNT(DISTINCT transaction_id) AS transactions\n",
    "FROM users u\n",
    "LEFT JOIN transactions t\n",
    "ON u.user_id = t.buyer_id\n",
    "GROUP BY user_id"
   ]
  },
  {
   "cell_type": "code",
   "execution_count": 8,
   "id": "79e29076-aa3f-4ae4-8057-565ecfdb2d0f",
   "metadata": {},
   "outputs": [
    {
     "data": {
      "text/plain": [
       "0.9946666666666666"
      ]
     },
     "execution_count": 8,
     "metadata": {},
     "output_type": "execute_result"
    }
   ],
   "source": [
    "buyer_transactions['transactions'] = list(map(lambda x: 1 if x > 0 else 0, buyer_transactions['transactions']))\n",
    "buyer_transactions['transactions'].mean()*100"
   ]
  },
  {
   "cell_type": "markdown",
   "id": "09d23151",
   "metadata": {
    "ExecuteTime": {
     "end_time": "2022-10-25T13:51:58.505277Z",
     "start_time": "2022-10-25T13:48:53.081051Z"
    },
    "tags": []
   },
   "source": [
    "#### Qué procentaje de compradoras no están registradas?\n"
   ]
  },
  {
   "cell_type": "code",
   "execution_count": null,
   "id": "4e7a480c-4c47-4799-9c86-11c7b069ff0d",
   "metadata": {},
   "outputs": [],
   "source": [
    "# right join da prioridad a transactions y el left a usuarios"
   ]
  },
  {
   "cell_type": "code",
   "execution_count": 14,
   "id": "c9be215f-abbf-44f8-afe9-289933cf9e76",
   "metadata": {},
   "outputs": [
    {
     "name": "stdout",
     "output_type": "stream",
     "text": [
      "Done.\n",
      "Returning data to local variable buyer_transactions\n"
     ]
    }
   ],
   "source": [
    "%%sql buyer_transactions <<\n",
    "SELECT buyer_id, COUNT(DISTINCT register_date) AS transactions\n",
    "FROM users u\n",
    "RIGHT JOIN transactions t\n",
    "ON u.user_id = t.buyer_id\n",
    "GROUP BY user_id"
   ]
  },
  {
   "cell_type": "code",
   "execution_count": null,
   "id": "ae4c46d9-4720-4a8a-8a21-2eeb7f3b3e8e",
   "metadata": {},
   "outputs": [],
   "source": [
    "buyers_registered['registered].mean()"
   ]
  },
  {
   "cell_type": "markdown",
   "id": "66cc4b71",
   "metadata": {},
   "source": [
    "### Retención externa"
   ]
  },
  {
   "cell_type": "markdown",
   "id": "b13a9b48",
   "metadata": {
    "ExecuteTime": {
     "end_time": "2022-10-25T13:54:29.764806Z",
     "start_time": "2022-10-25T13:54:29.760865Z"
    }
   },
   "source": [
    "#### Qué procentaje de usuarias han comprado al menos un producto el mes en el que se registró?"
   ]
  },
  {
   "cell_type": "code",
   "execution_count": 16,
   "id": "201e4aa6",
   "metadata": {},
   "outputs": [
    {
     "name": "stdout",
     "output_type": "stream",
     "text": [
      "(sqlite3.OperationalError) near \"strftime\": syntax error\n",
      "[SQL: SELECT \n",
      "    user_id,\n",
      "    strftime('%Y-%m-01', register_date) as register_month\n",
      "    strftime('%Y-%m-01', transaction_date) as transaction_month\n",
      "FROM users u\n",
      "LEFT JOIN transactions t\n",
      "on u.user_id = t.buyer_id\n",
      "WHERE transaction_id IS NOT NULL\n",
      "LIMIT 5]\n",
      "(Background on this error at: https://sqlalche.me/e/14/e3q8)\n"
     ]
    }
   ],
   "source": [
    "%%sql test <<\n",
    "SELECT \n",
    "    user_id,\n",
    "    strftime('%Y-%m-01', register_date) as register_month\n",
    "    strftime('%Y-%m-01', transaction_date) as transaction_month\n",
    "FROM users u\n",
    "LEFT JOIN transactions t\n",
    "on u.user_id = t.buyer_id\n",
    "WHERE transaction_id IS NOT NULL\n",
    "LIMIT 5\n"
   ]
  },
  {
   "cell_type": "code",
   "execution_count": null,
   "id": "66e980aa-882e-4b61-83f0-ca022ee29596",
   "metadata": {},
   "outputs": [],
   "source": [
    "test"
   ]
  },
  {
   "cell_type": "code",
   "execution_count": null,
   "id": "bb165134-3703-4ba8-854a-ef2e96324682",
   "metadata": {},
   "outputs": [],
   "source": [
    "%%sql\n",
    "SELECT COUNT(*)\n",
    "FROM users"
   ]
  },
  {
   "cell_type": "code",
   "execution_count": null,
   "id": "9448ebd5-f0ff-4134-90aa-f93ab0e5c25b",
   "metadata": {},
   "outputs": [],
   "source": [
    "test[test['register_month'] == test['transaction_month']]['user_id'].unique"
   ]
  },
  {
   "cell_type": "code",
   "execution_count": null,
   "id": "505d9dd6-be2c-4f05-aeab-df056a1c2d92",
   "metadata": {},
   "outputs": [],
   "source": [
    "%%sql retention <<\n",
    "SELECT \n",
    "    user_id,\n",
    "    strftime('%Y-%m-01', register_date) as register_month\n",
    "    strftime('%Y-%m-01', transaction_date) as transaction_month\n",
    "    ROUND ((julianday('now') - julianday('2022-01-01')) / 30 AS integer)\n",
    "FROM users u\n",
    "LEFT JOIN transactions t\n",
    "on u.user_id = t.buyer_id\n",
    "WHERE transaction_id IS NOT NULL\n",
    "LIMIT 5\n"
   ]
  },
  {
   "cell_type": "code",
   "execution_count": null,
   "id": "614cf414-a007-40a1-a42b-e39a9d6ae4c0",
   "metadata": {},
   "outputs": [],
   "source": [
    "retention.groupby[['register_month', 'datediff'], dropna=False)['transaction_month'].count()"
   ]
  },
  {
   "cell_type": "code",
   "execution_count": null,
   "id": "b2535030-7e0d-409d-9ff9-cecab545c025",
   "metadata": {},
   "outputs": [],
   "source": [
    "%%sql \n",
    "SELECT CAST ((julianday('now') - julianday('2022-01-01')) / 30 AS integer)"
   ]
  },
  {
   "cell_type": "code",
   "execution_count": null,
   "id": "8c1c79fd-9aac-47f8-88e7-7a6076e71388",
   "metadata": {},
   "outputs": [],
   "source": []
  },
  {
   "cell_type": "markdown",
   "id": "c657ba04",
   "metadata": {},
   "source": [
    "#### Cual fue el mes en el que las usuarias que se registraron convirtieron mejor a sellers? (Vendieron más items). Se mantuvo esta tendencia?"
   ]
  },
  {
   "cell_type": "code",
   "execution_count": null,
   "id": "85a3b4f3",
   "metadata": {},
   "outputs": [],
   "source": []
  },
  {
   "cell_type": "markdown",
   "id": "83013734",
   "metadata": {},
   "source": [
    "### Retención interna"
   ]
  },
  {
   "cell_type": "markdown",
   "id": "2431cec6",
   "metadata": {},
   "source": [
    "#### Ha habido algún mes en el que las usuarias que compraron ese mes no volvieron a comprar el mes siguiente en mayor medida que el resto?"
   ]
  },
  {
   "cell_type": "code",
   "execution_count": null,
   "id": "41eecc8a",
   "metadata": {},
   "outputs": [],
   "source": []
  },
  {
   "cell_type": "markdown",
   "id": "09e807ad",
   "metadata": {},
   "source": [
    "#### Que porcentaje de las compras cada mes están realizadas por usuarias que nunca han comprado? Y por usuarias con más de 3 meses desde su primera compra?"
   ]
  },
  {
   "cell_type": "code",
   "execution_count": null,
   "id": "afd5d216",
   "metadata": {},
   "outputs": [],
   "source": []
  }
 ],
 "metadata": {
  "kernelspec": {
   "display_name": "Python 3 (ipykernel)",
   "language": "python",
   "name": "python3"
  },
  "language_info": {
   "codemirror_mode": {
    "name": "ipython",
    "version": 3
   },
   "file_extension": ".py",
   "mimetype": "text/x-python",
   "name": "python",
   "nbconvert_exporter": "python",
   "pygments_lexer": "ipython3",
   "version": "3.9.13"
  },
  "toc": {
   "base_numbering": 1,
   "nav_menu": {},
   "number_sections": true,
   "sideBar": true,
   "skip_h1_title": false,
   "title_cell": "Table of Contents",
   "title_sidebar": "Contents",
   "toc_cell": false,
   "toc_position": {},
   "toc_section_display": true,
   "toc_window_display": true
  }
 },
 "nbformat": 4,
 "nbformat_minor": 5
}
