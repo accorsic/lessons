{
 "cells": [
  {
   "cell_type": "markdown",
   "id": "897d7e78-8a6c-41f8-9b60-bcd16d7255ab",
   "metadata": {},
   "source": [
    "## Proyecto Final: Sustainability and Payment Readiness"
   ]
  },
  {
   "cell_type": "markdown",
   "id": "48eff478-bdf6-4aba-97f0-95ac2b3e240c",
   "metadata": {},
   "source": [
    "### 1. Importe de librerías y descarga de data set"
   ]
  },
  {
   "cell_type": "code",
   "execution_count": 1,
   "id": "ac5b9d24-1d36-4603-92de-374cade7d158",
   "metadata": {},
   "outputs": [],
   "source": [
    "import pandas as pd\n",
    "import numpy as np\n",
    "import datetime\n",
    "import warnings\n",
    "\n",
    "\n",
    "import matplotlib.pyplot as plt\n",
    "import seaborn as sns\n",
    "%matplotlib inline"
   ]
  },
  {
   "cell_type": "code",
   "execution_count": 2,
   "id": "0110af5f-c4de-48b0-87ef-4f9e6f0ce94e",
   "metadata": {},
   "outputs": [],
   "source": [
    "data = pd.read_csv(\"DATAFINALPROYECT.csv\", skiprows=1)"
   ]
  },
  {
   "cell_type": "markdown",
   "id": "ff2911e4-6ce4-413b-9bcf-377464f2251b",
   "metadata": {},
   "source": [
    "#### 1a. Columnas de las variables (Data set original)"
   ]
  },
  {
   "cell_type": "code",
   "execution_count": 3,
   "id": "435bc82d-2edd-4d87-bf00-30e307f4a70d",
   "metadata": {},
   "outputs": [
    {
     "data": {
      "text/plain": [
       "Index(['Gender', 'Age', 'Occupation', 'Interest', 'Purchase', 'Products',\n",
       "       'Money spent', 'Fashion Segments', 'Customer decision: Price',\n",
       "       'Customer decision: Style', 'Customer decision: Quality',\n",
       "       'Customer decision: Brand', 'Customer decision: Comfort',\n",
       "       'Customer decision: Sustainability',\n",
       "       'Brand familiarity: Ausweichoption (negativ) oder Anzahl ausgewählter Optionen',\n",
       "       'Brand familiarity: Zara', 'Brand familiarity: H&M',\n",
       "       'Brand familiarity: Adidas', 'Brand familiarity: Patagonia',\n",
       "       'Brand familiarity: Uniqlo', 'Brand familiarity: Weekday',\n",
       "       'Brand familiarity: All of them', 'Interest.1', 'Industries',\n",
       "       'Information', 'Price relevance', 'Price readiness',\n",
       "       'Sustainable Option', 'Transparency',\n",
       "       'Recycle : Ausweichoption (negativ) oder Anzahl ausgewählter Optionen',\n",
       "       'Recycle : Recycling/upcycling of clothing',\n",
       "       'Recycle : Purchasing second-hand/vintage clothing',\n",
       "       'Recycle : Purchasing sustainable clothing', 'Recycle : None',\n",
       "       'Sustainable brands: [01]', 'Preference', 'Budget', 'Unnamed: 37',\n",
       "       'Unnamed: 38', 'Unnamed: 39', 'Unnamed: 40', 'Unnamed: 41',\n",
       "       'Unnamed: 42', 'Unnamed: 43', 'Unnamed: 44', 'Unnamed: 45',\n",
       "       'Unnamed: 46', 'Unnamed: 47', 'Unnamed: 48'],\n",
       "      dtype='object')"
      ]
     },
     "execution_count": 3,
     "metadata": {},
     "output_type": "execute_result"
    }
   ],
   "source": [
    "data.columns"
   ]
  },
  {
   "cell_type": "markdown",
   "id": "c9cd71c8-e922-411b-95e5-3ef063df3534",
   "metadata": {},
   "source": [
    "#### 1b. Separación de valores y cambio a minúsculas"
   ]
  },
  {
   "cell_type": "code",
   "execution_count": 4,
   "id": "ce8bff66-896a-48c4-b5a1-cf8b20b27d5c",
   "metadata": {},
   "outputs": [],
   "source": [
    "data.columns = [col.lower().replace(' ', '_')  for col in data.columns]"
   ]
  },
  {
   "cell_type": "code",
   "execution_count": 6,
   "id": "7cb4b466-8984-4d9f-9bc7-21d1dc45ef4f",
   "metadata": {},
   "outputs": [],
   "source": [
    "data = data.loc[:, ~data.columns.str.contains('^unnamed')]"
   ]
  },
  {
   "cell_type": "code",
   "execution_count": null,
   "id": "e9c36f44-9420-4e69-b601-9acfdde6c611",
   "metadata": {},
   "outputs": [],
   "source": [
    "#### 1c."
   ]
  },
  {
   "cell_type": "code",
   "execution_count": 7,
   "id": "06617ead-0ad0-41eb-9f2d-f61f38ef138b",
   "metadata": {},
   "outputs": [
    {
     "data": {
      "text/plain": [
       "gender                                                                             0\n",
       "age                                                                               16\n",
       "occupation                                                                        16\n",
       "interest                                                                          17\n",
       "purchase                                                                          16\n",
       "products                                                                          16\n",
       "money_spent                                                                       16\n",
       "fashion_segments                                                                  16\n",
       "customer_decision:_price                                                          17\n",
       "customer_decision:_style                                                          16\n",
       "customer_decision:_quality                                                        17\n",
       "customer_decision:_brand                                                          16\n",
       "customer_decision:_comfort                                                        16\n",
       "customer_decision:_sustainability                                                 16\n",
       "brand_familiarity:_ausweichoption_(negativ)_oder_anzahl_ausgewählter_optionen     16\n",
       "brand_familiarity:_zara                                                           16\n",
       "brand_familiarity:_h&m                                                            16\n",
       "brand_familiarity:_adidas                                                         16\n",
       "brand_familiarity:_patagonia                                                      16\n",
       "brand_familiarity:_uniqlo                                                         16\n",
       "brand_familiarity:_weekday                                                        16\n",
       "brand_familiarity:_all_of_them                                                    16\n",
       "interest.1                                                                        17\n",
       "industries                                                                        17\n",
       "information                                                                       17\n",
       "price_relevance                                                                   18\n",
       "price_readiness                                                                   19\n",
       "sustainable_option                                                                17\n",
       "transparency                                                                      17\n",
       "recycle_:_ausweichoption_(negativ)_oder_anzahl_ausgewählter_optionen              16\n",
       "recycle_:_recycling/upcycling_of_clothing                                         16\n",
       "recycle_:_purchasing_second-hand/vintage_clothing                                 16\n",
       "recycle_:_purchasing_sustainable_clothing                                         16\n",
       "recycle_:_none                                                                    16\n",
       "sustainable_brands:_[01]                                                         144\n",
       "preference                                                                        16\n",
       "budget                                                                            16\n",
       "dtype: int64"
      ]
     },
     "execution_count": 7,
     "metadata": {},
     "output_type": "execute_result"
    }
   ],
   "source": [
    "data.isna().sum()"
   ]
  },
  {
   "cell_type": "code",
   "execution_count": 8,
   "id": "b181a953-3495-4b39-a8b6-7cfe04af786f",
   "metadata": {},
   "outputs": [],
   "source": [
    "## cambiar los nans de las variables"
   ]
  },
  {
   "cell_type": "code",
   "execution_count": 9,
   "id": "ce625a87-fc1b-47d9-8c38-d2768cbafbff",
   "metadata": {},
   "outputs": [],
   "source": [
    "data['occupation'].astype(object).value_counts()\n",
    "data.loc[pd.isna(data[\"occupation\"]), \"occupation\"] = data['occupation'].astype(object).value_counts().iloc[0]"
   ]
  },
  {
   "cell_type": "code",
   "execution_count": 10,
   "id": "0ce7669d-0d1e-45aa-8821-4cb9137b0125",
   "metadata": {},
   "outputs": [],
   "source": [
    "data['age'].astype(object).value_counts()\n",
    "data.loc[pd.isna(data[\"age\"]), \"age\"] = data['age'].astype(object).value_counts().iloc[0]"
   ]
  },
  {
   "cell_type": "code",
   "execution_count": 11,
   "id": "72ec551b-d9a9-49c8-85a9-45382851c2a1",
   "metadata": {},
   "outputs": [],
   "source": [
    "data['interest'].astype(object).value_counts()\n",
    "data.loc[pd.isna(data[\"interest\"]), \"interest\"] = data['interest'].astype(object).value_counts().iloc[0]"
   ]
  },
  {
   "cell_type": "code",
   "execution_count": 12,
   "id": "1ae60eda-d9d5-4865-b856-bb020982c810",
   "metadata": {},
   "outputs": [],
   "source": [
    "data['purchase'].astype(object).value_counts()\n",
    "data.loc[pd.isna(data[\"purchase\"]), \"purchase\"] = data['purchase'].astype(object).value_counts().iloc[0]"
   ]
  },
  {
   "cell_type": "code",
   "execution_count": 13,
   "id": "b32e7c3a-2a52-480d-89f3-744a517c21f1",
   "metadata": {},
   "outputs": [],
   "source": [
    "data['products'].astype(object).value_counts()\n",
    "data.loc[pd.isna(data[\"products\"]), \"products\"] = data['products'].astype(object).value_counts().iloc[0]"
   ]
  },
  {
   "cell_type": "code",
   "execution_count": 14,
   "id": "2a707da1-0f96-4d23-a974-a3559c7c9ac4",
   "metadata": {},
   "outputs": [],
   "source": [
    "data['money_spent'].astype(object).value_counts()\n",
    "data.loc[pd.isna(data[\"money_spent\"]), \"money_spent\"] = data['money_spent'].astype(object).value_counts().iloc[0]"
   ]
  },
  {
   "cell_type": "code",
   "execution_count": 15,
   "id": "ce41dd20-083f-4eec-ad99-d8a62a65c9f3",
   "metadata": {},
   "outputs": [],
   "source": [
    "data['fashion_segments'].astype(object).value_counts()\n",
    "data.loc[pd.isna(data[\"fashion_segments\"]), \"fashion_segments\"] = data['fashion_segments'].astype(object).value_counts().iloc[0]"
   ]
  },
  {
   "cell_type": "code",
   "execution_count": 16,
   "id": "1ddd45f4-1eab-405d-8618-ed4b7549866b",
   "metadata": {},
   "outputs": [],
   "source": [
    "data['customer_decision:_price'].astype(object).value_counts()\n",
    "data.loc[pd.isna(data[\"customer_decision:_style\"]), \"customer_decision:_price\"] = data['customer_decision:_price'].astype(object).value_counts().iloc[0]"
   ]
  },
  {
   "cell_type": "code",
   "execution_count": 17,
   "id": "97b71eee-4ece-4399-b3f2-b38b960b72a0",
   "metadata": {},
   "outputs": [],
   "source": [
    "data['customer_decision:_style'].astype(object).value_counts()\n",
    "data.loc[pd.isna(data[\"customer_decision:_style\"]), \"customer_decision:_style\"] = data['customer_decision:_style'].astype(object).value_counts().iloc[0]"
   ]
  },
  {
   "cell_type": "code",
   "execution_count": 18,
   "id": "de65c737-6f90-437b-b827-7fc1ea93c318",
   "metadata": {},
   "outputs": [],
   "source": [
    "data['customer_decision:_quality'].astype(object).value_counts()\n",
    "data.loc[pd.isna(data[\"customer_decision:_quality\"]), \"customer_decision:_quality\"] = data['customer_decision:_quality'].astype(object).value_counts().iloc[0]"
   ]
  },
  {
   "cell_type": "code",
   "execution_count": 19,
   "id": "2f52b0da-15f4-48e4-aff1-c6172667d0b4",
   "metadata": {},
   "outputs": [],
   "source": [
    "data['customer_decision:_brand'].astype(object).value_counts()\n",
    "data.loc[pd.isna(data[\"customer_decision:_brand\"]), \"customer_decision:_brand\"] = data['customer_decision:_brand'].astype(object).value_counts().iloc[0]"
   ]
  },
  {
   "cell_type": "code",
   "execution_count": 20,
   "id": "5084a285-1609-4283-9edf-f87dbe380c2e",
   "metadata": {},
   "outputs": [],
   "source": [
    "data['customer_decision:_comfort'].astype(object).value_counts()\n",
    "data.loc[pd.isna(data[\"customer_decision:_comfort\"]), \"customer_decision:_comfort\"] = data['customer_decision:_comfort'].astype(object).value_counts().iloc[0]"
   ]
  },
  {
   "cell_type": "code",
   "execution_count": 21,
   "id": "42d3ec74-8271-4e0c-81b0-e6f814927d99",
   "metadata": {},
   "outputs": [],
   "source": [
    "data['customer_decision:_sustainability'].astype(object).value_counts()\n",
    "data.loc[pd.isna(data[\"customer_decision:_sustainability\"]), \"customer_decision:_sustainability\"] = data['customer_decision:_sustainability'].astype(object).value_counts().iloc[0]"
   ]
  },
  {
   "cell_type": "code",
   "execution_count": 22,
   "id": "f6288c23-da7e-4be0-8301-9ee6c691e005",
   "metadata": {},
   "outputs": [],
   "source": [
    "data['brand_familiarity:_ausweichoption_(negativ)_oder_anzahl_ausgewählter_optionen'].astype(object).value_counts()\n",
    "data.loc[pd.isna(data[\"brand_familiarity:_ausweichoption_(negativ)_oder_anzahl_ausgewählter_optionen\"]), \"brand_familiarity:_ausweichoption_(negativ)_oder_anzahl_ausgewählter_optionen\"] = data['brand_familiarity:_ausweichoption_(negativ)_oder_anzahl_ausgewählter_optionen'].astype(object).value_counts().iloc[0]"
   ]
  },
  {
   "cell_type": "code",
   "execution_count": 23,
   "id": "ff5d228f-3a70-472f-9dc9-d0defcaacba4",
   "metadata": {},
   "outputs": [],
   "source": [
    "data['brand_familiarity:_zara'].astype(object).value_counts()\n",
    "data.loc[pd.isna(data[\"brand_familiarity:_zara\"]), \"brand_familiarity:_zara\"] = data['brand_familiarity:_zara'].astype(object).value_counts().iloc[0]"
   ]
  },
  {
   "cell_type": "code",
   "execution_count": 24,
   "id": "04b52026-df6e-425d-a382-331b8d7a9b0e",
   "metadata": {},
   "outputs": [],
   "source": [
    "data['brand_familiarity:_h&m'].astype(object).value_counts()\n",
    "data.loc[pd.isna(data[\"brand_familiarity:_h&m\"]), \"brand_familiarity:_h&m\"] = data['brand_familiarity:_h&m'].astype(object).value_counts().iloc[0]"
   ]
  },
  {
   "cell_type": "code",
   "execution_count": 25,
   "id": "c7b9ba42-6045-4fe3-93e8-6e106a789cad",
   "metadata": {},
   "outputs": [],
   "source": [
    "data['brand_familiarity:_adidas'].astype(object).value_counts()\n",
    "data.loc[pd.isna(data[\"brand_familiarity:_adidas\"]), \"brand_familiarity:_adidas\"] = data['brand_familiarity:_adidas'].astype(object).value_counts().iloc[0]"
   ]
  },
  {
   "cell_type": "code",
   "execution_count": 26,
   "id": "5beff75c-dc4a-4309-af55-9c58f655288c",
   "metadata": {},
   "outputs": [],
   "source": [
    "data['brand_familiarity:_patagonia'].astype(object).value_counts()\n",
    "data.loc[pd.isna(data[\"brand_familiarity:_patagonia\"]), \"brand_familiarity:_patagonia\"] = data['brand_familiarity:_patagonia'].astype(object).value_counts().iloc[0]"
   ]
  },
  {
   "cell_type": "code",
   "execution_count": 27,
   "id": "128349ee-7e84-4eec-b535-9ea2b760e30b",
   "metadata": {},
   "outputs": [],
   "source": [
    "data['brand_familiarity:_uniqlo'].astype(object).value_counts()\n",
    "data.loc[pd.isna(data[\"brand_familiarity:_uniqlo\"]), \"brand_familiarity:_uniqlo\"] = data['brand_familiarity:_uniqlo'].astype(object).value_counts().iloc[0]"
   ]
  },
  {
   "cell_type": "code",
   "execution_count": 28,
   "id": "d7acf635-fdd8-4335-a76a-50595ec4667e",
   "metadata": {},
   "outputs": [],
   "source": [
    "data['brand_familiarity:_weekday'].astype(object).value_counts()\n",
    "data.loc[pd.isna(data[\"brand_familiarity:_weekday\"]), \"brand_familiarity:_weekday\"] = data['brand_familiarity:_weekday'].astype(object).value_counts().iloc[0]"
   ]
  },
  {
   "cell_type": "code",
   "execution_count": 29,
   "id": "0c81b945-6268-4059-a576-13a164d13097",
   "metadata": {},
   "outputs": [],
   "source": [
    "data['brand_familiarity:_all_of_them'].astype(object).value_counts()\n",
    "data.loc[pd.isna(data[\"brand_familiarity:_all_of_them\"]), \"brand_familiarity:_all_of_them\"] = data['brand_familiarity:_all_of_them'].astype(object).value_counts().iloc[0]"
   ]
  },
  {
   "cell_type": "code",
   "execution_count": 30,
   "id": "099f3d49-0217-4b67-aaeb-c67eb25a5501",
   "metadata": {},
   "outputs": [],
   "source": [
    "data['interest.1'].astype(object).value_counts()\n",
    "data.loc[pd.isna(data[\"interest.1\"]), \"interest.1\"] = data['interest.1'].astype(object).value_counts().iloc[0]"
   ]
  },
  {
   "cell_type": "code",
   "execution_count": 31,
   "id": "b3edc708-4c6b-4b4e-9f93-1f60fa86ea79",
   "metadata": {},
   "outputs": [],
   "source": [
    "data['industries'].astype(object).value_counts()\n",
    "data.loc[pd.isna(data[\"industries\"]), \"industries\"] = data['industries'].astype(object).value_counts().iloc[0]"
   ]
  },
  {
   "cell_type": "code",
   "execution_count": 32,
   "id": "a2753189-7e0c-4c50-9c39-b9542727380c",
   "metadata": {},
   "outputs": [],
   "source": [
    "data['information'].astype(object).value_counts()\n",
    "data.loc[pd.isna(data[\"information\"]), \"information\"] = data['information'].astype(object).value_counts().iloc[0]"
   ]
  },
  {
   "cell_type": "code",
   "execution_count": 33,
   "id": "79169cd7-de87-47a2-9cee-dae23eb887d3",
   "metadata": {},
   "outputs": [],
   "source": [
    "data['price_relevance'].astype(object).value_counts()\n",
    "data.loc[pd.isna(data[\"price_relevance\"]), \"price_relevance\"] = data['price_relevance'].astype(object).value_counts().iloc[0]"
   ]
  },
  {
   "cell_type": "code",
   "execution_count": 34,
   "id": "2feef11d-7db2-472c-859d-a35ca6b32ad3",
   "metadata": {},
   "outputs": [],
   "source": [
    "data['price_readiness'].astype(object).value_counts()\n",
    "data.loc[pd.isna(data[\"price_readiness\"]), \"price_readiness\"] = data['price_readiness'].astype(object).value_counts().iloc[0]"
   ]
  },
  {
   "cell_type": "code",
   "execution_count": 35,
   "id": "e64f2319-da1f-46e1-a3cd-f3e273b2afe8",
   "metadata": {},
   "outputs": [],
   "source": [
    "data['sustainable_option'].astype(object).value_counts()\n",
    "data.loc[pd.isna(data[\"sustainable_option\"]), \"sustainable_option\"] = data['sustainable_option'].astype(object).value_counts().iloc[0]"
   ]
  },
  {
   "cell_type": "code",
   "execution_count": 36,
   "id": "ea268ec4-ba5c-4cc1-9b95-7ed1c071bb0c",
   "metadata": {},
   "outputs": [],
   "source": [
    "data['transparency'].astype(object).value_counts()\n",
    "data.loc[pd.isna(data[\"transparency\"]), \"transparency\"] = data['transparency'].astype(object).value_counts().iloc[0]"
   ]
  },
  {
   "cell_type": "code",
   "execution_count": 37,
   "id": "45db3d06-e82f-4060-a534-eb5ad04679a1",
   "metadata": {},
   "outputs": [],
   "source": [
    "data['recycle_:_ausweichoption_(negativ)_oder_anzahl_ausgewählter_optionen'].astype(object).value_counts()\n",
    "data.loc[pd.isna(data[\"recycle_:_ausweichoption_(negativ)_oder_anzahl_ausgewählter_optionen\"]), \"recycle_:_ausweichoption_(negativ)_oder_anzahl_ausgewählter_optionen\"] = data['recycle_:_ausweichoption_(negativ)_oder_anzahl_ausgewählter_optionen'].astype(object).value_counts().iloc[0]"
   ]
  },
  {
   "cell_type": "code",
   "execution_count": 38,
   "id": "e4f2b442-34cf-4fd2-878c-0548f4b51c83",
   "metadata": {},
   "outputs": [],
   "source": [
    "data['recycle_:_recycling/upcycling_of_clothing'].astype(object).value_counts()\n",
    "data.loc[pd.isna(data[\"recycle_:_recycling/upcycling_of_clothing\"]), \"recycle_:_recycling/upcycling_of_clothing\"] = data['recycle_:_recycling/upcycling_of_clothing'].astype(object).value_counts().iloc[0]"
   ]
  },
  {
   "cell_type": "code",
   "execution_count": 39,
   "id": "63634708-6709-479f-b60a-cf83f5987ed3",
   "metadata": {},
   "outputs": [],
   "source": [
    "data['recycle_:_purchasing_second-hand/vintage_clothing'].astype(object).value_counts()\n",
    "data.loc[pd.isna(data[\"recycle_:_purchasing_second-hand/vintage_clothing\"]), \"recycle_:_purchasing_second-hand/vintage_clothing\"] = data['recycle_:_purchasing_second-hand/vintage_clothing'].astype(object).value_counts().iloc[0]"
   ]
  },
  {
   "cell_type": "code",
   "execution_count": 40,
   "id": "c23bea0c-78a5-4306-ac5e-44a758586f4e",
   "metadata": {},
   "outputs": [],
   "source": [
    "data['recycle_:_purchasing_sustainable_clothing'].astype(object).value_counts()\n",
    "data.loc[pd.isna(data[\"recycle_:_purchasing_sustainable_clothing\"]), \"recycle_:_purchasing_sustainable_clothing\"] = data['recycle_:_purchasing_sustainable_clothing'].astype(object).value_counts().iloc[0]"
   ]
  },
  {
   "cell_type": "code",
   "execution_count": 41,
   "id": "dc8e2b85-138c-4599-9aa2-4775a551fe56",
   "metadata": {},
   "outputs": [],
   "source": [
    "data['recycle_:_none'].astype(object).value_counts()\n",
    "data.loc[pd.isna(data[\"recycle_:_none\"]), \"recycle_:_none\"] = data['recycle_:_none'].astype(object).value_counts().iloc[0]"
   ]
  },
  {
   "cell_type": "code",
   "execution_count": 42,
   "id": "4773ceb6-d159-4ec8-b971-38bcfb487821",
   "metadata": {},
   "outputs": [],
   "source": [
    "data['recycle_:_none'].astype(object).value_counts()\n",
    "data.loc[pd.isna(data[\"recycle_:_none\"]), \"recycle_:_none\"] = data['recycle_:_none'].astype(object).value_counts().iloc[0]"
   ]
  },
  {
   "cell_type": "code",
   "execution_count": 43,
   "id": "a2fb737d-f957-42d8-8caf-15b2ff044bc3",
   "metadata": {},
   "outputs": [],
   "source": [
    "data['preference'].astype(object).value_counts()\n",
    "data.loc[pd.isna(data[\"preference\"]), \"preference\"] = data['preference'].astype(object).value_counts().iloc[0]"
   ]
  },
  {
   "cell_type": "code",
   "execution_count": 44,
   "id": "c44dc177-b899-4500-a792-460db013830c",
   "metadata": {},
   "outputs": [],
   "source": [
    "data['budget'].astype(object).value_counts()\n",
    "data.loc[pd.isna(data[\"budget\"]), \"budget\"] = data['budget'].astype(object).value_counts().iloc[0]"
   ]
  },
  {
   "cell_type": "code",
   "execution_count": 45,
   "id": "5f808207-8eba-42cc-895e-ffa6ad6cada3",
   "metadata": {},
   "outputs": [
    {
     "data": {
      "text/plain": [
       "gender                                                                             0\n",
       "age                                                                                0\n",
       "occupation                                                                         0\n",
       "interest                                                                           0\n",
       "purchase                                                                           0\n",
       "products                                                                           0\n",
       "money_spent                                                                        0\n",
       "fashion_segments                                                                   0\n",
       "customer_decision:_price                                                           1\n",
       "customer_decision:_style                                                           0\n",
       "customer_decision:_quality                                                         0\n",
       "customer_decision:_brand                                                           0\n",
       "customer_decision:_comfort                                                         0\n",
       "customer_decision:_sustainability                                                  0\n",
       "brand_familiarity:_ausweichoption_(negativ)_oder_anzahl_ausgewählter_optionen      0\n",
       "brand_familiarity:_zara                                                            0\n",
       "brand_familiarity:_h&m                                                             0\n",
       "brand_familiarity:_adidas                                                          0\n",
       "brand_familiarity:_patagonia                                                       0\n",
       "brand_familiarity:_uniqlo                                                          0\n",
       "brand_familiarity:_weekday                                                         0\n",
       "brand_familiarity:_all_of_them                                                     0\n",
       "interest.1                                                                         0\n",
       "industries                                                                         0\n",
       "information                                                                        0\n",
       "price_relevance                                                                    0\n",
       "price_readiness                                                                    0\n",
       "sustainable_option                                                                 0\n",
       "transparency                                                                       0\n",
       "recycle_:_ausweichoption_(negativ)_oder_anzahl_ausgewählter_optionen               0\n",
       "recycle_:_recycling/upcycling_of_clothing                                          0\n",
       "recycle_:_purchasing_second-hand/vintage_clothing                                  0\n",
       "recycle_:_purchasing_sustainable_clothing                                          0\n",
       "recycle_:_none                                                                     0\n",
       "sustainable_brands:_[01]                                                         144\n",
       "preference                                                                         0\n",
       "budget                                                                             0\n",
       "dtype: int64"
      ]
     },
     "execution_count": 45,
     "metadata": {},
     "output_type": "execute_result"
    }
   ],
   "source": [
    "data.isna().sum()"
   ]
  },
  {
   "cell_type": "code",
   "execution_count": 46,
   "id": "5daffeb5-050c-4a6c-8d24-948c60e6dcdd",
   "metadata": {},
   "outputs": [],
   "source": [
    "### categorizar la variable sustainable_brands"
   ]
  },
  {
   "cell_type": "code",
   "execution_count": 47,
   "id": "f4174e7a-fd09-4093-bf13-88b9429633e7",
   "metadata": {},
   "outputs": [],
   "source": [
    "def split_brands(x):\n",
    "    try:\n",
    "        return x.split()\n",
    "    except:\n",
    "        return 'other'"
   ]
  },
  {
   "cell_type": "code",
   "execution_count": null,
   "id": "50e1ff14-7396-4d87-936f-6bf114745ff0",
   "metadata": {},
   "outputs": [],
   "source": []
  },
  {
   "cell_type": "code",
   "execution_count": 48,
   "id": "7dcb9efb-a914-4f2b-bb28-93cf99dda795",
   "metadata": {},
   "outputs": [
    {
     "data": {
      "text/plain": [
       "0                            other\n",
       "1                           [Zara]\n",
       "2                      [Timbaland]\n",
       "3                      [Patagonia]\n",
       "4                            other\n",
       "                  ...             \n",
       "197                          other\n",
       "198                          other\n",
       "199                          other\n",
       "200                          other\n",
       "201    [underarmour, avocadostore]\n",
       "Name: sustainable_brands:_[01], Length: 202, dtype: object"
      ]
     },
     "execution_count": 48,
     "metadata": {},
     "output_type": "execute_result"
    }
   ],
   "source": [
    "data[\"sustainable_brands:_[01]\"].apply(split_brands)"
   ]
  },
  {
   "cell_type": "code",
   "execution_count": 52,
   "id": "fb6791a1-1c61-4e19-851c-b021b8fc13f0",
   "metadata": {},
   "outputs": [],
   "source": [
    "data.loc[pd.isna(data[\"sustainable_brands:_[01]\"]), \"sustainable_brands:_[01]\"] = 0"
   ]
  },
  {
   "cell_type": "code",
   "execution_count": 53,
   "id": "38b5676d-7606-4a29-917a-563fe4bb2bfb",
   "metadata": {},
   "outputs": [
    {
     "name": "stderr",
     "output_type": "stream",
     "text": [
      "C:\\Users\\EB725YF\\AppData\\Local\\Temp\\ipykernel_20772\\2070580491.py:1: SettingWithCopyWarning: \n",
      "A value is trying to be set on a copy of a slice from a DataFrame.\n",
      "Try using .loc[row_indexer,col_indexer] = value instead\n",
      "\n",
      "See the caveats in the documentation: https://pandas.pydata.org/pandas-docs/stable/user_guide/indexing.html#returning-a-view-versus-a-copy\n",
      "  data['sustainable_brands:_[01]'] = pd.Series(data['sustainable_brands:_[01]']).str.lower()\n"
     ]
    }
   ],
   "source": [
    "data['sustainable_brands:_[01]'] = pd.Series(data['sustainable_brands:_[01]']).str.lower()"
   ]
  },
  {
   "cell_type": "code",
   "execution_count": 67,
   "id": "fea72e7f-0eaa-43e5-81a9-3d30c8e6d6ca",
   "metadata": {},
   "outputs": [
    {
     "data": {
      "text/plain": [
       "array(['timbaland', 'patagonia', nan, 'none', 'blue seven', 'resales',\n",
       "       'nike', 'adidas', \"levi's patagonia\", 'alohas', 'ice breaker',\n",
       "       'na', 'carla fernandez', 'timberland', 'levis',\n",
       "       'zara jcrew  anthropology', 'boss', 'tesla', 'columbia',\n",
       "       'armed angels', 'tommy  levis adidas nike puma', 'h&m', 'natura',\n",
       "       'hibuy', 'polo', 'zara', 'too faced', 'organic basics',\n",
       "       'focus green (colombia)', 'el natura lista', 'focus-green',\n",
       "       'a lot less', 'rothys', 'humana', 'toms', 'converse nike', 'maje',\n",
       "       'holymeshq', 'quicksilver', 'underarmour avocadostore', 'gap'],\n",
       "      dtype=object)"
      ]
     },
     "execution_count": 67,
     "metadata": {},
     "output_type": "execute_result"
    }
   ],
   "source": [
    "data['sustainable_brands:_[01]'].unique()"
   ]
  },
  {
   "cell_type": "code",
   "execution_count": 55,
   "id": "10a175a3-a3db-439e-983f-edebb4221035",
   "metadata": {},
   "outputs": [
    {
     "data": {
      "text/html": [
       "<div>\n",
       "<style scoped>\n",
       "    .dataframe tbody tr th:only-of-type {\n",
       "        vertical-align: middle;\n",
       "    }\n",
       "\n",
       "    .dataframe tbody tr th {\n",
       "        vertical-align: top;\n",
       "    }\n",
       "\n",
       "    .dataframe thead th {\n",
       "        text-align: right;\n",
       "    }\n",
       "</style>\n",
       "<table border=\"1\" class=\"dataframe\">\n",
       "  <thead>\n",
       "    <tr style=\"text-align: right;\">\n",
       "      <th></th>\n",
       "      <th>gender</th>\n",
       "      <th>age</th>\n",
       "      <th>occupation</th>\n",
       "      <th>interest</th>\n",
       "      <th>purchase</th>\n",
       "      <th>products</th>\n",
       "      <th>money_spent</th>\n",
       "      <th>fashion_segments</th>\n",
       "      <th>customer_decision:_price</th>\n",
       "      <th>customer_decision:_style</th>\n",
       "      <th>...</th>\n",
       "      <th>sustainable_option</th>\n",
       "      <th>transparency</th>\n",
       "      <th>recycle_:_ausweichoption_(negativ)_oder_anzahl_ausgewählter_optionen</th>\n",
       "      <th>recycle_:_recycling/upcycling_of_clothing</th>\n",
       "      <th>recycle_:_purchasing_second-hand/vintage_clothing</th>\n",
       "      <th>recycle_:_purchasing_sustainable_clothing</th>\n",
       "      <th>recycle_:_none</th>\n",
       "      <th>sustainable_brands:_[01]</th>\n",
       "      <th>preference</th>\n",
       "      <th>budget</th>\n",
       "    </tr>\n",
       "  </thead>\n",
       "  <tbody>\n",
       "    <tr>\n",
       "      <th>0</th>\n",
       "      <td>2</td>\n",
       "      <td>2.0</td>\n",
       "      <td>1.0</td>\n",
       "      <td>1.0</td>\n",
       "      <td>1.0</td>\n",
       "      <td>4.0</td>\n",
       "      <td>1.0</td>\n",
       "      <td>2.0</td>\n",
       "      <td>2.0</td>\n",
       "      <td>2.0</td>\n",
       "      <td>...</td>\n",
       "      <td>2.0</td>\n",
       "      <td>1.0</td>\n",
       "      <td>1.0</td>\n",
       "      <td>2.0</td>\n",
       "      <td>1.0</td>\n",
       "      <td>1.0</td>\n",
       "      <td>1.0</td>\n",
       "      <td>NaN</td>\n",
       "      <td>2.0</td>\n",
       "      <td>4.0</td>\n",
       "    </tr>\n",
       "    <tr>\n",
       "      <th>1</th>\n",
       "      <td>1</td>\n",
       "      <td>2.0</td>\n",
       "      <td>1.0</td>\n",
       "      <td>1.0</td>\n",
       "      <td>2.0</td>\n",
       "      <td>3.0</td>\n",
       "      <td>2.0</td>\n",
       "      <td>3.0</td>\n",
       "      <td>2.0</td>\n",
       "      <td>1.0</td>\n",
       "      <td>...</td>\n",
       "      <td>5.0</td>\n",
       "      <td>1.0</td>\n",
       "      <td>1.0</td>\n",
       "      <td>1.0</td>\n",
       "      <td>2.0</td>\n",
       "      <td>1.0</td>\n",
       "      <td>1.0</td>\n",
       "      <td>zara</td>\n",
       "      <td>1.0</td>\n",
       "      <td>5.0</td>\n",
       "    </tr>\n",
       "    <tr>\n",
       "      <th>2</th>\n",
       "      <td>2</td>\n",
       "      <td>2.0</td>\n",
       "      <td>1.0</td>\n",
       "      <td>2.0</td>\n",
       "      <td>1.0</td>\n",
       "      <td>3.0</td>\n",
       "      <td>1.0</td>\n",
       "      <td>3.0</td>\n",
       "      <td>1.0</td>\n",
       "      <td>2.0</td>\n",
       "      <td>...</td>\n",
       "      <td>5.0</td>\n",
       "      <td>1.0</td>\n",
       "      <td>1.0</td>\n",
       "      <td>1.0</td>\n",
       "      <td>1.0</td>\n",
       "      <td>2.0</td>\n",
       "      <td>1.0</td>\n",
       "      <td>timbaland</td>\n",
       "      <td>1.0</td>\n",
       "      <td>5.0</td>\n",
       "    </tr>\n",
       "    <tr>\n",
       "      <th>3</th>\n",
       "      <td>1</td>\n",
       "      <td>1.0</td>\n",
       "      <td>1.0</td>\n",
       "      <td>1.0</td>\n",
       "      <td>2.0</td>\n",
       "      <td>4.0</td>\n",
       "      <td>1.0</td>\n",
       "      <td>2.0</td>\n",
       "      <td>2.0</td>\n",
       "      <td>1.0</td>\n",
       "      <td>...</td>\n",
       "      <td>7.0</td>\n",
       "      <td>1.0</td>\n",
       "      <td>1.0</td>\n",
       "      <td>1.0</td>\n",
       "      <td>2.0</td>\n",
       "      <td>1.0</td>\n",
       "      <td>1.0</td>\n",
       "      <td>patagonia</td>\n",
       "      <td>2.0</td>\n",
       "      <td>5.0</td>\n",
       "    </tr>\n",
       "    <tr>\n",
       "      <th>4</th>\n",
       "      <td>1</td>\n",
       "      <td>2.0</td>\n",
       "      <td>1.0</td>\n",
       "      <td>1.0</td>\n",
       "      <td>2.0</td>\n",
       "      <td>3.0</td>\n",
       "      <td>2.0</td>\n",
       "      <td>2.0</td>\n",
       "      <td>2.0</td>\n",
       "      <td>1.0</td>\n",
       "      <td>...</td>\n",
       "      <td>5.0</td>\n",
       "      <td>1.0</td>\n",
       "      <td>2.0</td>\n",
       "      <td>2.0</td>\n",
       "      <td>2.0</td>\n",
       "      <td>1.0</td>\n",
       "      <td>1.0</td>\n",
       "      <td>NaN</td>\n",
       "      <td>1.0</td>\n",
       "      <td>3.0</td>\n",
       "    </tr>\n",
       "    <tr>\n",
       "      <th>...</th>\n",
       "      <td>...</td>\n",
       "      <td>...</td>\n",
       "      <td>...</td>\n",
       "      <td>...</td>\n",
       "      <td>...</td>\n",
       "      <td>...</td>\n",
       "      <td>...</td>\n",
       "      <td>...</td>\n",
       "      <td>...</td>\n",
       "      <td>...</td>\n",
       "      <td>...</td>\n",
       "      <td>...</td>\n",
       "      <td>...</td>\n",
       "      <td>...</td>\n",
       "      <td>...</td>\n",
       "      <td>...</td>\n",
       "      <td>...</td>\n",
       "      <td>...</td>\n",
       "      <td>...</td>\n",
       "      <td>...</td>\n",
       "      <td>...</td>\n",
       "    </tr>\n",
       "    <tr>\n",
       "      <th>197</th>\n",
       "      <td>1</td>\n",
       "      <td>3.0</td>\n",
       "      <td>3.0</td>\n",
       "      <td>1.0</td>\n",
       "      <td>1.0</td>\n",
       "      <td>4.0</td>\n",
       "      <td>1.0</td>\n",
       "      <td>1.0</td>\n",
       "      <td>1.0</td>\n",
       "      <td>3.0</td>\n",
       "      <td>...</td>\n",
       "      <td>5.0</td>\n",
       "      <td>2.0</td>\n",
       "      <td>1.0</td>\n",
       "      <td>1.0</td>\n",
       "      <td>2.0</td>\n",
       "      <td>1.0</td>\n",
       "      <td>1.0</td>\n",
       "      <td>NaN</td>\n",
       "      <td>1.0</td>\n",
       "      <td>4.0</td>\n",
       "    </tr>\n",
       "    <tr>\n",
       "      <th>198</th>\n",
       "      <td>1</td>\n",
       "      <td>3.0</td>\n",
       "      <td>4.0</td>\n",
       "      <td>1.0</td>\n",
       "      <td>2.0</td>\n",
       "      <td>1.0</td>\n",
       "      <td>3.0</td>\n",
       "      <td>4.0</td>\n",
       "      <td>3.0</td>\n",
       "      <td>1.0</td>\n",
       "      <td>...</td>\n",
       "      <td>5.0</td>\n",
       "      <td>1.0</td>\n",
       "      <td>1.0</td>\n",
       "      <td>1.0</td>\n",
       "      <td>2.0</td>\n",
       "      <td>1.0</td>\n",
       "      <td>1.0</td>\n",
       "      <td>NaN</td>\n",
       "      <td>4.0</td>\n",
       "      <td>5.0</td>\n",
       "    </tr>\n",
       "    <tr>\n",
       "      <th>199</th>\n",
       "      <td>2</td>\n",
       "      <td>1.0</td>\n",
       "      <td>1.0</td>\n",
       "      <td>1.0</td>\n",
       "      <td>2.0</td>\n",
       "      <td>4.0</td>\n",
       "      <td>1.0</td>\n",
       "      <td>3.0</td>\n",
       "      <td>1.0</td>\n",
       "      <td>1.0</td>\n",
       "      <td>...</td>\n",
       "      <td>8.0</td>\n",
       "      <td>2.0</td>\n",
       "      <td>1.0</td>\n",
       "      <td>1.0</td>\n",
       "      <td>2.0</td>\n",
       "      <td>1.0</td>\n",
       "      <td>1.0</td>\n",
       "      <td>NaN</td>\n",
       "      <td>1.0</td>\n",
       "      <td>3.0</td>\n",
       "    </tr>\n",
       "    <tr>\n",
       "      <th>200</th>\n",
       "      <td>2</td>\n",
       "      <td>2.0</td>\n",
       "      <td>1.0</td>\n",
       "      <td>1.0</td>\n",
       "      <td>1.0</td>\n",
       "      <td>3.0</td>\n",
       "      <td>1.0</td>\n",
       "      <td>2.0</td>\n",
       "      <td>2.0</td>\n",
       "      <td>1.0</td>\n",
       "      <td>...</td>\n",
       "      <td>2.0</td>\n",
       "      <td>1.0</td>\n",
       "      <td>2.0</td>\n",
       "      <td>2.0</td>\n",
       "      <td>2.0</td>\n",
       "      <td>1.0</td>\n",
       "      <td>1.0</td>\n",
       "      <td>NaN</td>\n",
       "      <td>3.0</td>\n",
       "      <td>4.0</td>\n",
       "    </tr>\n",
       "    <tr>\n",
       "      <th>201</th>\n",
       "      <td>1</td>\n",
       "      <td>2.0</td>\n",
       "      <td>1.0</td>\n",
       "      <td>1.0</td>\n",
       "      <td>2.0</td>\n",
       "      <td>3.0</td>\n",
       "      <td>2.0</td>\n",
       "      <td>2.0</td>\n",
       "      <td>2.0</td>\n",
       "      <td>2.0</td>\n",
       "      <td>...</td>\n",
       "      <td>7.0</td>\n",
       "      <td>1.0</td>\n",
       "      <td>3.0</td>\n",
       "      <td>2.0</td>\n",
       "      <td>2.0</td>\n",
       "      <td>2.0</td>\n",
       "      <td>1.0</td>\n",
       "      <td>underarmour avocadostore</td>\n",
       "      <td>6.0</td>\n",
       "      <td>5.0</td>\n",
       "    </tr>\n",
       "  </tbody>\n",
       "</table>\n",
       "<p>202 rows × 37 columns</p>\n",
       "</div>"
      ],
      "text/plain": [
       "    gender  age  occupation  interest  purchase  products  money_spent  \\\n",
       "0        2  2.0         1.0       1.0       1.0       4.0          1.0   \n",
       "1        1  2.0         1.0       1.0       2.0       3.0          2.0   \n",
       "2        2  2.0         1.0       2.0       1.0       3.0          1.0   \n",
       "3        1  1.0         1.0       1.0       2.0       4.0          1.0   \n",
       "4        1  2.0         1.0       1.0       2.0       3.0          2.0   \n",
       "..     ...  ...         ...       ...       ...       ...          ...   \n",
       "197      1  3.0         3.0       1.0       1.0       4.0          1.0   \n",
       "198      1  3.0         4.0       1.0       2.0       1.0          3.0   \n",
       "199      2  1.0         1.0       1.0       2.0       4.0          1.0   \n",
       "200      2  2.0         1.0       1.0       1.0       3.0          1.0   \n",
       "201      1  2.0         1.0       1.0       2.0       3.0          2.0   \n",
       "\n",
       "     fashion_segments  customer_decision:_price  customer_decision:_style  \\\n",
       "0                 2.0                       2.0                       2.0   \n",
       "1                 3.0                       2.0                       1.0   \n",
       "2                 3.0                       1.0                       2.0   \n",
       "3                 2.0                       2.0                       1.0   \n",
       "4                 2.0                       2.0                       1.0   \n",
       "..                ...                       ...                       ...   \n",
       "197               1.0                       1.0                       3.0   \n",
       "198               4.0                       3.0                       1.0   \n",
       "199               3.0                       1.0                       1.0   \n",
       "200               2.0                       2.0                       1.0   \n",
       "201               2.0                       2.0                       2.0   \n",
       "\n",
       "     ...  sustainable_option  transparency  \\\n",
       "0    ...                 2.0           1.0   \n",
       "1    ...                 5.0           1.0   \n",
       "2    ...                 5.0           1.0   \n",
       "3    ...                 7.0           1.0   \n",
       "4    ...                 5.0           1.0   \n",
       "..   ...                 ...           ...   \n",
       "197  ...                 5.0           2.0   \n",
       "198  ...                 5.0           1.0   \n",
       "199  ...                 8.0           2.0   \n",
       "200  ...                 2.0           1.0   \n",
       "201  ...                 7.0           1.0   \n",
       "\n",
       "     recycle_:_ausweichoption_(negativ)_oder_anzahl_ausgewählter_optionen  \\\n",
       "0                                                  1.0                      \n",
       "1                                                  1.0                      \n",
       "2                                                  1.0                      \n",
       "3                                                  1.0                      \n",
       "4                                                  2.0                      \n",
       "..                                                 ...                      \n",
       "197                                                1.0                      \n",
       "198                                                1.0                      \n",
       "199                                                1.0                      \n",
       "200                                                2.0                      \n",
       "201                                                3.0                      \n",
       "\n",
       "     recycle_:_recycling/upcycling_of_clothing  \\\n",
       "0                                          2.0   \n",
       "1                                          1.0   \n",
       "2                                          1.0   \n",
       "3                                          1.0   \n",
       "4                                          2.0   \n",
       "..                                         ...   \n",
       "197                                        1.0   \n",
       "198                                        1.0   \n",
       "199                                        1.0   \n",
       "200                                        2.0   \n",
       "201                                        2.0   \n",
       "\n",
       "     recycle_:_purchasing_second-hand/vintage_clothing  \\\n",
       "0                                                  1.0   \n",
       "1                                                  2.0   \n",
       "2                                                  1.0   \n",
       "3                                                  2.0   \n",
       "4                                                  2.0   \n",
       "..                                                 ...   \n",
       "197                                                2.0   \n",
       "198                                                2.0   \n",
       "199                                                2.0   \n",
       "200                                                2.0   \n",
       "201                                                2.0   \n",
       "\n",
       "     recycle_:_purchasing_sustainable_clothing  recycle_:_none  \\\n",
       "0                                          1.0             1.0   \n",
       "1                                          1.0             1.0   \n",
       "2                                          2.0             1.0   \n",
       "3                                          1.0             1.0   \n",
       "4                                          1.0             1.0   \n",
       "..                                         ...             ...   \n",
       "197                                        1.0             1.0   \n",
       "198                                        1.0             1.0   \n",
       "199                                        1.0             1.0   \n",
       "200                                        1.0             1.0   \n",
       "201                                        2.0             1.0   \n",
       "\n",
       "     sustainable_brands:_[01]  preference  budget  \n",
       "0                         NaN         2.0     4.0  \n",
       "1                        zara         1.0     5.0  \n",
       "2                   timbaland         1.0     5.0  \n",
       "3                   patagonia         2.0     5.0  \n",
       "4                         NaN         1.0     3.0  \n",
       "..                        ...         ...     ...  \n",
       "197                       NaN         1.0     4.0  \n",
       "198                       NaN         4.0     5.0  \n",
       "199                       NaN         1.0     3.0  \n",
       "200                       NaN         3.0     4.0  \n",
       "201  underarmour avocadostore         6.0     5.0  \n",
       "\n",
       "[202 rows x 37 columns]"
      ]
     },
     "execution_count": 55,
     "metadata": {},
     "output_type": "execute_result"
    }
   ],
   "source": [
    "data"
   ]
  },
  {
   "cell_type": "code",
   "execution_count": null,
   "id": "504c7dc6-c9f0-4d8f-9007-a7268b49fd1d",
   "metadata": {},
   "outputs": [],
   "source": [
    "### eliminar variables nan"
   ]
  },
  {
   "cell_type": "code",
   "execution_count": 56,
   "id": "be1bbda4-fb9c-4b29-9a99-a7f1821fcbe4",
   "metadata": {},
   "outputs": [
    {
     "data": {
      "text/html": [
       "<div>\n",
       "<style scoped>\n",
       "    .dataframe tbody tr th:only-of-type {\n",
       "        vertical-align: middle;\n",
       "    }\n",
       "\n",
       "    .dataframe tbody tr th {\n",
       "        vertical-align: top;\n",
       "    }\n",
       "\n",
       "    .dataframe thead th {\n",
       "        text-align: right;\n",
       "    }\n",
       "</style>\n",
       "<table border=\"1\" class=\"dataframe\">\n",
       "  <thead>\n",
       "    <tr style=\"text-align: right;\">\n",
       "      <th></th>\n",
       "      <th>gender</th>\n",
       "      <th>age</th>\n",
       "      <th>occupation</th>\n",
       "      <th>interest</th>\n",
       "      <th>purchase</th>\n",
       "      <th>products</th>\n",
       "      <th>money_spent</th>\n",
       "      <th>fashion_segments</th>\n",
       "      <th>customer_decision:_price</th>\n",
       "      <th>customer_decision:_style</th>\n",
       "      <th>...</th>\n",
       "      <th>sustainable_option</th>\n",
       "      <th>transparency</th>\n",
       "      <th>recycle_:_ausweichoption_(negativ)_oder_anzahl_ausgewählter_optionen</th>\n",
       "      <th>recycle_:_recycling/upcycling_of_clothing</th>\n",
       "      <th>recycle_:_purchasing_second-hand/vintage_clothing</th>\n",
       "      <th>recycle_:_purchasing_sustainable_clothing</th>\n",
       "      <th>recycle_:_none</th>\n",
       "      <th>sustainable_brands:_[01]</th>\n",
       "      <th>preference</th>\n",
       "      <th>budget</th>\n",
       "    </tr>\n",
       "  </thead>\n",
       "  <tbody>\n",
       "    <tr>\n",
       "      <th>1</th>\n",
       "      <td>1</td>\n",
       "      <td>2.0</td>\n",
       "      <td>1.0</td>\n",
       "      <td>1.0</td>\n",
       "      <td>2.0</td>\n",
       "      <td>3.0</td>\n",
       "      <td>2.0</td>\n",
       "      <td>3.0</td>\n",
       "      <td>2.0</td>\n",
       "      <td>1.0</td>\n",
       "      <td>...</td>\n",
       "      <td>5.0</td>\n",
       "      <td>1.0</td>\n",
       "      <td>1.0</td>\n",
       "      <td>1.0</td>\n",
       "      <td>2.0</td>\n",
       "      <td>1.0</td>\n",
       "      <td>1.0</td>\n",
       "      <td>zara</td>\n",
       "      <td>1.0</td>\n",
       "      <td>5.0</td>\n",
       "    </tr>\n",
       "    <tr>\n",
       "      <th>2</th>\n",
       "      <td>2</td>\n",
       "      <td>2.0</td>\n",
       "      <td>1.0</td>\n",
       "      <td>2.0</td>\n",
       "      <td>1.0</td>\n",
       "      <td>3.0</td>\n",
       "      <td>1.0</td>\n",
       "      <td>3.0</td>\n",
       "      <td>1.0</td>\n",
       "      <td>2.0</td>\n",
       "      <td>...</td>\n",
       "      <td>5.0</td>\n",
       "      <td>1.0</td>\n",
       "      <td>1.0</td>\n",
       "      <td>1.0</td>\n",
       "      <td>1.0</td>\n",
       "      <td>2.0</td>\n",
       "      <td>1.0</td>\n",
       "      <td>timbaland</td>\n",
       "      <td>1.0</td>\n",
       "      <td>5.0</td>\n",
       "    </tr>\n",
       "    <tr>\n",
       "      <th>3</th>\n",
       "      <td>1</td>\n",
       "      <td>1.0</td>\n",
       "      <td>1.0</td>\n",
       "      <td>1.0</td>\n",
       "      <td>2.0</td>\n",
       "      <td>4.0</td>\n",
       "      <td>1.0</td>\n",
       "      <td>2.0</td>\n",
       "      <td>2.0</td>\n",
       "      <td>1.0</td>\n",
       "      <td>...</td>\n",
       "      <td>7.0</td>\n",
       "      <td>1.0</td>\n",
       "      <td>1.0</td>\n",
       "      <td>1.0</td>\n",
       "      <td>2.0</td>\n",
       "      <td>1.0</td>\n",
       "      <td>1.0</td>\n",
       "      <td>patagonia</td>\n",
       "      <td>2.0</td>\n",
       "      <td>5.0</td>\n",
       "    </tr>\n",
       "    <tr>\n",
       "      <th>4</th>\n",
       "      <td>1</td>\n",
       "      <td>2.0</td>\n",
       "      <td>1.0</td>\n",
       "      <td>1.0</td>\n",
       "      <td>2.0</td>\n",
       "      <td>3.0</td>\n",
       "      <td>2.0</td>\n",
       "      <td>2.0</td>\n",
       "      <td>2.0</td>\n",
       "      <td>1.0</td>\n",
       "      <td>...</td>\n",
       "      <td>5.0</td>\n",
       "      <td>1.0</td>\n",
       "      <td>2.0</td>\n",
       "      <td>2.0</td>\n",
       "      <td>2.0</td>\n",
       "      <td>1.0</td>\n",
       "      <td>1.0</td>\n",
       "      <td>NaN</td>\n",
       "      <td>1.0</td>\n",
       "      <td>3.0</td>\n",
       "    </tr>\n",
       "    <tr>\n",
       "      <th>5</th>\n",
       "      <td>1</td>\n",
       "      <td>2.0</td>\n",
       "      <td>1.0</td>\n",
       "      <td>1.0</td>\n",
       "      <td>1.0</td>\n",
       "      <td>4.0</td>\n",
       "      <td>1.0</td>\n",
       "      <td>3.0</td>\n",
       "      <td>2.0</td>\n",
       "      <td>1.0</td>\n",
       "      <td>...</td>\n",
       "      <td>5.0</td>\n",
       "      <td>1.0</td>\n",
       "      <td>1.0</td>\n",
       "      <td>2.0</td>\n",
       "      <td>1.0</td>\n",
       "      <td>1.0</td>\n",
       "      <td>1.0</td>\n",
       "      <td>patagonia</td>\n",
       "      <td>1.0</td>\n",
       "      <td>4.0</td>\n",
       "    </tr>\n",
       "    <tr>\n",
       "      <th>...</th>\n",
       "      <td>...</td>\n",
       "      <td>...</td>\n",
       "      <td>...</td>\n",
       "      <td>...</td>\n",
       "      <td>...</td>\n",
       "      <td>...</td>\n",
       "      <td>...</td>\n",
       "      <td>...</td>\n",
       "      <td>...</td>\n",
       "      <td>...</td>\n",
       "      <td>...</td>\n",
       "      <td>...</td>\n",
       "      <td>...</td>\n",
       "      <td>...</td>\n",
       "      <td>...</td>\n",
       "      <td>...</td>\n",
       "      <td>...</td>\n",
       "      <td>...</td>\n",
       "      <td>...</td>\n",
       "      <td>...</td>\n",
       "      <td>...</td>\n",
       "    </tr>\n",
       "    <tr>\n",
       "      <th>197</th>\n",
       "      <td>1</td>\n",
       "      <td>3.0</td>\n",
       "      <td>3.0</td>\n",
       "      <td>1.0</td>\n",
       "      <td>1.0</td>\n",
       "      <td>4.0</td>\n",
       "      <td>1.0</td>\n",
       "      <td>1.0</td>\n",
       "      <td>1.0</td>\n",
       "      <td>3.0</td>\n",
       "      <td>...</td>\n",
       "      <td>5.0</td>\n",
       "      <td>2.0</td>\n",
       "      <td>1.0</td>\n",
       "      <td>1.0</td>\n",
       "      <td>2.0</td>\n",
       "      <td>1.0</td>\n",
       "      <td>1.0</td>\n",
       "      <td>NaN</td>\n",
       "      <td>1.0</td>\n",
       "      <td>4.0</td>\n",
       "    </tr>\n",
       "    <tr>\n",
       "      <th>198</th>\n",
       "      <td>1</td>\n",
       "      <td>3.0</td>\n",
       "      <td>4.0</td>\n",
       "      <td>1.0</td>\n",
       "      <td>2.0</td>\n",
       "      <td>1.0</td>\n",
       "      <td>3.0</td>\n",
       "      <td>4.0</td>\n",
       "      <td>3.0</td>\n",
       "      <td>1.0</td>\n",
       "      <td>...</td>\n",
       "      <td>5.0</td>\n",
       "      <td>1.0</td>\n",
       "      <td>1.0</td>\n",
       "      <td>1.0</td>\n",
       "      <td>2.0</td>\n",
       "      <td>1.0</td>\n",
       "      <td>1.0</td>\n",
       "      <td>NaN</td>\n",
       "      <td>4.0</td>\n",
       "      <td>5.0</td>\n",
       "    </tr>\n",
       "    <tr>\n",
       "      <th>199</th>\n",
       "      <td>2</td>\n",
       "      <td>1.0</td>\n",
       "      <td>1.0</td>\n",
       "      <td>1.0</td>\n",
       "      <td>2.0</td>\n",
       "      <td>4.0</td>\n",
       "      <td>1.0</td>\n",
       "      <td>3.0</td>\n",
       "      <td>1.0</td>\n",
       "      <td>1.0</td>\n",
       "      <td>...</td>\n",
       "      <td>8.0</td>\n",
       "      <td>2.0</td>\n",
       "      <td>1.0</td>\n",
       "      <td>1.0</td>\n",
       "      <td>2.0</td>\n",
       "      <td>1.0</td>\n",
       "      <td>1.0</td>\n",
       "      <td>NaN</td>\n",
       "      <td>1.0</td>\n",
       "      <td>3.0</td>\n",
       "    </tr>\n",
       "    <tr>\n",
       "      <th>200</th>\n",
       "      <td>2</td>\n",
       "      <td>2.0</td>\n",
       "      <td>1.0</td>\n",
       "      <td>1.0</td>\n",
       "      <td>1.0</td>\n",
       "      <td>3.0</td>\n",
       "      <td>1.0</td>\n",
       "      <td>2.0</td>\n",
       "      <td>2.0</td>\n",
       "      <td>1.0</td>\n",
       "      <td>...</td>\n",
       "      <td>2.0</td>\n",
       "      <td>1.0</td>\n",
       "      <td>2.0</td>\n",
       "      <td>2.0</td>\n",
       "      <td>2.0</td>\n",
       "      <td>1.0</td>\n",
       "      <td>1.0</td>\n",
       "      <td>NaN</td>\n",
       "      <td>3.0</td>\n",
       "      <td>4.0</td>\n",
       "    </tr>\n",
       "    <tr>\n",
       "      <th>201</th>\n",
       "      <td>1</td>\n",
       "      <td>2.0</td>\n",
       "      <td>1.0</td>\n",
       "      <td>1.0</td>\n",
       "      <td>2.0</td>\n",
       "      <td>3.0</td>\n",
       "      <td>2.0</td>\n",
       "      <td>2.0</td>\n",
       "      <td>2.0</td>\n",
       "      <td>2.0</td>\n",
       "      <td>...</td>\n",
       "      <td>7.0</td>\n",
       "      <td>1.0</td>\n",
       "      <td>3.0</td>\n",
       "      <td>2.0</td>\n",
       "      <td>2.0</td>\n",
       "      <td>2.0</td>\n",
       "      <td>1.0</td>\n",
       "      <td>underarmour avocadostore</td>\n",
       "      <td>6.0</td>\n",
       "      <td>5.0</td>\n",
       "    </tr>\n",
       "  </tbody>\n",
       "</table>\n",
       "<p>201 rows × 37 columns</p>\n",
       "</div>"
      ],
      "text/plain": [
       "    gender  age  occupation  interest  purchase  products  money_spent  \\\n",
       "1        1  2.0         1.0       1.0       2.0       3.0          2.0   \n",
       "2        2  2.0         1.0       2.0       1.0       3.0          1.0   \n",
       "3        1  1.0         1.0       1.0       2.0       4.0          1.0   \n",
       "4        1  2.0         1.0       1.0       2.0       3.0          2.0   \n",
       "5        1  2.0         1.0       1.0       1.0       4.0          1.0   \n",
       "..     ...  ...         ...       ...       ...       ...          ...   \n",
       "197      1  3.0         3.0       1.0       1.0       4.0          1.0   \n",
       "198      1  3.0         4.0       1.0       2.0       1.0          3.0   \n",
       "199      2  1.0         1.0       1.0       2.0       4.0          1.0   \n",
       "200      2  2.0         1.0       1.0       1.0       3.0          1.0   \n",
       "201      1  2.0         1.0       1.0       2.0       3.0          2.0   \n",
       "\n",
       "     fashion_segments  customer_decision:_price  customer_decision:_style  \\\n",
       "1                 3.0                       2.0                       1.0   \n",
       "2                 3.0                       1.0                       2.0   \n",
       "3                 2.0                       2.0                       1.0   \n",
       "4                 2.0                       2.0                       1.0   \n",
       "5                 3.0                       2.0                       1.0   \n",
       "..                ...                       ...                       ...   \n",
       "197               1.0                       1.0                       3.0   \n",
       "198               4.0                       3.0                       1.0   \n",
       "199               3.0                       1.0                       1.0   \n",
       "200               2.0                       2.0                       1.0   \n",
       "201               2.0                       2.0                       2.0   \n",
       "\n",
       "     ...  sustainable_option  transparency  \\\n",
       "1    ...                 5.0           1.0   \n",
       "2    ...                 5.0           1.0   \n",
       "3    ...                 7.0           1.0   \n",
       "4    ...                 5.0           1.0   \n",
       "5    ...                 5.0           1.0   \n",
       "..   ...                 ...           ...   \n",
       "197  ...                 5.0           2.0   \n",
       "198  ...                 5.0           1.0   \n",
       "199  ...                 8.0           2.0   \n",
       "200  ...                 2.0           1.0   \n",
       "201  ...                 7.0           1.0   \n",
       "\n",
       "     recycle_:_ausweichoption_(negativ)_oder_anzahl_ausgewählter_optionen  \\\n",
       "1                                                  1.0                      \n",
       "2                                                  1.0                      \n",
       "3                                                  1.0                      \n",
       "4                                                  2.0                      \n",
       "5                                                  1.0                      \n",
       "..                                                 ...                      \n",
       "197                                                1.0                      \n",
       "198                                                1.0                      \n",
       "199                                                1.0                      \n",
       "200                                                2.0                      \n",
       "201                                                3.0                      \n",
       "\n",
       "     recycle_:_recycling/upcycling_of_clothing  \\\n",
       "1                                          1.0   \n",
       "2                                          1.0   \n",
       "3                                          1.0   \n",
       "4                                          2.0   \n",
       "5                                          2.0   \n",
       "..                                         ...   \n",
       "197                                        1.0   \n",
       "198                                        1.0   \n",
       "199                                        1.0   \n",
       "200                                        2.0   \n",
       "201                                        2.0   \n",
       "\n",
       "     recycle_:_purchasing_second-hand/vintage_clothing  \\\n",
       "1                                                  2.0   \n",
       "2                                                  1.0   \n",
       "3                                                  2.0   \n",
       "4                                                  2.0   \n",
       "5                                                  1.0   \n",
       "..                                                 ...   \n",
       "197                                                2.0   \n",
       "198                                                2.0   \n",
       "199                                                2.0   \n",
       "200                                                2.0   \n",
       "201                                                2.0   \n",
       "\n",
       "     recycle_:_purchasing_sustainable_clothing  recycle_:_none  \\\n",
       "1                                          1.0             1.0   \n",
       "2                                          2.0             1.0   \n",
       "3                                          1.0             1.0   \n",
       "4                                          1.0             1.0   \n",
       "5                                          1.0             1.0   \n",
       "..                                         ...             ...   \n",
       "197                                        1.0             1.0   \n",
       "198                                        1.0             1.0   \n",
       "199                                        1.0             1.0   \n",
       "200                                        1.0             1.0   \n",
       "201                                        2.0             1.0   \n",
       "\n",
       "     sustainable_brands:_[01]  preference  budget  \n",
       "1                        zara         1.0     5.0  \n",
       "2                   timbaland         1.0     5.0  \n",
       "3                   patagonia         2.0     5.0  \n",
       "4                         NaN         1.0     3.0  \n",
       "5                   patagonia         1.0     4.0  \n",
       "..                        ...         ...     ...  \n",
       "197                       NaN         1.0     4.0  \n",
       "198                       NaN         4.0     5.0  \n",
       "199                       NaN         1.0     3.0  \n",
       "200                       NaN         3.0     4.0  \n",
       "201  underarmour avocadostore         6.0     5.0  \n",
       "\n",
       "[201 rows x 37 columns]"
      ]
     },
     "execution_count": 56,
     "metadata": {},
     "output_type": "execute_result"
    }
   ],
   "source": [
    "data = data.drop(data.index[0])\n",
    "data"
   ]
  },
  {
   "cell_type": "code",
   "execution_count": 57,
   "id": "1ee0e885-6fc4-4a13-9574-386cabc7e3f3",
   "metadata": {},
   "outputs": [
    {
     "data": {
      "text/plain": [
       "['gender',\n",
       " 'age',\n",
       " 'occupation',\n",
       " 'interest',\n",
       " 'purchase',\n",
       " 'products',\n",
       " 'money_spent',\n",
       " 'fashion_segments',\n",
       " 'customer_decision:_price',\n",
       " 'customer_decision:_style',\n",
       " 'customer_decision:_quality',\n",
       " 'customer_decision:_brand',\n",
       " 'customer_decision:_comfort',\n",
       " 'customer_decision:_sustainability',\n",
       " 'brand_familiarity:_ausweichoption_(negativ)_oder_anzahl_ausgewählter_optionen',\n",
       " 'brand_familiarity:_zara',\n",
       " 'brand_familiarity:_h&m',\n",
       " 'brand_familiarity:_adidas',\n",
       " 'brand_familiarity:_patagonia',\n",
       " 'brand_familiarity:_uniqlo',\n",
       " 'brand_familiarity:_weekday',\n",
       " 'brand_familiarity:_all_of_them',\n",
       " 'interest.1',\n",
       " 'industries',\n",
       " 'information',\n",
       " 'price_relevance',\n",
       " 'price_readiness',\n",
       " 'sustainable_option',\n",
       " 'transparency',\n",
       " 'recycle_:_ausweichoption_(negativ)_oder_anzahl_ausgewählter_optionen',\n",
       " 'recycle_:_recycling/upcycling_of_clothing',\n",
       " 'recycle_:_purchasing_second-hand/vintage_clothing',\n",
       " 'recycle_:_purchasing_sustainable_clothing',\n",
       " 'recycle_:_none',\n",
       " 'sustainable_brands:_[01]',\n",
       " 'preference',\n",
       " 'budget']"
      ]
     },
     "execution_count": 57,
     "metadata": {},
     "output_type": "execute_result"
    }
   ],
   "source": [
    "list(data.columns)"
   ]
  },
  {
   "cell_type": "code",
   "execution_count": 58,
   "id": "d75b82a6-d922-48dd-a9fc-2c7cd09eb1f5",
   "metadata": {},
   "outputs": [
    {
     "data": {
      "text/plain": [
       "(201, 37)"
      ]
     },
     "execution_count": 58,
     "metadata": {},
     "output_type": "execute_result"
    }
   ],
   "source": [
    "data.shape"
   ]
  },
  {
   "cell_type": "code",
   "execution_count": 59,
   "id": "6511522a-5561-4dd1-9290-1e5755ae669f",
   "metadata": {},
   "outputs": [
    {
     "data": {
      "text/plain": [
       "['gender',\n",
       " 'age',\n",
       " 'occupation',\n",
       " 'interest',\n",
       " 'purchase',\n",
       " 'products',\n",
       " 'money_spent',\n",
       " 'fashion_segments',\n",
       " 'customer_decision:_price',\n",
       " 'customer_decision:_style',\n",
       " 'customer_decision:_quality',\n",
       " 'customer_decision:_brand',\n",
       " 'customer_decision:_comfort',\n",
       " 'customer_decision:_sustainability',\n",
       " 'brand_familiarity:_ausweichoption_(negativ)_oder_anzahl_ausgewählter_optionen',\n",
       " 'brand_familiarity:_zara',\n",
       " 'brand_familiarity:_h&m',\n",
       " 'brand_familiarity:_adidas',\n",
       " 'brand_familiarity:_patagonia',\n",
       " 'brand_familiarity:_uniqlo',\n",
       " 'brand_familiarity:_weekday',\n",
       " 'brand_familiarity:_all_of_them',\n",
       " 'interest.1',\n",
       " 'industries',\n",
       " 'information',\n",
       " 'price_relevance',\n",
       " 'price_readiness',\n",
       " 'sustainable_option',\n",
       " 'transparency',\n",
       " 'recycle_:_ausweichoption_(negativ)_oder_anzahl_ausgewählter_optionen',\n",
       " 'recycle_:_recycling/upcycling_of_clothing',\n",
       " 'recycle_:_purchasing_second-hand/vintage_clothing',\n",
       " 'recycle_:_purchasing_sustainable_clothing',\n",
       " 'recycle_:_none',\n",
       " 'sustainable_brands:_[01]',\n",
       " 'preference',\n",
       " 'budget']"
      ]
     },
     "execution_count": 59,
     "metadata": {},
     "output_type": "execute_result"
    }
   ],
   "source": [
    "list(data.columns)"
   ]
  },
  {
   "cell_type": "code",
   "execution_count": 63,
   "id": "2ed4bd39-4eea-4c3d-ad33-f617735a8591",
   "metadata": {},
   "outputs": [
    {
     "name": "stdout",
     "output_type": "stream",
     "text": [
      "gender 18\n",
      "age 5\n",
      "occupation 6\n",
      "interest 3\n",
      "purchase 5\n",
      "products 5\n",
      "money_spent 7\n",
      "fashion_segments 6\n",
      "customer_decision:_price 6\n",
      "customer_decision:_style 5\n",
      "customer_decision:_quality 5\n",
      "customer_decision:_brand 5\n",
      "customer_decision:_comfort 5\n",
      "customer_decision:_sustainability 5\n",
      "brand_familiarity:_ausweichoption_(negativ)_oder_anzahl_ausgewählter_optionen 9\n",
      "brand_familiarity:_zara 3\n",
      "brand_familiarity:_h&m 3\n",
      "brand_familiarity:_adidas 3\n",
      "brand_familiarity:_patagonia 3\n",
      "brand_familiarity:_uniqlo 3\n",
      "brand_familiarity:_weekday 3\n",
      "brand_familiarity:_all_of_them 3\n",
      "interest.1 5\n",
      "industries 7\n",
      "information 3\n",
      "price_relevance 6\n",
      "price_readiness 3\n",
      "sustainable_option 8\n",
      "transparency 4\n",
      "recycle_:_ausweichoption_(negativ)_oder_anzahl_ausgewählter_optionen 5\n",
      "recycle_:_recycling/upcycling_of_clothing 3\n",
      "recycle_:_purchasing_second-hand/vintage_clothing 3\n",
      "recycle_:_purchasing_sustainable_clothing 3\n",
      "recycle_:_none 3\n",
      "sustainable_brands:_[01] 41\n",
      "preference 8\n",
      "budget 6\n"
     ]
    }
   ],
   "source": [
    "for columns in data.columns.tolist():        \n",
    "    print(columns, len(data[columns].unique()))"
   ]
  },
  {
   "cell_type": "code",
   "execution_count": null,
   "id": "218f1c4f-bc84-48a5-b949-533b65a6c459",
   "metadata": {},
   "outputs": [],
   "source": [
    "## correlación entre variables"
   ]
  },
  {
   "cell_type": "code",
   "execution_count": 64,
   "id": "aa5642c8-428c-4a0b-b570-7279553a2837",
   "metadata": {},
   "outputs": [
    {
     "name": "stderr",
     "output_type": "stream",
     "text": [
      "C:\\Users\\EB725YF\\AppData\\Local\\Temp\\ipykernel_20772\\3919514627.py:3: DeprecationWarning: `np.bool` is a deprecated alias for the builtin `bool`. To silence this warning, use `bool` by itself. Doing this will not modify any behavior and is safe. If you specifically wanted the numpy scalar type, use `np.bool_` here.\n",
      "Deprecated in NumPy 1.20; for more details and guidance: https://numpy.org/devdocs/release/1.20.0-notes.html#deprecations\n",
      "  mask=np.triu(np.ones_like(corr, dtype=np.bool))\n"
     ]
    }
   ],
   "source": [
    "import numpy as np \n",
    "corr=data.corr()      \n",
    "mask=np.triu(np.ones_like(corr, dtype=np.bool)) "
   ]
  },
  {
   "cell_type": "code",
   "execution_count": 65,
   "id": "18f01416-cf5e-489c-8e7e-0c835a1ec858",
   "metadata": {},
   "outputs": [
    {
     "data": {
      "image/png": "[encoded data removed]",
      "text/plain": [
       "<Figure size 1100x900 with 2 Axes>"
      ]
     },
     "metadata": {},
     "output_type": "display_data"
    }
   ],
   "source": [
    "f, ax=plt.subplots(figsize=(11, 9))                 \n",
    "cmap=sns.diverging_palette(220, 10, as_cmap=True) \n",
    "sns.heatmap(corr, mask=mask, cmap=cmap,             \n",
    "            vmax=.3, center=0, square=True,\n",
    "            linewidths=.5, cbar_kws={\"shrink\": .5});\n"
   ]
  },
  {
   "cell_type": "code",
   "execution_count": null,
   "id": "919bbf43-c1d0-4aaa-bd10-b4306272cc74",
   "metadata": {},
   "outputs": [],
   "source": [
    "### one hot encoding multiple"
   ]
  },
  {
   "cell_type": "code",
   "execution_count": null,
   "id": "b7671b61-73ea-4a03-bc19-2496dc92e4c5",
   "metadata": {},
   "outputs": [],
   "source": [
    "### Split"
   ]
  },
  {
   "cell_type": "code",
   "execution_count": 69,
   "id": "bac1e01f-168f-4d92-af7f-e26f217a8ed3",
   "metadata": {},
   "outputs": [
    {
     "data": {
      "text/plain": [
       "gender                                                                            object\n",
       "age                                                                              float64\n",
       "occupation                                                                       float64\n",
       "interest                                                                         float64\n",
       "purchase                                                                         float64\n",
       "products                                                                         float64\n",
       "money_spent                                                                      float64\n",
       "fashion_segments                                                                 float64\n",
       "customer_decision:_price                                                         float64\n",
       "customer_decision:_style                                                         float64\n",
       "customer_decision:_quality                                                       float64\n",
       "customer_decision:_brand                                                         float64\n",
       "customer_decision:_comfort                                                       float64\n",
       "customer_decision:_sustainability                                                float64\n",
       "brand_familiarity:_ausweichoption_(negativ)_oder_anzahl_ausgewählter_optionen    float64\n",
       "brand_familiarity:_zara                                                          float64\n",
       "brand_familiarity:_h&m                                                           float64\n",
       "brand_familiarity:_adidas                                                        float64\n",
       "brand_familiarity:_patagonia                                                     float64\n",
       "brand_familiarity:_uniqlo                                                        float64\n",
       "brand_familiarity:_weekday                                                       float64\n",
       "brand_familiarity:_all_of_them                                                   float64\n",
       "interest.1                                                                       float64\n",
       "industries                                                                       float64\n",
       "information                                                                      float64\n",
       "price_relevance                                                                  float64\n",
       "sustainable_option                                                               float64\n",
       "transparency                                                                     float64\n",
       "recycle_:_ausweichoption_(negativ)_oder_anzahl_ausgewählter_optionen             float64\n",
       "recycle_:_recycling/upcycling_of_clothing                                        float64\n",
       "recycle_:_purchasing_second-hand/vintage_clothing                                float64\n",
       "recycle_:_purchasing_sustainable_clothing                                        float64\n",
       "recycle_:_none                                                                   float64\n",
       "sustainable_brands:_[01]                                                          object\n",
       "preference                                                                       float64\n",
       "budget                                                                           float64\n",
       "dtype: object"
      ]
     },
     "execution_count": 69,
     "metadata": {},
     "output_type": "execute_result"
    }
   ],
   "source": [
    "data.dtypes"
   ]
  },
  {
   "cell_type": "code",
   "execution_count": 68,
   "id": "8236102e-8bb4-4a91-be2a-d3da2edd97ff",
   "metadata": {},
   "outputs": [
    {
     "ename": "ValueError",
     "evalue": "Input contains NaN, infinity or a value too large for dtype('float64').",
     "output_type": "error",
     "traceback": [
      "\u001b[1;31m---------------------------------------------------------------------------\u001b[0m",
      "\u001b[1;31mValueError\u001b[0m                                Traceback (most recent call last)",
      "\u001b[1;32m~\\AppData\\Local\\Temp\\ipykernel_20772\\1918425904.py\u001b[0m in \u001b[0;36m<module>\u001b[1;34m\u001b[0m\n\u001b[0;32m      3\u001b[0m \u001b[0mX_num\u001b[0m \u001b[1;33m=\u001b[0m \u001b[0mdata\u001b[0m\u001b[1;33m.\u001b[0m\u001b[0mselect_dtypes\u001b[0m\u001b[1;33m(\u001b[0m\u001b[0minclude\u001b[0m \u001b[1;33m=\u001b[0m \u001b[0mnp\u001b[0m\u001b[1;33m.\u001b[0m\u001b[0mnumber\u001b[0m\u001b[1;33m)\u001b[0m\u001b[1;33m\u001b[0m\u001b[1;33m\u001b[0m\u001b[0m\n\u001b[0;32m      4\u001b[0m \u001b[1;32mfrom\u001b[0m \u001b[0msklearn\u001b[0m\u001b[1;33m.\u001b[0m\u001b[0mpreprocessing\u001b[0m \u001b[1;32mimport\u001b[0m \u001b[0mNormalizer\u001b[0m\u001b[1;33m\u001b[0m\u001b[1;33m\u001b[0m\u001b[0m\n\u001b[1;32m----> 5\u001b[1;33m \u001b[0mtransformer\u001b[0m \u001b[1;33m=\u001b[0m \u001b[0mNormalizer\u001b[0m\u001b[1;33m(\u001b[0m\u001b[1;33m)\u001b[0m\u001b[1;33m.\u001b[0m\u001b[0mfit\u001b[0m\u001b[1;33m(\u001b[0m\u001b[0mX_num\u001b[0m\u001b[1;33m)\u001b[0m\u001b[1;33m\u001b[0m\u001b[1;33m\u001b[0m\u001b[0m\n\u001b[0m\u001b[0;32m      6\u001b[0m \u001b[0mx_normalized\u001b[0m \u001b[1;33m=\u001b[0m \u001b[0mtransformer\u001b[0m\u001b[1;33m.\u001b[0m\u001b[0mtransform\u001b[0m\u001b[1;33m(\u001b[0m\u001b[0mX_num\u001b[0m\u001b[1;33m)\u001b[0m\u001b[1;33m\u001b[0m\u001b[1;33m\u001b[0m\u001b[0m\n\u001b[0;32m      7\u001b[0m \u001b[0mprint\u001b[0m\u001b[1;33m(\u001b[0m\u001b[0mx_normalized\u001b[0m\u001b[1;33m.\u001b[0m\u001b[0mshape\u001b[0m\u001b[1;33m)\u001b[0m\u001b[1;33m\u001b[0m\u001b[1;33m\u001b[0m\u001b[0m\n",
      "\u001b[1;32m~\\Anaconda\\lib\\site-packages\\sklearn\\preprocessing\\_data.py\u001b[0m in \u001b[0;36mfit\u001b[1;34m(self, X, y)\u001b[0m\n\u001b[0;32m   1931\u001b[0m             \u001b[0mFitted\u001b[0m \u001b[0mtransformer\u001b[0m\u001b[1;33m.\u001b[0m\u001b[1;33m\u001b[0m\u001b[1;33m\u001b[0m\u001b[0m\n\u001b[0;32m   1932\u001b[0m         \"\"\"\n\u001b[1;32m-> 1933\u001b[1;33m         \u001b[0mself\u001b[0m\u001b[1;33m.\u001b[0m\u001b[0m_validate_data\u001b[0m\u001b[1;33m(\u001b[0m\u001b[0mX\u001b[0m\u001b[1;33m,\u001b[0m \u001b[0maccept_sparse\u001b[0m\u001b[1;33m=\u001b[0m\u001b[1;34m\"csr\"\u001b[0m\u001b[1;33m)\u001b[0m\u001b[1;33m\u001b[0m\u001b[1;33m\u001b[0m\u001b[0m\n\u001b[0m\u001b[0;32m   1934\u001b[0m         \u001b[1;32mreturn\u001b[0m \u001b[0mself\u001b[0m\u001b[1;33m\u001b[0m\u001b[1;33m\u001b[0m\u001b[0m\n\u001b[0;32m   1935\u001b[0m \u001b[1;33m\u001b[0m\u001b[0m\n",
      "\u001b[1;32m~\\Anaconda\\lib\\site-packages\\sklearn\\base.py\u001b[0m in \u001b[0;36m_validate_data\u001b[1;34m(self, X, y, reset, validate_separately, **check_params)\u001b[0m\n\u001b[0;32m    564\u001b[0m             \u001b[1;32mraise\u001b[0m \u001b[0mValueError\u001b[0m\u001b[1;33m(\u001b[0m\u001b[1;34m\"Validation should be done on X, y or both.\"\u001b[0m\u001b[1;33m)\u001b[0m\u001b[1;33m\u001b[0m\u001b[1;33m\u001b[0m\u001b[0m\n\u001b[0;32m    565\u001b[0m         \u001b[1;32melif\u001b[0m \u001b[1;32mnot\u001b[0m \u001b[0mno_val_X\u001b[0m \u001b[1;32mand\u001b[0m \u001b[0mno_val_y\u001b[0m\u001b[1;33m:\u001b[0m\u001b[1;33m\u001b[0m\u001b[1;33m\u001b[0m\u001b[0m\n\u001b[1;32m--> 566\u001b[1;33m             \u001b[0mX\u001b[0m \u001b[1;33m=\u001b[0m \u001b[0mcheck_array\u001b[0m\u001b[1;33m(\u001b[0m\u001b[0mX\u001b[0m\u001b[1;33m,\u001b[0m \u001b[1;33m**\u001b[0m\u001b[0mcheck_params\u001b[0m\u001b[1;33m)\u001b[0m\u001b[1;33m\u001b[0m\u001b[1;33m\u001b[0m\u001b[0m\n\u001b[0m\u001b[0;32m    567\u001b[0m             \u001b[0mout\u001b[0m \u001b[1;33m=\u001b[0m \u001b[0mX\u001b[0m\u001b[1;33m\u001b[0m\u001b[1;33m\u001b[0m\u001b[0m\n\u001b[0;32m    568\u001b[0m         \u001b[1;32melif\u001b[0m \u001b[0mno_val_X\u001b[0m \u001b[1;32mand\u001b[0m \u001b[1;32mnot\u001b[0m \u001b[0mno_val_y\u001b[0m\u001b[1;33m:\u001b[0m\u001b[1;33m\u001b[0m\u001b[1;33m\u001b[0m\u001b[0m\n",
      "\u001b[1;32m~\\Anaconda\\lib\\site-packages\\sklearn\\utils\\validation.py\u001b[0m in \u001b[0;36mcheck_array\u001b[1;34m(array, accept_sparse, accept_large_sparse, dtype, order, copy, force_all_finite, ensure_2d, allow_nd, ensure_min_samples, ensure_min_features, estimator)\u001b[0m\n\u001b[0;32m    798\u001b[0m \u001b[1;33m\u001b[0m\u001b[0m\n\u001b[0;32m    799\u001b[0m         \u001b[1;32mif\u001b[0m \u001b[0mforce_all_finite\u001b[0m\u001b[1;33m:\u001b[0m\u001b[1;33m\u001b[0m\u001b[1;33m\u001b[0m\u001b[0m\n\u001b[1;32m--> 800\u001b[1;33m             \u001b[0m_assert_all_finite\u001b[0m\u001b[1;33m(\u001b[0m\u001b[0marray\u001b[0m\u001b[1;33m,\u001b[0m \u001b[0mallow_nan\u001b[0m\u001b[1;33m=\u001b[0m\u001b[0mforce_all_finite\u001b[0m \u001b[1;33m==\u001b[0m \u001b[1;34m\"allow-nan\"\u001b[0m\u001b[1;33m)\u001b[0m\u001b[1;33m\u001b[0m\u001b[1;33m\u001b[0m\u001b[0m\n\u001b[0m\u001b[0;32m    801\u001b[0m \u001b[1;33m\u001b[0m\u001b[0m\n\u001b[0;32m    802\u001b[0m     \u001b[1;32mif\u001b[0m \u001b[0mensure_min_samples\u001b[0m \u001b[1;33m>\u001b[0m \u001b[1;36m0\u001b[0m\u001b[1;33m:\u001b[0m\u001b[1;33m\u001b[0m\u001b[1;33m\u001b[0m\u001b[0m\n",
      "\u001b[1;32m~\\Anaconda\\lib\\site-packages\\sklearn\\utils\\validation.py\u001b[0m in \u001b[0;36m_assert_all_finite\u001b[1;34m(X, allow_nan, msg_dtype)\u001b[0m\n\u001b[0;32m    112\u001b[0m         ):\n\u001b[0;32m    113\u001b[0m             \u001b[0mtype_err\u001b[0m \u001b[1;33m=\u001b[0m \u001b[1;34m\"infinity\"\u001b[0m \u001b[1;32mif\u001b[0m \u001b[0mallow_nan\u001b[0m \u001b[1;32melse\u001b[0m \u001b[1;34m\"NaN, infinity\"\u001b[0m\u001b[1;33m\u001b[0m\u001b[1;33m\u001b[0m\u001b[0m\n\u001b[1;32m--> 114\u001b[1;33m             raise ValueError(\n\u001b[0m\u001b[0;32m    115\u001b[0m                 msg_err.format(\n\u001b[0;32m    116\u001b[0m                     \u001b[0mtype_err\u001b[0m\u001b[1;33m,\u001b[0m \u001b[0mmsg_dtype\u001b[0m \u001b[1;32mif\u001b[0m \u001b[0mmsg_dtype\u001b[0m \u001b[1;32mis\u001b[0m \u001b[1;32mnot\u001b[0m \u001b[1;32mNone\u001b[0m \u001b[1;32melse\u001b[0m \u001b[0mX\u001b[0m\u001b[1;33m.\u001b[0m\u001b[0mdtype\u001b[0m\u001b[1;33m\u001b[0m\u001b[1;33m\u001b[0m\u001b[0m\n",
      "\u001b[1;31mValueError\u001b[0m: Input contains NaN, infinity or a value too large for dtype('float64')."
     ]
    }
   ],
   "source": [
    "Y = data['price_readiness']\n",
    "data = data.drop(['price_readiness'], axis=1)\n",
    "X_num = data.select_dtypes(include = np.number)\n",
    "from sklearn.preprocessing import Normalizer\n",
    "transformer = Normalizer().fit(X_num)\n",
    "x_normalized = transformer.transform(X_num)\n",
    "print(x_normalized.shape)"
   ]
  },
  {
   "cell_type": "code",
   "execution_count": null,
   "id": "a683f636-1d05-4e91-a50c-aa0a5ee0d51d",
   "metadata": {},
   "outputs": [],
   "source": [
    "from sklearn.model_selection import train_test_split as tts\n",
    "X_train, X_test, y_train, y_test = tts(X_num, Y, test_size=0.2, random_state=42)\n",
    "from sklearn.preprocessing import StandardScaler\n",
    "standard = StandardScaler()\n",
    "X_train_scaled = standard.fit_transform(X_train)\n",
    "X_test_scaled = standard.fit_transform(X_test)"
   ]
  },
  {
   "cell_type": "code",
   "execution_count": null,
   "id": "79124d7f-84e0-4974-95e5-08b9ffa99442",
   "metadata": {},
   "outputs": [],
   "source": [
    "Y.mean()"
   ]
  },
  {
   "cell_type": "code",
   "execution_count": null,
   "id": "535b5b79-8074-4a33-91d5-5161eaff3edb",
   "metadata": {},
   "outputs": [],
   "source": [
    "## Random forest"
   ]
  },
  {
   "cell_type": "code",
   "execution_count": null,
   "id": "99648929-254c-4061-b6a8-6b642b4bd571",
   "metadata": {},
   "outputs": [],
   "source": [
    "from sklearn.ensemble import RandomForestRegressor\n",
    "  \n",
    " # create regressor object\n",
    "regressor = RandomForestRegressor(n_estimators = 100, random_state = 0)\n",
    "  \n",
    "# fit the regressor with x and y data\n",
    "regressor.fit(X_num, Y)  \n",
    "regressor.score(X_test, y_test)\n",
    "y_predict = regressor.predict(X_test)"
   ]
  },
  {
   "cell_type": "code",
   "execution_count": null,
   "id": "220c0c28-2cad-4e79-9fbc-73af62b8df58",
   "metadata": {},
   "outputs": [],
   "source": [
    "y_predict"
   ]
  },
  {
   "cell_type": "code",
   "execution_count": null,
   "id": "ab7c7da9-9ae8-471b-9f0f-802eaea8dcc5",
   "metadata": {},
   "outputs": [],
   "source": [
    "### influencia de las variables x a price readiness(y)"
   ]
  },
  {
   "cell_type": "code",
   "execution_count": null,
   "id": "a113757d-19bc-4268-890c-a023fcd741c2",
   "metadata": {},
   "outputs": [],
   "source": [
    "(abs(y_predict-y_test)).mean()"
   ]
  },
  {
   "cell_type": "code",
   "execution_count": null,
   "id": "bc4c3278-95fe-4443-afba-206198c09875",
   "metadata": {},
   "outputs": [],
   "source": [
    "y_test"
   ]
  },
  {
   "cell_type": "code",
   "execution_count": null,
   "id": "1ca2b3de-bc6d-47ac-8d2a-0add5cb82cba",
   "metadata": {},
   "outputs": [],
   "source": [
    "feature_importances =  list(pd.Series(regressor.feature_importances_).apply(lambda x:np.round(x, 2)))\n",
    "px.bar(pd.DataFrame(dict(zip(data.columns, feature_importances)), index=[0]).T).update_layout(yaxis_tickformat='.2%')"
   ]
  },
  {
   "cell_type": "code",
   "execution_count": null,
   "id": "57f33f65-c077-48b8-8b66-93eff4defa8a",
   "metadata": {},
   "outputs": [],
   "source": [
    "### KNN"
   ]
  },
  {
   "cell_type": "code",
   "execution_count": null,
   "id": "a587abdf-bd76-4152-a489-d93907617525",
   "metadata": {},
   "outputs": [],
   "source": [
    "from sklearn.neighbors import KNeighborsRegressor\n",
    "model = KNeighborsRegressor(n_neighbors=4)\n",
    "model.fit(X_train, y_train)"
   ]
  },
  {
   "cell_type": "code",
   "execution_count": null,
   "id": "c135168f-d629-4dbd-a7f3-eec9f3f4d448",
   "metadata": {},
   "outputs": [],
   "source": [
    "predictions = model.predict(X_test)\n",
    "score_knn = model.score(X_test, y_test)"
   ]
  },
  {
   "cell_type": "code",
   "execution_count": null,
   "id": "76959e99-82a1-4bb6-81ce-7115c897843f",
   "metadata": {},
   "outputs": [],
   "source": [
    "score_knn"
   ]
  },
  {
   "cell_type": "code",
   "execution_count": null,
   "id": "eb714b6b-8078-4973-9918-b2e57ed1ff62",
   "metadata": {},
   "outputs": [],
   "source": [
    "## regresión logística"
   ]
  },
  {
   "cell_type": "code",
   "execution_count": null,
   "id": "8cddc9b6-2e35-4aed-9691-f4703082e4a4",
   "metadata": {},
   "outputs": [],
   "source": [
    "from sklearn.linear_model import LogisticRegression"
   ]
  },
  {
   "cell_type": "code",
   "execution_count": null,
   "id": "f3fd617b-0b7b-43bc-b4cf-60934953d21d",
   "metadata": {},
   "outputs": [],
   "source": [
    "classification = LogisticRegression(random_state=0, solver='lbfgs',\n",
    "                  multi_class='multinomial', max_iter=500).fit(X_train, y_train)\n",
    "predictions = classification.predict(X_test)"
   ]
  },
  {
   "cell_type": "code",
   "execution_count": null,
   "id": "88ffa508-fd7c-4bbc-9e0b-6734f2a0d5e9",
   "metadata": {
    "jupyter": {
     "source_hidden": true
    },
    "tags": []
   },
   "outputs": [],
   "source": [
    "classification.score(X_test, y_test)"
   ]
  },
  {
   "cell_type": "code",
   "execution_count": 75,
   "id": "e4f90d19-cf00-461e-ae85-2604c17e849e",
   "metadata": {},
   "outputs": [],
   "source": [
    "data[\"sustainable_brands:_[01]\"] = data[\"sustainable_brands:_[01]\"].fillna('other')"
   ]
  },
  {
   "cell_type": "code",
   "execution_count": 89,
   "id": "81c4e2a7-20a2-439b-bdd3-bb6e55c21db1",
   "metadata": {},
   "outputs": [],
   "source": [
    "data[\"sustainable_brands:_[01]\"] = data[\"sustainable_brands:_[01]\"].replace('none', 'other')"
   ]
  },
  {
   "cell_type": "code",
   "execution_count": 91,
   "id": "8d3c9896-0391-44a0-ba07-5be7d2999c8a",
   "metadata": {},
   "outputs": [],
   "source": [
    "def split_brand(x):\n",
    "    return set(x.split())"
   ]
  },
  {
   "cell_type": "code",
   "execution_count": 92,
   "id": "5d3f9fa0-8ad1-4333-b91d-8fec4e95024b",
   "metadata": {
    "tags": []
   },
   "outputs": [
    {
     "data": {
      "text/plain": [
       "2             {timbaland}\n",
       "3             {patagonia}\n",
       "4                 {other}\n",
       "5             {patagonia}\n",
       "6                 {other}\n",
       "7                 {other}\n",
       "8                 {other}\n",
       "9                 {other}\n",
       "10                {other}\n",
       "11          {blue, seven}\n",
       "12                {other}\n",
       "13                {other}\n",
       "14                {other}\n",
       "15                {other}\n",
       "16                {other}\n",
       "17                {other}\n",
       "18              {resales}\n",
       "19                {other}\n",
       "20                {other}\n",
       "21                 {nike}\n",
       "22                {other}\n",
       "23                {other}\n",
       "24                {other}\n",
       "25               {adidas}\n",
       "26                {other}\n",
       "27                {other}\n",
       "28    {patagonia, levi's}\n",
       "29                {other}\n",
       "30                {other}\n",
       "31               {alohas}\n",
       "32                {other}\n",
       "33                {other}\n",
       "34                {other}\n",
       "35                {other}\n",
       "36                {other}\n",
       "37                {other}\n",
       "38         {ice, breaker}\n",
       "39                {other}\n",
       "40                 {nike}\n",
       "41                {other}\n",
       "42                {other}\n",
       "43                {other}\n",
       "44                {other}\n",
       "45                {other}\n",
       "46                {other}\n",
       "47                {other}\n",
       "48                {other}\n",
       "49                {other}\n",
       "50                {other}\n",
       "51                {other}\n",
       "Name: sustainable_brands:_[01], dtype: object"
      ]
     },
     "execution_count": 92,
     "metadata": {},
     "output_type": "execute_result"
    }
   ],
   "source": [
    "data[\"sustainable_brands:_[01]\"].apply(split_brand).head(50)"
   ]
  },
  {
   "cell_type": "code",
   "execution_count": 93,
   "id": "967369ab-74d8-4197-a5c1-416e83c4b799",
   "metadata": {},
   "outputs": [],
   "source": [
    "from sklearn.preprocessing import MultiLabelBinarizer"
   ]
  },
  {
   "cell_type": "code",
   "execution_count": 94,
   "id": "b85e351e-e38e-4513-8f06-21e0a7a88329",
   "metadata": {},
   "outputs": [],
   "source": [
    "mlb = MultiLabelBinarizer()"
   ]
  },
  {
   "cell_type": "code",
   "execution_count": 96,
   "id": "c6d85823-0514-4d7b-8644-3a2385f26da0",
   "metadata": {},
   "outputs": [
    {
     "data": {
      "text/plain": [
       "array([[0, 0, 0, ..., 0, 0, 0],\n",
       "       [0, 0, 0, ..., 0, 0, 0],\n",
       "       [0, 0, 0, ..., 0, 0, 0],\n",
       "       ...,\n",
       "       [0, 0, 0, ..., 0, 0, 0],\n",
       "       [0, 0, 0, ..., 0, 0, 0],\n",
       "       [1, 0, 0, ..., 0, 0, 0]])"
      ]
     },
     "execution_count": 96,
     "metadata": {},
     "output_type": "execute_result"
    }
   ],
   "source": [
    "mlb.fit_transform(data[\"sustainable_brands:_[01]\"])"
   ]
  },
  {
   "cell_type": "code",
   "execution_count": null,
   "id": "fad79e27-803c-48ed-8cc8-c3cf70998a2a",
   "metadata": {},
   "outputs": [],
   "source": []
  },
  {
   "cell_type": "code",
   "execution_count": 114,
   "id": "e019d646-af90-442c-a6db-fa3afa669eb7",
   "metadata": {
    "tags": []
   },
   "outputs": [
    {
     "data": {
      "text/plain": [
       "MultiLabelBinarizer()"
      ]
     },
     "execution_count": 114,
     "metadata": {},
     "output_type": "execute_result"
    }
   ],
   "source": [
    "mlb.fit([list(data[\"sustainable_brands:_[01]\"].unique())])"
   ]
  },
  {
   "cell_type": "code",
   "execution_count": 115,
   "id": "33193033-ff29-4ace-92c6-b57ab410d2bd",
   "metadata": {
    "tags": []
   },
   "outputs": [
    {
     "data": {
      "text/plain": [
       "array(['a lot less', 'adidas', 'alohas', 'armed angels', 'blue seven',\n",
       "       'boss', 'carla fernandez', 'columbia', 'converse nike',\n",
       "       'el natura lista', 'focus green (colombia)', 'focus-green', 'gap',\n",
       "       'h&m', 'hibuy', 'holymeshq', 'humana', 'ice breaker',\n",
       "       \"levi's patagonia\", 'levis', 'maje', 'na', 'natura', 'nike',\n",
       "       'organic basics', 'other', 'patagonia', 'polo', 'quicksilver',\n",
       "       'resales', 'rothys', 'tesla', 'timbaland', 'timberland',\n",
       "       'tommy  levis adidas nike puma', 'toms', 'too faced',\n",
       "       'underarmour avocadostore', 'zara', 'zara jcrew  anthropology'],\n",
       "      dtype=object)"
      ]
     },
     "execution_count": 115,
     "metadata": {},
     "output_type": "execute_result"
    }
   ],
   "source": [
    "mlb.classes_"
   ]
  },
  {
   "cell_type": "code",
   "execution_count": 118,
   "id": "b94cafa3-8c28-48c1-8339-3039fab72772",
   "metadata": {},
   "outputs": [
    {
     "data": {
      "text/plain": [
       "array([[1, 1, 1, 1, 1, 1, 1, 1, 1, 1, 1, 1, 1, 1, 1, 1, 1, 1, 1, 1, 1, 1,\n",
       "        1, 1, 1, 1, 1, 1, 1, 1, 1, 1, 1, 1, 1, 1, 1, 1, 1, 1]])"
      ]
     },
     "execution_count": 118,
     "metadata": {},
     "output_type": "execute_result"
    }
   ],
   "source": [
    "mlb.fit_transform(data[\"sustainable_brands:_[01]\"])"
   ]
  },
  {
   "cell_type": "code",
   "execution_count": 109,
   "id": "acc9a944-2db6-42b6-a6b6-c534757b4ed4",
   "metadata": {},
   "outputs": [
    {
     "data": {
      "text/html": [
       "<div>\n",
       "<style scoped>\n",
       "    .dataframe tbody tr th:only-of-type {\n",
       "        vertical-align: middle;\n",
       "    }\n",
       "\n",
       "    .dataframe tbody tr th {\n",
       "        vertical-align: top;\n",
       "    }\n",
       "\n",
       "    .dataframe thead th {\n",
       "        text-align: right;\n",
       "    }\n",
       "</style>\n",
       "<table border=\"1\" class=\"dataframe\">\n",
       "  <thead>\n",
       "    <tr style=\"text-align: right;\">\n",
       "      <th></th>\n",
       "      <th></th>\n",
       "      <th>&amp;</th>\n",
       "      <th>'</th>\n",
       "      <th>(</th>\n",
       "      <th>)</th>\n",
       "      <th>-</th>\n",
       "      <th>a</th>\n",
       "      <th>b</th>\n",
       "      <th>c</th>\n",
       "      <th>d</th>\n",
       "      <th>...</th>\n",
       "      <th>p</th>\n",
       "      <th>q</th>\n",
       "      <th>r</th>\n",
       "      <th>s</th>\n",
       "      <th>t</th>\n",
       "      <th>u</th>\n",
       "      <th>v</th>\n",
       "      <th>w</th>\n",
       "      <th>y</th>\n",
       "      <th>z</th>\n",
       "    </tr>\n",
       "  </thead>\n",
       "  <tbody>\n",
       "    <tr>\n",
       "      <th>0</th>\n",
       "      <td>0</td>\n",
       "      <td>0</td>\n",
       "      <td>0</td>\n",
       "      <td>0</td>\n",
       "      <td>0</td>\n",
       "      <td>0</td>\n",
       "      <td>1</td>\n",
       "      <td>1</td>\n",
       "      <td>0</td>\n",
       "      <td>1</td>\n",
       "      <td>...</td>\n",
       "      <td>0</td>\n",
       "      <td>0</td>\n",
       "      <td>0</td>\n",
       "      <td>0</td>\n",
       "      <td>1</td>\n",
       "      <td>0</td>\n",
       "      <td>0</td>\n",
       "      <td>0</td>\n",
       "      <td>0</td>\n",
       "      <td>0</td>\n",
       "    </tr>\n",
       "    <tr>\n",
       "      <th>1</th>\n",
       "      <td>0</td>\n",
       "      <td>0</td>\n",
       "      <td>0</td>\n",
       "      <td>0</td>\n",
       "      <td>0</td>\n",
       "      <td>0</td>\n",
       "      <td>1</td>\n",
       "      <td>0</td>\n",
       "      <td>0</td>\n",
       "      <td>0</td>\n",
       "      <td>...</td>\n",
       "      <td>1</td>\n",
       "      <td>0</td>\n",
       "      <td>0</td>\n",
       "      <td>0</td>\n",
       "      <td>1</td>\n",
       "      <td>0</td>\n",
       "      <td>0</td>\n",
       "      <td>0</td>\n",
       "      <td>0</td>\n",
       "      <td>0</td>\n",
       "    </tr>\n",
       "    <tr>\n",
       "      <th>2</th>\n",
       "      <td>0</td>\n",
       "      <td>0</td>\n",
       "      <td>0</td>\n",
       "      <td>0</td>\n",
       "      <td>0</td>\n",
       "      <td>0</td>\n",
       "      <td>0</td>\n",
       "      <td>0</td>\n",
       "      <td>0</td>\n",
       "      <td>0</td>\n",
       "      <td>...</td>\n",
       "      <td>0</td>\n",
       "      <td>0</td>\n",
       "      <td>1</td>\n",
       "      <td>0</td>\n",
       "      <td>1</td>\n",
       "      <td>0</td>\n",
       "      <td>0</td>\n",
       "      <td>0</td>\n",
       "      <td>0</td>\n",
       "      <td>0</td>\n",
       "    </tr>\n",
       "    <tr>\n",
       "      <th>3</th>\n",
       "      <td>0</td>\n",
       "      <td>0</td>\n",
       "      <td>0</td>\n",
       "      <td>0</td>\n",
       "      <td>0</td>\n",
       "      <td>0</td>\n",
       "      <td>1</td>\n",
       "      <td>0</td>\n",
       "      <td>0</td>\n",
       "      <td>0</td>\n",
       "      <td>...</td>\n",
       "      <td>1</td>\n",
       "      <td>0</td>\n",
       "      <td>0</td>\n",
       "      <td>0</td>\n",
       "      <td>1</td>\n",
       "      <td>0</td>\n",
       "      <td>0</td>\n",
       "      <td>0</td>\n",
       "      <td>0</td>\n",
       "      <td>0</td>\n",
       "    </tr>\n",
       "    <tr>\n",
       "      <th>4</th>\n",
       "      <td>0</td>\n",
       "      <td>0</td>\n",
       "      <td>0</td>\n",
       "      <td>0</td>\n",
       "      <td>0</td>\n",
       "      <td>0</td>\n",
       "      <td>0</td>\n",
       "      <td>0</td>\n",
       "      <td>0</td>\n",
       "      <td>0</td>\n",
       "      <td>...</td>\n",
       "      <td>0</td>\n",
       "      <td>0</td>\n",
       "      <td>1</td>\n",
       "      <td>0</td>\n",
       "      <td>1</td>\n",
       "      <td>0</td>\n",
       "      <td>0</td>\n",
       "      <td>0</td>\n",
       "      <td>0</td>\n",
       "      <td>0</td>\n",
       "    </tr>\n",
       "    <tr>\n",
       "      <th>...</th>\n",
       "      <td>...</td>\n",
       "      <td>...</td>\n",
       "      <td>...</td>\n",
       "      <td>...</td>\n",
       "      <td>...</td>\n",
       "      <td>...</td>\n",
       "      <td>...</td>\n",
       "      <td>...</td>\n",
       "      <td>...</td>\n",
       "      <td>...</td>\n",
       "      <td>...</td>\n",
       "      <td>...</td>\n",
       "      <td>...</td>\n",
       "      <td>...</td>\n",
       "      <td>...</td>\n",
       "      <td>...</td>\n",
       "      <td>...</td>\n",
       "      <td>...</td>\n",
       "      <td>...</td>\n",
       "      <td>...</td>\n",
       "      <td>...</td>\n",
       "    </tr>\n",
       "    <tr>\n",
       "      <th>195</th>\n",
       "      <td>0</td>\n",
       "      <td>0</td>\n",
       "      <td>0</td>\n",
       "      <td>0</td>\n",
       "      <td>0</td>\n",
       "      <td>0</td>\n",
       "      <td>0</td>\n",
       "      <td>0</td>\n",
       "      <td>0</td>\n",
       "      <td>0</td>\n",
       "      <td>...</td>\n",
       "      <td>0</td>\n",
       "      <td>0</td>\n",
       "      <td>1</td>\n",
       "      <td>0</td>\n",
       "      <td>1</td>\n",
       "      <td>0</td>\n",
       "      <td>0</td>\n",
       "      <td>0</td>\n",
       "      <td>0</td>\n",
       "      <td>0</td>\n",
       "    </tr>\n",
       "    <tr>\n",
       "      <th>196</th>\n",
       "      <td>0</td>\n",
       "      <td>0</td>\n",
       "      <td>0</td>\n",
       "      <td>0</td>\n",
       "      <td>0</td>\n",
       "      <td>0</td>\n",
       "      <td>0</td>\n",
       "      <td>0</td>\n",
       "      <td>0</td>\n",
       "      <td>0</td>\n",
       "      <td>...</td>\n",
       "      <td>0</td>\n",
       "      <td>0</td>\n",
       "      <td>1</td>\n",
       "      <td>0</td>\n",
       "      <td>1</td>\n",
       "      <td>0</td>\n",
       "      <td>0</td>\n",
       "      <td>0</td>\n",
       "      <td>0</td>\n",
       "      <td>0</td>\n",
       "    </tr>\n",
       "    <tr>\n",
       "      <th>197</th>\n",
       "      <td>0</td>\n",
       "      <td>0</td>\n",
       "      <td>0</td>\n",
       "      <td>0</td>\n",
       "      <td>0</td>\n",
       "      <td>0</td>\n",
       "      <td>0</td>\n",
       "      <td>0</td>\n",
       "      <td>0</td>\n",
       "      <td>0</td>\n",
       "      <td>...</td>\n",
       "      <td>0</td>\n",
       "      <td>0</td>\n",
       "      <td>1</td>\n",
       "      <td>0</td>\n",
       "      <td>1</td>\n",
       "      <td>0</td>\n",
       "      <td>0</td>\n",
       "      <td>0</td>\n",
       "      <td>0</td>\n",
       "      <td>0</td>\n",
       "    </tr>\n",
       "    <tr>\n",
       "      <th>198</th>\n",
       "      <td>0</td>\n",
       "      <td>0</td>\n",
       "      <td>0</td>\n",
       "      <td>0</td>\n",
       "      <td>0</td>\n",
       "      <td>0</td>\n",
       "      <td>0</td>\n",
       "      <td>0</td>\n",
       "      <td>0</td>\n",
       "      <td>0</td>\n",
       "      <td>...</td>\n",
       "      <td>0</td>\n",
       "      <td>0</td>\n",
       "      <td>1</td>\n",
       "      <td>0</td>\n",
       "      <td>1</td>\n",
       "      <td>0</td>\n",
       "      <td>0</td>\n",
       "      <td>0</td>\n",
       "      <td>0</td>\n",
       "      <td>0</td>\n",
       "    </tr>\n",
       "    <tr>\n",
       "      <th>199</th>\n",
       "      <td>1</td>\n",
       "      <td>0</td>\n",
       "      <td>0</td>\n",
       "      <td>0</td>\n",
       "      <td>0</td>\n",
       "      <td>0</td>\n",
       "      <td>1</td>\n",
       "      <td>0</td>\n",
       "      <td>1</td>\n",
       "      <td>1</td>\n",
       "      <td>...</td>\n",
       "      <td>0</td>\n",
       "      <td>0</td>\n",
       "      <td>1</td>\n",
       "      <td>1</td>\n",
       "      <td>1</td>\n",
       "      <td>1</td>\n",
       "      <td>1</td>\n",
       "      <td>0</td>\n",
       "      <td>0</td>\n",
       "      <td>0</td>\n",
       "    </tr>\n",
       "  </tbody>\n",
       "</table>\n",
       "<p>200 rows × 31 columns</p>\n",
       "</div>"
      ],
      "text/plain": [
       "        &  '  (  )  -  a  b  c  d  ...  p  q  r  s  t  u  v  w  y  z\n",
       "0    0  0  0  0  0  0  1  1  0  1  ...  0  0  0  0  1  0  0  0  0  0\n",
       "1    0  0  0  0  0  0  1  0  0  0  ...  1  0  0  0  1  0  0  0  0  0\n",
       "2    0  0  0  0  0  0  0  0  0  0  ...  0  0  1  0  1  0  0  0  0  0\n",
       "3    0  0  0  0  0  0  1  0  0  0  ...  1  0  0  0  1  0  0  0  0  0\n",
       "4    0  0  0  0  0  0  0  0  0  0  ...  0  0  1  0  1  0  0  0  0  0\n",
       "..  .. .. .. .. .. .. .. .. .. ..  ... .. .. .. .. .. .. .. .. .. ..\n",
       "195  0  0  0  0  0  0  0  0  0  0  ...  0  0  1  0  1  0  0  0  0  0\n",
       "196  0  0  0  0  0  0  0  0  0  0  ...  0  0  1  0  1  0  0  0  0  0\n",
       "197  0  0  0  0  0  0  0  0  0  0  ...  0  0  1  0  1  0  0  0  0  0\n",
       "198  0  0  0  0  0  0  0  0  0  0  ...  0  0  1  0  1  0  0  0  0  0\n",
       "199  1  0  0  0  0  0  1  0  1  1  ...  0  0  1  1  1  1  1  0  0  0\n",
       "\n",
       "[200 rows x 31 columns]"
      ]
     },
     "execution_count": 109,
     "metadata": {},
     "output_type": "execute_result"
    }
   ],
   "source": [
    "pd.DataFrame(mlb.fit_transform(data[\"sustainable_brands:_[01]\"]), columns= mlb.classes_)"
   ]
  },
  {
   "cell_type": "code",
   "execution_count": 119,
   "id": "20c1897e-b568-4bff-8eef-c8fbd86f4fed",
   "metadata": {},
   "outputs": [],
   "source": [
    "data.to_csv('josep.csv')\n"
   ]
  },
  {
   "cell_type": "code",
   "execution_count": null,
   "id": "db8deb27-6c2c-407b-b31d-a16f4929d939",
   "metadata": {},
   "outputs": [],
   "source": []
  }
 ],
 "metadata": {
  "kernelspec": {
   "display_name": "Python 3 (ipykernel)",
   "language": "python",
   "name": "python3"
  },
  "language_info": {
   "codemirror_mode": {
    "name": "ipython",
    "version": 3
   },
   "file_extension": ".py",
   "mimetype": "text/x-python",
   "name": "python",
   "nbconvert_exporter": "python",
   "pygments_lexer": "ipython3",
   "version": "3.9.13"
  }
 },
 "nbformat": 4,
 "nbformat_minor": 5
}
