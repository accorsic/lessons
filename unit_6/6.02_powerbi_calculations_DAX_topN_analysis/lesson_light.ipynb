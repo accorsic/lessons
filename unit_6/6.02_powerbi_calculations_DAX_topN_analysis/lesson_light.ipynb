{
 "cells": [
  {
   "cell_type": "markdown",
   "metadata": {},
   "source": [
    "#### Lesson 1"
   ]
  },
  {
   "cell_type": "markdown",
   "metadata": {},
   "source": [
    "1. Create a new table Sales_and_Prices that adds the final price to the Sales table"
   ]
  },
  {
   "cell_type": "markdown",
   "metadata": {},
   "source": [
    "2. Activity1: Investigate if the number of checkouts has an impact on the ratings.\n",
    "\n",
    "How does the number of reviews relate to the number of checkouts per author? \n",
    "Note: work through the merge starting with books and authors, adding checkouts and reviews (the latter two queries will require expanding and aggregating"
   ]
  },
  {
   "cell_type": "markdown",
   "metadata": {},
   "source": [
    "#### Lesson 2"
   ]
  },
  {
   "cell_type": "markdown",
   "metadata": {},
   "source": [
    "3. What was the net sales (taking into account discount) per book? \n",
    "\n",
    "Create a stacked bar chart with BookID on the Y axis, sales price (summed) on the X axis"
   ]
  },
  {
   "cell_type": "markdown",
   "metadata": {},
   "source": [
    "4. Activity 2: create a table which summaries per author name, the number of reviews and the total checkouts that author has over their collection of published books\n",
    "\n",
    "Create a scatter plot to represent this data but with the addition of average review rating"
   ]
  },
  {
   "cell_type": "markdown",
   "metadata": {},
   "source": [
    "#### Lesson 3: DAX"
   ]
  },
  {
   "cell_type": "markdown",
   "metadata": {},
   "source": [
    "5. Redo point (1) utilizing DAX. Use the function LOOKUPVALUE\n",
    "\n",
    "Recreate the same report stacked bar from the previous lesson using the newly defined DAX field"
   ]
  },
  {
   "cell_type": "markdown",
   "metadata": {},
   "source": [
    "#### Lesson 4: \n",
    "\n",
    "Here, we want to find the N number of books that were checked out the most, alongside some other information about the book - genre.\n",
    "\n",
    "We will work through a method by filtering to reveal the top N and via DAX, resulting in two reporting outputs."
   ]
  },
  {
   "cell_type": "markdown",
   "metadata": {},
   "source": [
    "summary_book_genre_net_sales = SUMMARIZE(Sales_and_Prices,Book[BookID],Book[Title], Info[Genre],\"net_sales\",sum(Sales_and_Prices[dax_price]))"
   ]
  },
  {
   "cell_type": "markdown",
   "metadata": {},
   "source": [
    "Top5booksbysales = TOPN(5,'summary_book_genre_net_sales','summary_book_genre_net_sales'[net_sales],DESC)Top5booksbysales = TOPN(5,'summary_book_genre_net_sales','summary_book_genre_net_sales'[net_sales],DESC)"
   ]
  },
  {
   "cell_type": "code",
   "execution_count": null,
   "metadata": {},
   "outputs": [],
   "source": []
  }
 ],
 "metadata": {
  "kernelspec": {
   "display_name": "Python 3",
   "language": "python",
   "name": "python3"
  },
  "language_info": {
   "codemirror_mode": {
    "name": "ipython",
    "version": 3
   },
   "file_extension": ".py",
   "mimetype": "text/x-python",
   "name": "python",
   "nbconvert_exporter": "python",
   "pygments_lexer": "ipython3",
   "version": "3.7.0"
  }
 },
 "nbformat": 4,
 "nbformat_minor": 4
}
