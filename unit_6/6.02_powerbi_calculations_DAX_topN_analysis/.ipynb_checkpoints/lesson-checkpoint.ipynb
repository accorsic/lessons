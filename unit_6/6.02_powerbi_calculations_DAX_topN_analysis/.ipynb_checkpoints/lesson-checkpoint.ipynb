{
 "cells": [
  {
   "cell_type": "markdown",
   "metadata": {},
   "source": [
    "# Lesson 6.2: Calculations - Power Query - Top N analysis - DAX\n",
    "\n",
    "### Lesson Duration: 3 hours\n",
    "\n",
    "> Purpose: The purpose of this lesson is to introduce some advanced techniques in PowerBI including creating new columns from calculations and DAX, conducting _Top N_ analysis.\n",
    "---\n",
    "\n",
    "### Learning Objectives\n",
    "\n",
    "After this lesson, students will be able to:\n",
    "\n",
    "- Merge queries into combined tables\n",
    "- Apply calculations in PowerBI \n",
    "- Know what DAX is and how to develop the syntax\n",
    "- Use basic DAX expressions \n",
    "- Conduct _Top N_ analysis\n",
    "\n",
    "---\n",
    "\n",
    "### Lesson 1 key concepts\n",
    "\n",
    "> :clock10: 20 min\n",
    "\n",
    "- Review the Sales information for the Bookshop\n",
    "- Attempt to build a report of net sales\n",
    "- Merge tables into one \n",
    "- Create a net sales summary analysis from the merged table \n",
    "\n",
    "For this lesson we will use the file `lesson_resources/Bookshop.xls` as in the last lesson. Our intention is to review which books have earned the most income, taking into account of discounts given. \n",
    "There is a lesson lesson_starter pbix workbook in this folder too which contains the starting data from the previous lesson and activities - ie tables from the Bookshop excel plus a combined data table of Q1-Q4 sales tabs\n",
    "Use the PowerBI workbook created in the last activities and save it under a new name.  Or use the starter PowerBI workbook"
   ]
  },
  {
   "cell_type": "markdown",
   "metadata": {},
   "source": [
    "**Reviewing available sales data and identify a method to combine the data**\n",
    "\n",
    "- Open the starter workbook \n",
    "- Rebuild the reports 1) Book checkouts (Book, Checkouts) 2) Books_editions (Authors, Book, Edition, Info, Ratings) and 3) Sales_price_discount (Book, Edition, Sales Q1-Q4) \n",
    "- review the data model and draw out (whiteboard) which tables are connected directly to which in the model, and which tables are more granular than others \n",
    "- Think of what the calculation of net sales price should look like (price * (1-discount- per order/item))\n",
    "- Create a new calculation within any table and the drop down pick list which helps find table-field references to include in calculations\n",
    "- note that the syntax will be familiar to excel and SQL users - and using the new calculation is just a matter of checking it or dragging the field into the report editor\n",
    "- Try building a simple table report which calculates the sales prices of each order id or net sales by book title- there is an example of each in the lesson workbook\n",
    "- Discuss why the logic of the calculation is not straightforward (because the data is in separate tables) and recall the SQL syntax when querying multiple tables in a DB\n",
    "\n",
    ":exclamation: there are many ways that this information could be brought together but it is not as simple as a calculation along the row of the report, which would be the case if the data were in the same table in an excel workbook.\n",
    "\n",
    "- there are ways to bring tables together in PowerBI - appending and merging \n",
    "\t- When you have one or more columns that you’d like to add to another query, you **merge** the queries.\n",
    "\t- When you have additional rows of data that you’d like to add to an existing query, you **append** the query.\n",
    "- since each table is the result of a query already, we will refer to an existing table as a query \n",
    "- to merge the query Sales_Q1-Q4 which contains the order and discount, with the query Edition which contains Price (giving us a row for each order and isbn combination) select any table and choose **Edit query** to go into the Power Query editor \n",
    "- you may need to browse to the raw file Bookshop.xlsx at this point\n",
    "- in Power Query Editor ignore the transform file and helper queries at the top, \n",
    "- select Sales_Q1-Q4 to highlight the sales table query and from the Home tab, use **Merge Queries as New** to select both the Q1-Q4 and Edition tables, with matching ISBN as the join\n",
    "- at this point it will be necessary to pick a join method:  INNER\n",
    "- select the column Price that is desired in this new query before naming the new query **Sales_and_Prices**, closing and applying the transformation"
   ]
  },
  {
   "cell_type": "markdown",
   "metadata": {},
   "source": [
    "# 6.02 Activity 1 \n",
    "\n",
    "Following the method you saw in the lesson lets examine another business problem without a straightforward solution : \n",
    "How does the number of reviews relate to the number of checkouts per author?\n",
    "For example, if an author is more popular at the checkout, will they receive more reviews overall ? \n",
    "Or is there something else involved in popularity such as the marketing spend by the publisher, no of books / series that author has published, price of the edition etc   \n",
    "\n",
    "1. Attempt to create a report (table) which shows the Author First_Name, Last_Name, with the sum of checkouts and count of reviews \n",
    "2. Consider what the syntax should be to create a ratio between checkout sum and count of reviews \n",
    "3. Try creating said ratio as a new column on the Author table the syntax could look like: **ratio_reviews_checkouts = count(Ratings[ReviewID]) / sum(Checkouts[Checkouts])**\n",
    "4. Use this new column in the report - notice that the same value is repeated multiple times \n",
    "5. Think about or research PowerBI methods to resolve this - there are others than the Merge queries shown in class - so that you can reach a point where you have an accurate ratio of reviews to checkouts against each author\n",
    "6. Optional : work through the merge starting with books and authors, adding checkouts and reviews (the latter two queries will require expanding and aggregating)\n",
    "7. Update the report to demonstrate your solution working or note down your ideas to share with the class "
   ]
  },
  {
   "cell_type": "markdown",
   "metadata": {},
   "source": [
    "- image [activity 1_attempted report](https://education-team-2020.s3.eu-west-1.amazonaws.com/data-analytics/6.2-images/6.2-6_2_1_attempt.png)\n",
    "- image [activity 1_merged queries](https://education-team-2020.s3.eu-west-1.amazonaws.com/data-analytics/6.2-images/6.2-6_2_1_merge.png)"
   ]
  },
  {
   "cell_type": "markdown",
   "metadata": {},
   "source": [
    "### Lesson 2 key concepts\n",
    "\n",
    "> :clock10: 20 min\n",
    "\n",
    "this lesson continues where the last one left off - at this point you will demonstrate how to use the now merged PowerBI query to create a calculation and report to answer the question - what was the net sales(taking into account discount) per book?\n",
    "continue using the workbook from the last lesson \n",
    "\n",
    "**create calculation in Power Query and build report**\n",
    "\n",
    "- selecting the **Sales_and_Prices** query, go into Power Query editor and work on the query - ensuring the Price field from Edition has been included in the table \n",
    "- the new column could also be created in the report editor but it is easier to see the impact here and pick up any errors \n",
    "- create a new column **sale_price** in the custom column editor as [Edition.Price]*(1-[Discount]) - this editor is easy to use because you can pick the fields from the list on the right  \n",
    "- review the resulting column - notice there are many nulls (this is because 1-null is null) \n",
    "- in order to use the Discount field in our calculation we will replace all null values with 0 using the **replace values** option available when you select the column Discount \n",
    "- this wont yet have updated the custom column - you will need to reorder the transformation steps in the transformation pane on the right \n",
    "- check the data type is decimal or set it as decimal (it would have been a text field when it contained nulls)\n",
    "- ensure **sale_price** looks correct before closing and applying the transformations \n",
    "- in the report view, create a stacked bar chart with BookID on the Y axis, sales price (summed) on the X axis\n",
    "- add format to the legend or filter to enhance the report - answering more questions than were initially posed! \n",
    "- edit the title using the formatting options to \"net sales by BOOK and format\""
   ]
  },
  {
   "cell_type": "markdown",
   "metadata": {},
   "source": [
    "# 6.02 Activity 2 \n",
    "\n",
    "For this activity continue with the scenario from activity 1 - whether you followed the merge query approach or another method in PowerBI:\n",
    "\n",
    "1. create a single column for first name, surname as **author name** (hint concatenate twice in a calculation or use a transformation step in the query) \n",
    "2. create a table which summaries per author name, the number of reviews and the total checkouts that author has over their collection of published books \n",
    "3. create a scatter plot to represent this data but with the addition of average review rating on the opposite axis and Genre on the color legend\n",
    "4. spend some time examining the chart to identify any trends patterns or outliers by genre \n",
    "5. optional - apply some formatting changes to make the chart more readable or add a filter (example : to filter by publishing house/ country) in case this reveals more insights that could be shared with the class "
   ]
  },
  {
   "cell_type": "markdown",
   "metadata": {},
   "source": [
    "- image [activity 2_calculation](https://education-team-2020.s3.eu-west-1.amazonaws.com/data-analytics/6.2-images/6.2-6_2_2_calc.png)\n",
    "- image [activity 2_successful report](https://education-team-2020.s3.eu-west-1.amazonaws.com/data-analytics/6.2-images/6.2-6_2_2_success.png)\n",
    "- image [activity 2_scatter plot](https://education-team-2020.s3.eu-west-1.amazonaws.com/data-analytics/6.2-images/6.2-6_2_2_scatter.png)"
   ]
  },
  {
   "cell_type": "markdown",
   "metadata": {},
   "source": [
    "### Lesson 3 key concepts\n",
    "\n",
    "> :clock10: 20 min\n",
    "\n",
    "- What is DAX (introduction)\n",
    "- How to use DAX to solve the same problem of the past lesson\n",
    "- one other DAX example\n",
    "- where to go to find more DAX methods \n",
    "\n",
    "**DAX intro**\n",
    "\n",
    "- The DAX language was created specifically for the handling of data models, through the use of formulas and expressions. \n",
    "- DAX is used in several Microsoft Products such as Microsoft Power BI, Microsoft Analysis Services and Microsoft Power Pivot for Excel. \n",
    "- These products all share the same internal engine, called Tabular.\n",
    "- DAX = data analysis expressions \n",
    "- DAX resembles excel but has some important differences : the formula will always start with the name of the column or measure = eg new_col=... \n",
    "- another difference is that excel uses cell references but DAX using the context of a row \n",
    "- there are many operations that can be done with DAX - we will look at just a few in this lesson \n",
    "- for more on DAX - theres a [DAX guide](https://dax.guide/) and [reference material from microsoft](https://docs.microsoft.com/en-us/dax/)"
   ]
  },
  {
   "cell_type": "markdown",
   "metadata": {},
   "source": [
    "**Let's redo our initial problem**\n",
    "- to solve the problem seen in the earlier part of the lesson we will use a DAX LOOKUP formula \n",
    "- from the table **Sales_Q1-Q4** create a new column - this can be done either in report view or power query editor \n",
    "- define the formula as **dax_price = LOOKUPVALUE('Edition'[Price],'Edition'[ISBN],[ISBN])**\n",
    "- recreate the same report stacked bar from the previous lesson using the newly defined DAX field \n",
    "- to show another DAX example - DAX can be used to create a filtered measure \n",
    "- this will calculate the average discount accurately for all paperback books sold using the DAX [averagex function](https://docs.microsoft.com/en-us/dax/averagex-function-dax)\n",
    "- **disc_paperback = averagex(FILTER('Sales_Q1-Q4',Edition[Format]=\"paperback\"),'Sales_Q1-Q4'[Discount])**\n",
    "- optional - create more DAX examples or DAX lookup columns to capture values across data tables "
   ]
  },
  {
   "cell_type": "markdown",
   "metadata": {},
   "source": [
    "# 6.02 Activity 3\n",
    "\n",
    "As you saw in the latest lesson, using a DAX approach can save time and logically will help you keep your PowerBI workbooks small by not creating extra de-normalized tables/queries. \n",
    "\n",
    "In this activity you are asked to spend some time reviewing the DAX documentation shared in the last lesson, or watch a [video](https://www.youtube.com/watch?v=jUaEdwN9J1I) if you find that explains these concepts better, in order to resolve activities 1 and 2 of this lesson using a DAX formula. \n",
    "\n",
    "Perhaps you find the DAX LOOKUP works well or you may find a better DAX solution. \n",
    "\n",
    "Be prepared after the activity to share your DAX method and any other useful DAX formulae you have discovered during your exploration. "
   ]
  },
  {
   "cell_type": "markdown",
   "metadata": {},
   "source": [
    "### Lesson 4 key concepts\n",
    "\n",
    "> :clock10: 20 min\n",
    "\n",
    "- `Top N` analysis\n",
    "- In this analysis, we want to find the `N` number of books that were checked out the most, alongside some other information about the book - genre. \n",
    "- We will work through a method by filtering to reveal the top N and via DAX, resulting in two reporting outputs. \n",
    "- you can continue using the lesson workbook for this final part of the lesson but before starting.\n",
    "\n",
    "**Filter Top N and DAX Top N**\n",
    "\n",
    "- we will start by creating a report with [top n filtering](https://powerbidocs.com/2020/01/21/power-bi-top-n-filters/)\n",
    "- create a one page report which has two charts. the first is a duplicate of the bookid, format and dax price (sum) stacked bar from the end of the previous lesson\n",
    "- the second chart on this page - create a treemap which shows net sales by genre (genre on category, price on values) \n",
    "- suggestion : to make this part clearer, change the colors of the treemap which currently are too similar to the colors of the bar chart by default. This is possible using the formatting menu > colors > advanced controls  (see lesson workbook for example of contrasting color scheme)\n",
    "- this report could also be created from the earlier lesson merged table called **Sales_and_Prices**\n",
    "- select the first chart and look at the **filters on this visual** section \n",
    "- change the BookID filter which is currently set to ALL to Top N - configure the filter as Top 5 by value DAX sales price \n",
    "- point out that there is a limitation of this top N filtering approach which is easily displayed when you select on the tree map - only the two biggest genres are picking up the 5 top books.\n",
    "- PowerBI only allows measure based filtering at the visual level - lets look at the DAX way of doing the same thing\n",
    "- more about [filter levels](https://support.ti.davidson.edu/hc/en-us/articles/360018121174-Understanding-Filters-in-Power-BI)\n",
    "- with DAX we can create a new table with the [TOPN function](https://databear.com/power-bi-dax-topn-function/)\n",
    "- first we will create a summary table to aggregate the net sales per bookid, book title and genre , next we create a top n from that summary \n",
    "- from the Modeling menu - select New Table\n",
    "- define table as : **summary_book_genre_net_sales = SUMMARIZE('Sales_Q1-Q4',Book[BookID],Book[Title], Info[Genre],\"net_sales\",sum('Sales_Q1-Q4'[dax_price]))**\n",
    "- suggestion : it is a good idea to visually display this summary table as a new report (table visual) so you can see it \n",
    "- final stage - create a top N table [create top N as a new table using DAX](https://docs.microsoft.com/en-us/dax/topn-function-dax)\n",
    "- define table as **Top5booksbysales = TOPN(5,'summary_book_genre_net_sales','summary_book_genre_net_sales'[net_sales],DESC)**\n",
    "- display the results on a new or accompanying report\n",
    "- there are other methods such as [RANK](https://www.sqlbi.com/articles/filtering-the-top-3-products-for-each-category-in-power-bi/) which could be used as alternatives for a top N type analysis - this is just a taster of one method"
   ]
  },
  {
   "cell_type": "markdown",
   "metadata": {},
   "source": [
    "# Lab | Calculations and DAX\n",
    "\n",
    "Use the data source `AdventureWorks_Database.xlsx` in the `files_for_lab` folder for this lab - you can continue with the PowerBI workbook created in the previous lab.\n",
    "\n",
    "### Instructions \n",
    "\n",
    "The goal of this lab is to answer a specific business scenario using the data source(s) provided - applying some logical thinking about how to approach the problem based on the techniques you have already mastered in PowerBI. You might need to refer back to the documentation to find the best DAX formula or Power Query method to approach the problem. Attempt to answer as many questions as you can but don't feel pressured to cover every requirement of this business scenario. Save your workbook with any related data modeling solutions, formulae and plots. If you have time you can try the optional challenge below to create a more polished one page report. \n",
    "\n",
    "## Scenario \n",
    "\n",
    "The owner of the AdventureWorks cycle store wants to understand more about the purchasing potential of customers with children, so you will want to filter out from your reports any customers who don't have any children. For this reason, they have conducted a survey and collected as much accurate information as possible about their customers' family sizes. The store wants to focus on the most recent 3 years of sales in the database and to separate customers into small families(1-3 children) and large families (3+ children). Here are some specific questions: \n",
    "- What's the average annual spend per child- by each adventureworks customer in the two types of families?\n",
    "- Is it true that large families with most of the children at home spend more throughout the year than in the direct run-up to Christmas? \n",
    "- What are the most popular 5-10 products for large and small families? Are these top products the same in both cases? Does it vary based on the % of children living at home that each customer has?\n",
    "- How does this vary between the different countries in the database? Of course, we have more customers in the US but are relatively more customers with large families in the US making the majority of their Adventureworks purchases in a particular season, compared to large families in Europe and Australia? \n",
    "\n",
    "\n",
    "### Optional \n",
    "\n",
    "Present your findings and insight based on this business scenario in a single comparative report page (multiple visuals) which has been designed with interactivity and visual best practices for data visualization in mind. Keep the view uncluttered as much as possible and consider the appropriate chart types, use of pre-attentive attributes and the best ways to communicate those insights.  "
   ]
  },
  {
   "cell_type": "markdown",
   "metadata": {},
   "source": [
    "### Solution\n",
    "There is no lab solution provided - the business scenario of the lab involves creative thinking and there many ways to arrive at a solution.\n",
    "\n"
   ]
  },
  {
   "cell_type": "code",
   "execution_count": null,
   "metadata": {},
   "outputs": [],
   "source": []
  }
 ],
 "metadata": {
  "kernelspec": {
   "display_name": "Python 3",
   "language": "python",
   "name": "python3"
  },
  "language_info": {
   "name": ""
  }
 },
 "nbformat": 4,
 "nbformat_minor": 4
}
