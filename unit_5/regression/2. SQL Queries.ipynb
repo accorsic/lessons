{
 "cells": [
  {
   "cell_type": "code",
   "execution_count": 1,
   "id": "08ff7666-20f4-4535-8b7f-f50f5339f4a8",
   "metadata": {},
   "outputs": [],
   "source": [
    "import pymysql\n",
    "from sqlalchemy import create_engine\n",
    "import pandas as pd\n",
    "import getpass  # To get the password without showing the input"
   ]
  },
  {
   "cell_type": "code",
   "execution_count": 3,
   "id": "544a2068-855b-4fb4-bd76-873c8a035cac",
   "metadata": {},
   "outputs": [
    {
     "name": "stdin",
     "output_type": "stream",
     "text": [
      " ········\n"
     ]
    }
   ],
   "source": [
    "password = getpass.getpass()"
   ]
  },
  {
   "cell_type": "code",
   "execution_count": 2,
   "id": "f1eaafb2-a1de-4f25-a4e8-066440dba3b0",
   "metadata": {},
   "outputs": [],
   "source": [
    "connection_string = 'mysql+pymysql://root:' + password + '@localhost/sakila'"
   ]
  },
  {
   "cell_type": "code",
   "execution_count": 2,
   "id": "ca0f9fb1-0f48-480c-8443-d4dbffb0ea27",
   "metadata": {},
   "outputs": [
    {
     "name": "stdin",
     "output_type": "stream",
     "text": [
      " ········\n"
     ]
    }
   ],
   "source": [
    "engine = create_engine(connection_string)\n",
    "%load_ext sql\n",
    "%sql {connection_string}"
   ]
  },
  {
   "cell_type": "code",
   "execution_count": null,
   "id": "c03086c5-7eb7-4946-a4c5-690c27ef2b1d",
   "metadata": {},
   "outputs": [],
   "source": []
  }
 ],
 "metadata": {
  "kernelspec": {
   "display_name": "Python 3 (ipykernel)",
   "language": "python",
   "name": "python3"
  },
  "language_info": {
   "codemirror_mode": {
    "name": "ipython",
    "version": 3
   },
   "file_extension": ".py",
   "mimetype": "text/x-python",
   "name": "python",
   "nbconvert_exporter": "python",
   "pygments_lexer": "ipython3",
   "version": "3.9.13"
  }
 },
 "nbformat": 4,
 "nbformat_minor": 5
}
