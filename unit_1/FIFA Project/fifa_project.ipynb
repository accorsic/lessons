{
 "cells": [
  {
   "cell_type": "markdown",
   "metadata": {},
   "source": [
    "Your FIFA project goes here:"
   ]
  },
  {
   "cell_type": "code",
   "execution_count": 4,
   "metadata": {},
   "outputs": [],
   "source": [
    "import pandas as pd\n",
    "import numpy as np\n",
    "import matplotlib.pyplot as plt\n",
    "import seaborn as sns"
   ]
  },
  {
   "cell_type": "code",
   "execution_count": 5,
   "metadata": {},
   "outputs": [],
   "source": [
    "data = pd.read_csv(\"./file_for_project/fifa21_training.csv\")"
   ]
  },
  {
   "cell_type": "code",
   "execution_count": 7,
   "metadata": {},
   "outputs": [
    {
     "data": {
      "text/html": [
       "<div>\n",
       "<style scoped>\n",
       "    .dataframe tbody tr th:only-of-type {\n",
       "        vertical-align: middle;\n",
       "    }\n",
       "\n",
       "    .dataframe tbody tr th {\n",
       "        vertical-align: top;\n",
       "    }\n",
       "\n",
       "    .dataframe thead th {\n",
       "        text-align: right;\n",
       "    }\n",
       "</style>\n",
       "<table border=\"1\" class=\"dataframe\">\n",
       "  <thead>\n",
       "    <tr style=\"text-align: right;\">\n",
       "      <th></th>\n",
       "      <th>Unnamed: 0</th>\n",
       "      <th>ID</th>\n",
       "      <th>Name</th>\n",
       "      <th>Age</th>\n",
       "      <th>Nationality</th>\n",
       "      <th>Club</th>\n",
       "      <th>BP</th>\n",
       "      <th>Position</th>\n",
       "      <th>Team &amp; Contract</th>\n",
       "      <th>Height</th>\n",
       "      <th>...</th>\n",
       "      <th>CDM</th>\n",
       "      <th>RDM</th>\n",
       "      <th>RWB</th>\n",
       "      <th>LB</th>\n",
       "      <th>LCB</th>\n",
       "      <th>CB</th>\n",
       "      <th>RCB</th>\n",
       "      <th>RB</th>\n",
       "      <th>GK</th>\n",
       "      <th>OVA</th>\n",
       "    </tr>\n",
       "  </thead>\n",
       "  <tbody>\n",
       "    <tr>\n",
       "      <th>0</th>\n",
       "      <td>1954</td>\n",
       "      <td>184383</td>\n",
       "      <td>A. Pasche</td>\n",
       "      <td>26</td>\n",
       "      <td>Switzerland</td>\n",
       "      <td>FC Lausanne-Sport</td>\n",
       "      <td>CM</td>\n",
       "      <td>CM CDM</td>\n",
       "      <td>FC Lausanne-Sport 2015 ~ 2020</td>\n",
       "      <td>5'9\"</td>\n",
       "      <td>...</td>\n",
       "      <td>59+1</td>\n",
       "      <td>59+1</td>\n",
       "      <td>59+1</td>\n",
       "      <td>58+1</td>\n",
       "      <td>54+1</td>\n",
       "      <td>54+1</td>\n",
       "      <td>54+1</td>\n",
       "      <td>58+1</td>\n",
       "      <td>15+1</td>\n",
       "      <td>64</td>\n",
       "    </tr>\n",
       "    <tr>\n",
       "      <th>1</th>\n",
       "      <td>2225</td>\n",
       "      <td>188044</td>\n",
       "      <td>Alan Carvalho</td>\n",
       "      <td>30</td>\n",
       "      <td>China PR</td>\n",
       "      <td>Beijing Sinobo Guoan FC</td>\n",
       "      <td>ST</td>\n",
       "      <td>ST LW LM</td>\n",
       "      <td>Beijing Sinobo Guoan FC Dec 31, 2020 On Loan</td>\n",
       "      <td>6'0\"</td>\n",
       "      <td>...</td>\n",
       "      <td>53+2</td>\n",
       "      <td>53+2</td>\n",
       "      <td>57+2</td>\n",
       "      <td>53+2</td>\n",
       "      <td>48+2</td>\n",
       "      <td>48+2</td>\n",
       "      <td>48+2</td>\n",
       "      <td>53+2</td>\n",
       "      <td>18+2</td>\n",
       "      <td>77</td>\n",
       "    </tr>\n",
       "    <tr>\n",
       "      <th>2</th>\n",
       "      <td>1959</td>\n",
       "      <td>184431</td>\n",
       "      <td>S. Giovinco</td>\n",
       "      <td>33</td>\n",
       "      <td>Italy</td>\n",
       "      <td>Al Hilal</td>\n",
       "      <td>CAM</td>\n",
       "      <td>CAM CF</td>\n",
       "      <td>Al Hilal 2019 ~ 2022</td>\n",
       "      <td>5'4\"</td>\n",
       "      <td>...</td>\n",
       "      <td>56+2</td>\n",
       "      <td>56+2</td>\n",
       "      <td>59+2</td>\n",
       "      <td>53+2</td>\n",
       "      <td>41+2</td>\n",
       "      <td>41+2</td>\n",
       "      <td>41+2</td>\n",
       "      <td>53+2</td>\n",
       "      <td>12+2</td>\n",
       "      <td>80</td>\n",
       "    </tr>\n",
       "    <tr>\n",
       "      <th>3</th>\n",
       "      <td>9815</td>\n",
       "      <td>233796</td>\n",
       "      <td>J. Evans</td>\n",
       "      <td>22</td>\n",
       "      <td>Wales</td>\n",
       "      <td>Swansea City</td>\n",
       "      <td>CDM</td>\n",
       "      <td>CDM CM</td>\n",
       "      <td>Swansea City 2016 ~ 2021</td>\n",
       "      <td>5'10\"</td>\n",
       "      <td>...</td>\n",
       "      <td>58+2</td>\n",
       "      <td>58+2</td>\n",
       "      <td>56+2</td>\n",
       "      <td>57+2</td>\n",
       "      <td>58+2</td>\n",
       "      <td>58+2</td>\n",
       "      <td>58+2</td>\n",
       "      <td>57+2</td>\n",
       "      <td>14+2</td>\n",
       "      <td>59</td>\n",
       "    </tr>\n",
       "    <tr>\n",
       "      <th>4</th>\n",
       "      <td>10074</td>\n",
       "      <td>234799</td>\n",
       "      <td>Y. Demoncy</td>\n",
       "      <td>23</td>\n",
       "      <td>France</td>\n",
       "      <td>US Orléans Loiret Football</td>\n",
       "      <td>CDM</td>\n",
       "      <td>CDM CM</td>\n",
       "      <td>US Orléans Loiret Football 2018 ~ 2021</td>\n",
       "      <td>5'11\"</td>\n",
       "      <td>...</td>\n",
       "      <td>64+2</td>\n",
       "      <td>64+2</td>\n",
       "      <td>64+2</td>\n",
       "      <td>63+2</td>\n",
       "      <td>61+2</td>\n",
       "      <td>61+2</td>\n",
       "      <td>61+2</td>\n",
       "      <td>63+2</td>\n",
       "      <td>15+2</td>\n",
       "      <td>65</td>\n",
       "    </tr>\n",
       "  </tbody>\n",
       "</table>\n",
       "<p>5 rows × 102 columns</p>\n",
       "</div>"
      ],
      "text/plain": [
       "   Unnamed: 0      ID           Name  Age  Nationality  \\\n",
       "0        1954  184383      A. Pasche   26  Switzerland   \n",
       "1        2225  188044  Alan Carvalho   30     China PR   \n",
       "2        1959  184431    S. Giovinco   33        Italy   \n",
       "3        9815  233796       J. Evans   22        Wales   \n",
       "4       10074  234799     Y. Demoncy   23       France   \n",
       "\n",
       "                         Club   BP  Position  \\\n",
       "0           FC Lausanne-Sport   CM    CM CDM   \n",
       "1     Beijing Sinobo Guoan FC   ST  ST LW LM   \n",
       "2                    Al Hilal  CAM    CAM CF   \n",
       "3                Swansea City  CDM    CDM CM   \n",
       "4  US Orléans Loiret Football  CDM    CDM CM   \n",
       "\n",
       "                                Team & Contract Height  ...   CDM   RDM   RWB  \\\n",
       "0                 FC Lausanne-Sport 2015 ~ 2020   5'9\"  ...  59+1  59+1  59+1   \n",
       "1  Beijing Sinobo Guoan FC Dec 31, 2020 On Loan   6'0\"  ...  53+2  53+2  57+2   \n",
       "2                          Al Hilal 2019 ~ 2022   5'4\"  ...  56+2  56+2  59+2   \n",
       "3                      Swansea City 2016 ~ 2021  5'10\"  ...  58+2  58+2  56+2   \n",
       "4        US Orléans Loiret Football 2018 ~ 2021  5'11\"  ...  64+2  64+2  64+2   \n",
       "\n",
       "     LB   LCB    CB   RCB    RB    GK  OVA  \n",
       "0  58+1  54+1  54+1  54+1  58+1  15+1   64  \n",
       "1  53+2  48+2  48+2  48+2  53+2  18+2   77  \n",
       "2  53+2  41+2  41+2  41+2  53+2  12+2   80  \n",
       "3  57+2  58+2  58+2  58+2  57+2  14+2   59  \n",
       "4  63+2  61+2  61+2  61+2  63+2  15+2   65  \n",
       "\n",
       "[5 rows x 102 columns]"
      ]
     },
     "execution_count": 7,
     "metadata": {},
     "output_type": "execute_result"
    }
   ],
   "source": [
    "data.head()"
   ]
  },
  {
   "cell_type": "code",
   "execution_count": 6,
   "metadata": {},
   "outputs": [
    {
     "data": {
      "text/html": [
       "<div>\n",
       "<style scoped>\n",
       "    .dataframe tbody tr th:only-of-type {\n",
       "        vertical-align: middle;\n",
       "    }\n",
       "\n",
       "    .dataframe tbody tr th {\n",
       "        vertical-align: top;\n",
       "    }\n",
       "\n",
       "    .dataframe thead th {\n",
       "        text-align: right;\n",
       "    }\n",
       "</style>\n",
       "<table border=\"1\" class=\"dataframe\">\n",
       "  <thead>\n",
       "    <tr style=\"text-align: right;\">\n",
       "      <th></th>\n",
       "      <th>Unnamed: 0</th>\n",
       "      <th>ID</th>\n",
       "      <th>Name</th>\n",
       "      <th>Age</th>\n",
       "      <th>Nationality</th>\n",
       "      <th>Club</th>\n",
       "      <th>BP</th>\n",
       "      <th>Position</th>\n",
       "      <th>Team &amp; Contract</th>\n",
       "      <th>Height</th>\n",
       "      <th>...</th>\n",
       "      <th>CDM</th>\n",
       "      <th>RDM</th>\n",
       "      <th>RWB</th>\n",
       "      <th>LB</th>\n",
       "      <th>LCB</th>\n",
       "      <th>CB</th>\n",
       "      <th>RCB</th>\n",
       "      <th>RB</th>\n",
       "      <th>GK</th>\n",
       "      <th>OVA</th>\n",
       "    </tr>\n",
       "  </thead>\n",
       "  <tbody>\n",
       "    <tr>\n",
       "      <th>0</th>\n",
       "      <td>1954</td>\n",
       "      <td>184383</td>\n",
       "      <td>A. Pasche</td>\n",
       "      <td>26</td>\n",
       "      <td>Switzerland</td>\n",
       "      <td>FC Lausanne-Sport</td>\n",
       "      <td>CM</td>\n",
       "      <td>CM CDM</td>\n",
       "      <td>FC Lausanne-Sport 2015 ~ 2020</td>\n",
       "      <td>5'9\"</td>\n",
       "      <td>...</td>\n",
       "      <td>59+1</td>\n",
       "      <td>59+1</td>\n",
       "      <td>59+1</td>\n",
       "      <td>58+1</td>\n",
       "      <td>54+1</td>\n",
       "      <td>54+1</td>\n",
       "      <td>54+1</td>\n",
       "      <td>58+1</td>\n",
       "      <td>15+1</td>\n",
       "      <td>64</td>\n",
       "    </tr>\n",
       "    <tr>\n",
       "      <th>1</th>\n",
       "      <td>2225</td>\n",
       "      <td>188044</td>\n",
       "      <td>Alan Carvalho</td>\n",
       "      <td>30</td>\n",
       "      <td>China PR</td>\n",
       "      <td>Beijing Sinobo Guoan FC</td>\n",
       "      <td>ST</td>\n",
       "      <td>ST LW LM</td>\n",
       "      <td>Beijing Sinobo Guoan FC Dec 31, 2020 On Loan</td>\n",
       "      <td>6'0\"</td>\n",
       "      <td>...</td>\n",
       "      <td>53+2</td>\n",
       "      <td>53+2</td>\n",
       "      <td>57+2</td>\n",
       "      <td>53+2</td>\n",
       "      <td>48+2</td>\n",
       "      <td>48+2</td>\n",
       "      <td>48+2</td>\n",
       "      <td>53+2</td>\n",
       "      <td>18+2</td>\n",
       "      <td>77</td>\n",
       "    </tr>\n",
       "    <tr>\n",
       "      <th>2</th>\n",
       "      <td>1959</td>\n",
       "      <td>184431</td>\n",
       "      <td>S. Giovinco</td>\n",
       "      <td>33</td>\n",
       "      <td>Italy</td>\n",
       "      <td>Al Hilal</td>\n",
       "      <td>CAM</td>\n",
       "      <td>CAM CF</td>\n",
       "      <td>Al Hilal 2019 ~ 2022</td>\n",
       "      <td>5'4\"</td>\n",
       "      <td>...</td>\n",
       "      <td>56+2</td>\n",
       "      <td>56+2</td>\n",
       "      <td>59+2</td>\n",
       "      <td>53+2</td>\n",
       "      <td>41+2</td>\n",
       "      <td>41+2</td>\n",
       "      <td>41+2</td>\n",
       "      <td>53+2</td>\n",
       "      <td>12+2</td>\n",
       "      <td>80</td>\n",
       "    </tr>\n",
       "    <tr>\n",
       "      <th>3</th>\n",
       "      <td>9815</td>\n",
       "      <td>233796</td>\n",
       "      <td>J. Evans</td>\n",
       "      <td>22</td>\n",
       "      <td>Wales</td>\n",
       "      <td>Swansea City</td>\n",
       "      <td>CDM</td>\n",
       "      <td>CDM CM</td>\n",
       "      <td>Swansea City 2016 ~ 2021</td>\n",
       "      <td>5'10\"</td>\n",
       "      <td>...</td>\n",
       "      <td>58+2</td>\n",
       "      <td>58+2</td>\n",
       "      <td>56+2</td>\n",
       "      <td>57+2</td>\n",
       "      <td>58+2</td>\n",
       "      <td>58+2</td>\n",
       "      <td>58+2</td>\n",
       "      <td>57+2</td>\n",
       "      <td>14+2</td>\n",
       "      <td>59</td>\n",
       "    </tr>\n",
       "    <tr>\n",
       "      <th>4</th>\n",
       "      <td>10074</td>\n",
       "      <td>234799</td>\n",
       "      <td>Y. Demoncy</td>\n",
       "      <td>23</td>\n",
       "      <td>France</td>\n",
       "      <td>US Orléans Loiret Football</td>\n",
       "      <td>CDM</td>\n",
       "      <td>CDM CM</td>\n",
       "      <td>US Orléans Loiret Football 2018 ~ 2021</td>\n",
       "      <td>5'11\"</td>\n",
       "      <td>...</td>\n",
       "      <td>64+2</td>\n",
       "      <td>64+2</td>\n",
       "      <td>64+2</td>\n",
       "      <td>63+2</td>\n",
       "      <td>61+2</td>\n",
       "      <td>61+2</td>\n",
       "      <td>61+2</td>\n",
       "      <td>63+2</td>\n",
       "      <td>15+2</td>\n",
       "      <td>65</td>\n",
       "    </tr>\n",
       "    <tr>\n",
       "      <th>...</th>\n",
       "      <td>...</td>\n",
       "      <td>...</td>\n",
       "      <td>...</td>\n",
       "      <td>...</td>\n",
       "      <td>...</td>\n",
       "      <td>...</td>\n",
       "      <td>...</td>\n",
       "      <td>...</td>\n",
       "      <td>...</td>\n",
       "      <td>...</td>\n",
       "      <td>...</td>\n",
       "      <td>...</td>\n",
       "      <td>...</td>\n",
       "      <td>...</td>\n",
       "      <td>...</td>\n",
       "      <td>...</td>\n",
       "      <td>...</td>\n",
       "      <td>...</td>\n",
       "      <td>...</td>\n",
       "      <td>...</td>\n",
       "      <td>...</td>\n",
       "    </tr>\n",
       "    <tr>\n",
       "      <th>13695</th>\n",
       "      <td>11284</td>\n",
       "      <td>239074</td>\n",
       "      <td>S. Aw</td>\n",
       "      <td>21</td>\n",
       "      <td>Senegal</td>\n",
       "      <td>Gil Vicente FC</td>\n",
       "      <td>LB</td>\n",
       "      <td>LB</td>\n",
       "      <td>Gil Vicente FC 2020 ~ 2023</td>\n",
       "      <td>5'8\"</td>\n",
       "      <td>...</td>\n",
       "      <td>52+2</td>\n",
       "      <td>52+2</td>\n",
       "      <td>58+2</td>\n",
       "      <td>58+2</td>\n",
       "      <td>54+2</td>\n",
       "      <td>54+2</td>\n",
       "      <td>54+2</td>\n",
       "      <td>58+2</td>\n",
       "      <td>15+2</td>\n",
       "      <td>60</td>\n",
       "    </tr>\n",
       "    <tr>\n",
       "      <th>13696</th>\n",
       "      <td>11964</td>\n",
       "      <td>241223</td>\n",
       "      <td>S. Mogi</td>\n",
       "      <td>21</td>\n",
       "      <td>Japan</td>\n",
       "      <td>Cerezo Osaka</td>\n",
       "      <td>GK</td>\n",
       "      <td>GK</td>\n",
       "      <td>Cerezo Osaka 2017 ~ 2021</td>\n",
       "      <td>6'5\"</td>\n",
       "      <td>...</td>\n",
       "      <td>23+2</td>\n",
       "      <td>23+2</td>\n",
       "      <td>20+2</td>\n",
       "      <td>20+2</td>\n",
       "      <td>22+2</td>\n",
       "      <td>22+2</td>\n",
       "      <td>22+2</td>\n",
       "      <td>20+2</td>\n",
       "      <td>58+2</td>\n",
       "      <td>59</td>\n",
       "    </tr>\n",
       "    <tr>\n",
       "      <th>13697</th>\n",
       "      <td>5390</td>\n",
       "      <td>210930</td>\n",
       "      <td>Carles Gil</td>\n",
       "      <td>27</td>\n",
       "      <td>Spain</td>\n",
       "      <td>New England Revolution</td>\n",
       "      <td>RM</td>\n",
       "      <td>RM CAM CM</td>\n",
       "      <td>New England Revolution 2019 ~ 2024</td>\n",
       "      <td>5'7\"</td>\n",
       "      <td>...</td>\n",
       "      <td>60+2</td>\n",
       "      <td>60+2</td>\n",
       "      <td>62+2</td>\n",
       "      <td>57+2</td>\n",
       "      <td>47+2</td>\n",
       "      <td>47+2</td>\n",
       "      <td>47+2</td>\n",
       "      <td>57+2</td>\n",
       "      <td>18+2</td>\n",
       "      <td>76</td>\n",
       "    </tr>\n",
       "    <tr>\n",
       "      <th>13698</th>\n",
       "      <td>860</td>\n",
       "      <td>162993</td>\n",
       "      <td>J. Perch</td>\n",
       "      <td>34</td>\n",
       "      <td>England</td>\n",
       "      <td>Mansfield Town</td>\n",
       "      <td>CDM</td>\n",
       "      <td>CDM RB CM</td>\n",
       "      <td>Mansfield Town 2020 ~ 2021</td>\n",
       "      <td>5'11\"</td>\n",
       "      <td>...</td>\n",
       "      <td>62+1</td>\n",
       "      <td>62+1</td>\n",
       "      <td>60+2</td>\n",
       "      <td>60+2</td>\n",
       "      <td>63+0</td>\n",
       "      <td>63+0</td>\n",
       "      <td>63+0</td>\n",
       "      <td>60+2</td>\n",
       "      <td>14+2</td>\n",
       "      <td>63</td>\n",
       "    </tr>\n",
       "    <tr>\n",
       "      <th>13699</th>\n",
       "      <td>15795</td>\n",
       "      <td>254882</td>\n",
       "      <td>A. Oeynhausen</td>\n",
       "      <td>18</td>\n",
       "      <td>Germany</td>\n",
       "      <td>SC Paderborn 07</td>\n",
       "      <td>CAM</td>\n",
       "      <td>CM</td>\n",
       "      <td>SC Paderborn 07 2020 ~ 2022</td>\n",
       "      <td>5'10\"</td>\n",
       "      <td>...</td>\n",
       "      <td>55+2</td>\n",
       "      <td>55+2</td>\n",
       "      <td>55+2</td>\n",
       "      <td>54+2</td>\n",
       "      <td>51+2</td>\n",
       "      <td>51+2</td>\n",
       "      <td>51+2</td>\n",
       "      <td>54+2</td>\n",
       "      <td>16+2</td>\n",
       "      <td>60</td>\n",
       "    </tr>\n",
       "  </tbody>\n",
       "</table>\n",
       "<p>13700 rows × 102 columns</p>\n",
       "</div>"
      ],
      "text/plain": [
       "       Unnamed: 0      ID           Name  Age  Nationality  \\\n",
       "0            1954  184383      A. Pasche   26  Switzerland   \n",
       "1            2225  188044  Alan Carvalho   30     China PR   \n",
       "2            1959  184431    S. Giovinco   33        Italy   \n",
       "3            9815  233796       J. Evans   22        Wales   \n",
       "4           10074  234799     Y. Demoncy   23       France   \n",
       "...           ...     ...            ...  ...          ...   \n",
       "13695       11284  239074          S. Aw   21      Senegal   \n",
       "13696       11964  241223        S. Mogi   21        Japan   \n",
       "13697        5390  210930     Carles Gil   27        Spain   \n",
       "13698         860  162993       J. Perch   34      England   \n",
       "13699       15795  254882  A. Oeynhausen   18      Germany   \n",
       "\n",
       "                             Club   BP   Position  \\\n",
       "0               FC Lausanne-Sport   CM     CM CDM   \n",
       "1         Beijing Sinobo Guoan FC   ST   ST LW LM   \n",
       "2                        Al Hilal  CAM     CAM CF   \n",
       "3                    Swansea City  CDM     CDM CM   \n",
       "4      US Orléans Loiret Football  CDM     CDM CM   \n",
       "...                           ...  ...        ...   \n",
       "13695              Gil Vicente FC   LB         LB   \n",
       "13696                Cerezo Osaka   GK         GK   \n",
       "13697      New England Revolution   RM  RM CAM CM   \n",
       "13698              Mansfield Town  CDM  CDM RB CM   \n",
       "13699             SC Paderborn 07  CAM         CM   \n",
       "\n",
       "                                    Team & Contract Height  ...   CDM   RDM  \\\n",
       "0                     FC Lausanne-Sport 2015 ~ 2020   5'9\"  ...  59+1  59+1   \n",
       "1      Beijing Sinobo Guoan FC Dec 31, 2020 On Loan   6'0\"  ...  53+2  53+2   \n",
       "2                              Al Hilal 2019 ~ 2022   5'4\"  ...  56+2  56+2   \n",
       "3                          Swansea City 2016 ~ 2021  5'10\"  ...  58+2  58+2   \n",
       "4            US Orléans Loiret Football 2018 ~ 2021  5'11\"  ...  64+2  64+2   \n",
       "...                                             ...    ...  ...   ...   ...   \n",
       "13695                    Gil Vicente FC 2020 ~ 2023   5'8\"  ...  52+2  52+2   \n",
       "13696                      Cerezo Osaka 2017 ~ 2021   6'5\"  ...  23+2  23+2   \n",
       "13697            New England Revolution 2019 ~ 2024   5'7\"  ...  60+2  60+2   \n",
       "13698                    Mansfield Town 2020 ~ 2021  5'11\"  ...  62+1  62+1   \n",
       "13699                   SC Paderborn 07 2020 ~ 2022  5'10\"  ...  55+2  55+2   \n",
       "\n",
       "        RWB    LB   LCB    CB   RCB    RB    GK  OVA  \n",
       "0      59+1  58+1  54+1  54+1  54+1  58+1  15+1   64  \n",
       "1      57+2  53+2  48+2  48+2  48+2  53+2  18+2   77  \n",
       "2      59+2  53+2  41+2  41+2  41+2  53+2  12+2   80  \n",
       "3      56+2  57+2  58+2  58+2  58+2  57+2  14+2   59  \n",
       "4      64+2  63+2  61+2  61+2  61+2  63+2  15+2   65  \n",
       "...     ...   ...   ...   ...   ...   ...   ...  ...  \n",
       "13695  58+2  58+2  54+2  54+2  54+2  58+2  15+2   60  \n",
       "13696  20+2  20+2  22+2  22+2  22+2  20+2  58+2   59  \n",
       "13697  62+2  57+2  47+2  47+2  47+2  57+2  18+2   76  \n",
       "13698  60+2  60+2  63+0  63+0  63+0  60+2  14+2   63  \n",
       "13699  55+2  54+2  51+2  51+2  51+2  54+2  16+2   60  \n",
       "\n",
       "[13700 rows x 102 columns]"
      ]
     },
     "execution_count": 6,
     "metadata": {},
     "output_type": "execute_result"
    }
   ],
   "source": [
    "data"
   ]
  },
  {
   "cell_type": "code",
   "execution_count": 4,
   "metadata": {},
   "outputs": [
    {
     "data": {
      "text/html": [
       "<div>\n",
       "<style scoped>\n",
       "    .dataframe tbody tr th:only-of-type {\n",
       "        vertical-align: middle;\n",
       "    }\n",
       "\n",
       "    .dataframe tbody tr th {\n",
       "        vertical-align: top;\n",
       "    }\n",
       "\n",
       "    .dataframe thead th {\n",
       "        text-align: right;\n",
       "    }\n",
       "</style>\n",
       "<table border=\"1\" class=\"dataframe\">\n",
       "  <thead>\n",
       "    <tr style=\"text-align: right;\">\n",
       "      <th></th>\n",
       "      <th>Unnamed: 0</th>\n",
       "      <th>ID</th>\n",
       "      <th>Name</th>\n",
       "      <th>Age</th>\n",
       "      <th>Nationality</th>\n",
       "      <th>Club</th>\n",
       "      <th>BP</th>\n",
       "      <th>Position</th>\n",
       "      <th>Team &amp; Contract</th>\n",
       "      <th>Height</th>\n",
       "      <th>Weight</th>\n",
       "      <th>foot</th>\n",
       "      <th>Growth</th>\n",
       "      <th>Joined</th>\n",
       "      <th>Loan Date End</th>\n",
       "      <th>Value</th>\n",
       "      <th>Wage</th>\n",
       "      <th>Release Clause</th>\n",
       "      <th>Contract</th>\n",
       "      <th>Attacking</th>\n",
       "      <th>Crossing</th>\n",
       "      <th>Finishing</th>\n",
       "      <th>Heading Accuracy</th>\n",
       "      <th>Short Passing</th>\n",
       "      <th>Volleys</th>\n",
       "      <th>Skill</th>\n",
       "      <th>Dribbling</th>\n",
       "      <th>Curve</th>\n",
       "      <th>FK Accuracy</th>\n",
       "      <th>Long Passing</th>\n",
       "      <th>Ball Control</th>\n",
       "      <th>Movement</th>\n",
       "      <th>Acceleration</th>\n",
       "      <th>Sprint Speed</th>\n",
       "      <th>Agility</th>\n",
       "      <th>Reactions</th>\n",
       "      <th>Balance</th>\n",
       "      <th>Power</th>\n",
       "      <th>Shot Power</th>\n",
       "      <th>Jumping</th>\n",
       "      <th>Stamina</th>\n",
       "      <th>Strength</th>\n",
       "      <th>Long Shots</th>\n",
       "      <th>Mentality</th>\n",
       "      <th>Aggression</th>\n",
       "      <th>Interceptions</th>\n",
       "      <th>Positioning</th>\n",
       "      <th>Vision</th>\n",
       "      <th>Penalties</th>\n",
       "      <th>Composure</th>\n",
       "      <th>Defending</th>\n",
       "      <th>Marking</th>\n",
       "      <th>Standing Tackle</th>\n",
       "      <th>Sliding Tackle</th>\n",
       "      <th>Goalkeeping</th>\n",
       "      <th>GK Diving</th>\n",
       "      <th>GK Handling</th>\n",
       "      <th>GK Kicking</th>\n",
       "      <th>GK Positioning</th>\n",
       "      <th>GK Reflexes</th>\n",
       "      <th>Total Stats</th>\n",
       "      <th>Base Stats</th>\n",
       "      <th>W/F</th>\n",
       "      <th>SM</th>\n",
       "      <th>A/W</th>\n",
       "      <th>D/W</th>\n",
       "      <th>IR</th>\n",
       "      <th>PAC</th>\n",
       "      <th>SHO</th>\n",
       "      <th>PAS</th>\n",
       "      <th>DRI</th>\n",
       "      <th>DEF</th>\n",
       "      <th>PHY</th>\n",
       "      <th>Hits</th>\n",
       "      <th>LS</th>\n",
       "      <th>ST</th>\n",
       "      <th>RS</th>\n",
       "      <th>LW</th>\n",
       "      <th>LF</th>\n",
       "      <th>CF</th>\n",
       "      <th>RF</th>\n",
       "      <th>RW</th>\n",
       "      <th>LAM</th>\n",
       "      <th>CAM</th>\n",
       "      <th>RAM</th>\n",
       "      <th>LM</th>\n",
       "      <th>LCM</th>\n",
       "      <th>CM</th>\n",
       "      <th>RCM</th>\n",
       "      <th>RM</th>\n",
       "      <th>LWB</th>\n",
       "      <th>LDM</th>\n",
       "      <th>CDM</th>\n",
       "      <th>RDM</th>\n",
       "      <th>RWB</th>\n",
       "      <th>LB</th>\n",
       "      <th>LCB</th>\n",
       "      <th>CB</th>\n",
       "      <th>RCB</th>\n",
       "      <th>RB</th>\n",
       "      <th>GK</th>\n",
       "      <th>OVA</th>\n",
       "    </tr>\n",
       "  </thead>\n",
       "  <tbody>\n",
       "    <tr>\n",
       "      <th>0</th>\n",
       "      <td>1954</td>\n",
       "      <td>184383</td>\n",
       "      <td>A. Pasche</td>\n",
       "      <td>26</td>\n",
       "      <td>Switzerland</td>\n",
       "      <td>FC Lausanne-Sport</td>\n",
       "      <td>CM</td>\n",
       "      <td>CM CDM</td>\n",
       "      <td>FC Lausanne-Sport 2015 ~ 2020</td>\n",
       "      <td>5'9\"</td>\n",
       "      <td>161lbs</td>\n",
       "      <td>Right</td>\n",
       "      <td>1</td>\n",
       "      <td>Jul 1, 2015</td>\n",
       "      <td>NaN</td>\n",
       "      <td>€525K</td>\n",
       "      <td>€4K</td>\n",
       "      <td>€801K</td>\n",
       "      <td>2015 ~ 2020</td>\n",
       "      <td>258</td>\n",
       "      <td>54</td>\n",
       "      <td>47</td>\n",
       "      <td>43</td>\n",
       "      <td>70</td>\n",
       "      <td>44.0</td>\n",
       "      <td>286</td>\n",
       "      <td>61</td>\n",
       "      <td>44.0</td>\n",
       "      <td>55</td>\n",
       "      <td>63</td>\n",
       "      <td>63</td>\n",
       "      <td>346</td>\n",
       "      <td>64</td>\n",
       "      <td>73</td>\n",
       "      <td>61.0</td>\n",
       "      <td>66</td>\n",
       "      <td>82.0</td>\n",
       "      <td>306</td>\n",
       "      <td>62</td>\n",
       "      <td>73.0</td>\n",
       "      <td>71</td>\n",
       "      <td>55</td>\n",
       "      <td>45</td>\n",
       "      <td>290</td>\n",
       "      <td>54</td>\n",
       "      <td>52.0</td>\n",
       "      <td>62.0</td>\n",
       "      <td>68.0</td>\n",
       "      <td>54</td>\n",
       "      <td>54.0</td>\n",
       "      <td>148</td>\n",
       "      <td>49</td>\n",
       "      <td>56</td>\n",
       "      <td>43.0</td>\n",
       "      <td>48</td>\n",
       "      <td>7</td>\n",
       "      <td>12</td>\n",
       "      <td>14</td>\n",
       "      <td>9</td>\n",
       "      <td>6</td>\n",
       "      <td>1682</td>\n",
       "      <td>357</td>\n",
       "      <td>4 ★</td>\n",
       "      <td>2★</td>\n",
       "      <td>High</td>\n",
       "      <td>Medium</td>\n",
       "      <td>1 ★</td>\n",
       "      <td>69</td>\n",
       "      <td>51</td>\n",
       "      <td>63</td>\n",
       "      <td>63</td>\n",
       "      <td>51</td>\n",
       "      <td>60</td>\n",
       "      <td>3</td>\n",
       "      <td>58+1</td>\n",
       "      <td>58+1</td>\n",
       "      <td>58+1</td>\n",
       "      <td>61+0</td>\n",
       "      <td>62+0</td>\n",
       "      <td>62+0</td>\n",
       "      <td>62+0</td>\n",
       "      <td>61+0</td>\n",
       "      <td>63+1</td>\n",
       "      <td>63+1</td>\n",
       "      <td>63+1</td>\n",
       "      <td>63+1</td>\n",
       "      <td>63+1</td>\n",
       "      <td>63+1</td>\n",
       "      <td>63+1</td>\n",
       "      <td>63+1</td>\n",
       "      <td>59+1</td>\n",
       "      <td>59+1</td>\n",
       "      <td>59+1</td>\n",
       "      <td>59+1</td>\n",
       "      <td>59+1</td>\n",
       "      <td>58+1</td>\n",
       "      <td>54+1</td>\n",
       "      <td>54+1</td>\n",
       "      <td>54+1</td>\n",
       "      <td>58+1</td>\n",
       "      <td>15+1</td>\n",
       "      <td>64</td>\n",
       "    </tr>\n",
       "    <tr>\n",
       "      <th>1</th>\n",
       "      <td>2225</td>\n",
       "      <td>188044</td>\n",
       "      <td>Alan Carvalho</td>\n",
       "      <td>30</td>\n",
       "      <td>China PR</td>\n",
       "      <td>Beijing Sinobo Guoan FC</td>\n",
       "      <td>ST</td>\n",
       "      <td>ST LW LM</td>\n",
       "      <td>Beijing Sinobo Guoan FC Dec 31, 2020 On Loan</td>\n",
       "      <td>6'0\"</td>\n",
       "      <td>159lbs</td>\n",
       "      <td>Right</td>\n",
       "      <td>0</td>\n",
       "      <td>Jan 16, 2015</td>\n",
       "      <td>Dec 31, 2020</td>\n",
       "      <td>€8.5M</td>\n",
       "      <td>€23K</td>\n",
       "      <td>€0</td>\n",
       "      <td>Dec 31, 2020 On Loan</td>\n",
       "      <td>365</td>\n",
       "      <td>66</td>\n",
       "      <td>79</td>\n",
       "      <td>76</td>\n",
       "      <td>68</td>\n",
       "      <td>76.0</td>\n",
       "      <td>375</td>\n",
       "      <td>83</td>\n",
       "      <td>78.0</td>\n",
       "      <td>72</td>\n",
       "      <td>63</td>\n",
       "      <td>79</td>\n",
       "      <td>404</td>\n",
       "      <td>83</td>\n",
       "      <td>83</td>\n",
       "      <td>88.0</td>\n",
       "      <td>75</td>\n",
       "      <td>75.0</td>\n",
       "      <td>372</td>\n",
       "      <td>74</td>\n",
       "      <td>81.0</td>\n",
       "      <td>75</td>\n",
       "      <td>74</td>\n",
       "      <td>68</td>\n",
       "      <td>313</td>\n",
       "      <td>54</td>\n",
       "      <td>33.0</td>\n",
       "      <td>78.0</td>\n",
       "      <td>72.0</td>\n",
       "      <td>76</td>\n",
       "      <td>70.0</td>\n",
       "      <td>77</td>\n",
       "      <td>35</td>\n",
       "      <td>20</td>\n",
       "      <td>22.0</td>\n",
       "      <td>55</td>\n",
       "      <td>11</td>\n",
       "      <td>7</td>\n",
       "      <td>14</td>\n",
       "      <td>7</td>\n",
       "      <td>16</td>\n",
       "      <td>1961</td>\n",
       "      <td>412</td>\n",
       "      <td>3 ★</td>\n",
       "      <td>4★</td>\n",
       "      <td>High</td>\n",
       "      <td>Low</td>\n",
       "      <td>2 ★</td>\n",
       "      <td>83</td>\n",
       "      <td>75</td>\n",
       "      <td>68</td>\n",
       "      <td>82</td>\n",
       "      <td>33</td>\n",
       "      <td>71</td>\n",
       "      <td>44</td>\n",
       "      <td>77+0</td>\n",
       "      <td>77+0</td>\n",
       "      <td>77+0</td>\n",
       "      <td>77+0</td>\n",
       "      <td>77+0</td>\n",
       "      <td>77+0</td>\n",
       "      <td>77+0</td>\n",
       "      <td>77+0</td>\n",
       "      <td>76+1</td>\n",
       "      <td>76+1</td>\n",
       "      <td>76+1</td>\n",
       "      <td>76+1</td>\n",
       "      <td>68+2</td>\n",
       "      <td>68+2</td>\n",
       "      <td>68+2</td>\n",
       "      <td>76+1</td>\n",
       "      <td>57+2</td>\n",
       "      <td>53+2</td>\n",
       "      <td>53+2</td>\n",
       "      <td>53+2</td>\n",
       "      <td>57+2</td>\n",
       "      <td>53+2</td>\n",
       "      <td>48+2</td>\n",
       "      <td>48+2</td>\n",
       "      <td>48+2</td>\n",
       "      <td>53+2</td>\n",
       "      <td>18+2</td>\n",
       "      <td>77</td>\n",
       "    </tr>\n",
       "  </tbody>\n",
       "</table>\n",
       "</div>"
      ],
      "text/plain": [
       "   Unnamed: 0      ID           Name  Age  Nationality  \\\n",
       "0        1954  184383      A. Pasche   26  Switzerland   \n",
       "1        2225  188044  Alan Carvalho   30     China PR   \n",
       "\n",
       "                      Club  BP  Position  \\\n",
       "0        FC Lausanne-Sport  CM    CM CDM   \n",
       "1  Beijing Sinobo Guoan FC  ST  ST LW LM   \n",
       "\n",
       "                                Team & Contract Height  Weight   foot  Growth  \\\n",
       "0                 FC Lausanne-Sport 2015 ~ 2020   5'9\"  161lbs  Right       1   \n",
       "1  Beijing Sinobo Guoan FC Dec 31, 2020 On Loan   6'0\"  159lbs  Right       0   \n",
       "\n",
       "         Joined Loan Date End  Value  Wage Release Clause  \\\n",
       "0   Jul 1, 2015           NaN  €525K   €4K          €801K   \n",
       "1  Jan 16, 2015  Dec 31, 2020  €8.5M  €23K             €0   \n",
       "\n",
       "               Contract  Attacking  Crossing  Finishing  Heading Accuracy  \\\n",
       "0           2015 ~ 2020        258        54         47                43   \n",
       "1  Dec 31, 2020 On Loan        365        66         79                76   \n",
       "\n",
       "   Short Passing  Volleys  Skill  Dribbling  Curve  FK Accuracy  Long Passing  \\\n",
       "0             70     44.0    286         61   44.0           55            63   \n",
       "1             68     76.0    375         83   78.0           72            63   \n",
       "\n",
       "   Ball Control  Movement  Acceleration  Sprint Speed  Agility  Reactions  \\\n",
       "0            63       346            64            73     61.0         66   \n",
       "1            79       404            83            83     88.0         75   \n",
       "\n",
       "   Balance  Power  Shot Power  Jumping  Stamina  Strength  Long Shots  \\\n",
       "0     82.0    306          62     73.0       71        55          45   \n",
       "1     75.0    372          74     81.0       75        74          68   \n",
       "\n",
       "   Mentality  Aggression  Interceptions  Positioning  Vision  Penalties  \\\n",
       "0        290          54           52.0         62.0    68.0         54   \n",
       "1        313          54           33.0         78.0    72.0         76   \n",
       "\n",
       "   Composure  Defending  Marking  Standing Tackle  Sliding Tackle  \\\n",
       "0       54.0        148       49               56            43.0   \n",
       "1       70.0         77       35               20            22.0   \n",
       "\n",
       "   Goalkeeping  GK Diving  GK Handling  GK Kicking  GK Positioning  \\\n",
       "0           48          7           12          14               9   \n",
       "1           55         11            7          14               7   \n",
       "\n",
       "   GK Reflexes  Total Stats  Base Stats  W/F  SM   A/W     D/W   IR  PAC  SHO  \\\n",
       "0            6         1682         357  4 ★  2★  High  Medium  1 ★   69   51   \n",
       "1           16         1961         412  3 ★  4★  High     Low  2 ★   83   75   \n",
       "\n",
       "   PAS  DRI  DEF  PHY Hits    LS    ST    RS    LW    LF    CF    RF    RW  \\\n",
       "0   63   63   51   60    3  58+1  58+1  58+1  61+0  62+0  62+0  62+0  61+0   \n",
       "1   68   82   33   71   44  77+0  77+0  77+0  77+0  77+0  77+0  77+0  77+0   \n",
       "\n",
       "    LAM   CAM   RAM    LM   LCM    CM   RCM    RM   LWB   LDM   CDM   RDM  \\\n",
       "0  63+1  63+1  63+1  63+1  63+1  63+1  63+1  63+1  59+1  59+1  59+1  59+1   \n",
       "1  76+1  76+1  76+1  76+1  68+2  68+2  68+2  76+1  57+2  53+2  53+2  53+2   \n",
       "\n",
       "    RWB    LB   LCB    CB   RCB    RB    GK  OVA  \n",
       "0  59+1  58+1  54+1  54+1  54+1  58+1  15+1   64  \n",
       "1  57+2  53+2  48+2  48+2  48+2  53+2  18+2   77  "
      ]
     },
     "execution_count": 4,
     "metadata": {},
     "output_type": "execute_result"
    }
   ],
   "source": [
    "pd.set_option('display.max_columns', None)\n",
    "data.head(2)"
   ]
  },
  {
   "cell_type": "code",
   "execution_count": null,
   "metadata": {},
   "outputs": [],
   "source": [
    "data['height'][0]."
   ]
  },
  {
   "cell_type": "code",
   "execution_count": null,
   "metadata": {},
   "outputs": [],
   "source": [
    "col_to_trash = ['ID', 'Name']\n",
    "col_money = ['Wage', 'Release Caluse', ]                "
   ]
  },
  {
   "cell_type": "code",
   "execution_count": 26,
   "metadata": {},
   "outputs": [
    {
     "data": {
      "text/plain": [
       "''"
      ]
     },
     "execution_count": 26,
     "metadata": {},
     "output_type": "execute_result"
    }
   ],
   "source": [
    "data['height'][0].split('\\'')[0][:-1]"
   ]
  },
  {
   "cell_type": "code",
   "execution_count": 27,
   "metadata": {},
   "outputs": [],
   "source": [
    "def transform_height(c):\n",
    "    return float(c.split('\\'')[0])* 12 + float(data['height'][0].split('\\'')[1][:-1])"
   ]
  },
  {
   "cell_type": "code",
   "execution_count": 30,
   "metadata": {},
   "outputs": [],
   "source": [
    "# dividir\n",
    "def get_left(c):\n",
    "    return float(c.split('+')[0])\n",
    "def get_right(c):\n",
    "    return float(c.split('+')[1])"
   ]
  },
  {
   "cell_type": "code",
   "execution_count": 31,
   "metadata": {},
   "outputs": [],
   "source": [
    "# sumar\n",
    "def get_sum(c):\n",
    "    return float(c.split('+')[0]) + float(c.split('+')[1])\n"
   ]
  },
  {
   "cell_type": "code",
   "execution_count": null,
   "metadata": {},
   "outputs": [],
   "source": [
    "col_left_right = ['ls', 'lb']"
   ]
  },
  {
   "cell_type": "code",
   "execution_count": 25,
   "metadata": {},
   "outputs": [
    {
     "data": {
      "text/plain": [
       "69.0"
      ]
     },
     "execution_count": 25,
     "metadata": {},
     "output_type": "execute_result"
    }
   ],
   "source": [
    "float(data['height'][0].split('\\'')[0]) * 12 + float(data['height'][0].split('\\'')[1][:-1])"
   ]
  },
  {
   "cell_type": "code",
   "execution_count": null,
   "metadata": {},
   "outputs": [],
   "source": []
  },
  {
   "cell_type": "code",
   "execution_count": null,
   "metadata": {},
   "outputs": [],
   "source": [
    "data.select"
   ]
  },
  {
   "cell_type": "code",
   "execution_count": 9,
   "metadata": {},
   "outputs": [
    {
     "data": {
      "text/plain": [
       "(13700, 102)"
      ]
     },
     "execution_count": 9,
     "metadata": {},
     "output_type": "execute_result"
    }
   ],
   "source": [
    "data.shape"
   ]
  },
  {
   "cell_type": "code",
   "execution_count": 11,
   "metadata": {},
   "outputs": [
    {
     "ename": "AttributeError",
     "evalue": "'DataFrame' object has no attribute 'column'",
     "output_type": "error",
     "traceback": [
      "\u001b[1;31m---------------------------------------------------------------------------\u001b[0m",
      "\u001b[1;31mAttributeError\u001b[0m                            Traceback (most recent call last)",
      "Input \u001b[1;32mIn [11]\u001b[0m, in \u001b[0;36m<cell line: 1>\u001b[1;34m()\u001b[0m\n\u001b[1;32m----> 1\u001b[0m \u001b[38;5;28mlist\u001b[39m(\u001b[43mdata\u001b[49m\u001b[38;5;241;43m.\u001b[39;49m\u001b[43mcolumn\u001b[49m)\n",
      "File \u001b[1;32m~\\OneDrive - EY\\Documents\\Anaconda3\\lib\\site-packages\\pandas\\core\\generic.py:5575\u001b[0m, in \u001b[0;36mNDFrame.__getattr__\u001b[1;34m(self, name)\u001b[0m\n\u001b[0;32m   5568\u001b[0m \u001b[38;5;28;01mif\u001b[39;00m (\n\u001b[0;32m   5569\u001b[0m     name \u001b[38;5;129;01mnot\u001b[39;00m \u001b[38;5;129;01min\u001b[39;00m \u001b[38;5;28mself\u001b[39m\u001b[38;5;241m.\u001b[39m_internal_names_set\n\u001b[0;32m   5570\u001b[0m     \u001b[38;5;129;01mand\u001b[39;00m name \u001b[38;5;129;01mnot\u001b[39;00m \u001b[38;5;129;01min\u001b[39;00m \u001b[38;5;28mself\u001b[39m\u001b[38;5;241m.\u001b[39m_metadata\n\u001b[0;32m   5571\u001b[0m     \u001b[38;5;129;01mand\u001b[39;00m name \u001b[38;5;129;01mnot\u001b[39;00m \u001b[38;5;129;01min\u001b[39;00m \u001b[38;5;28mself\u001b[39m\u001b[38;5;241m.\u001b[39m_accessors\n\u001b[0;32m   5572\u001b[0m     \u001b[38;5;129;01mand\u001b[39;00m \u001b[38;5;28mself\u001b[39m\u001b[38;5;241m.\u001b[39m_info_axis\u001b[38;5;241m.\u001b[39m_can_hold_identifiers_and_holds_name(name)\n\u001b[0;32m   5573\u001b[0m ):\n\u001b[0;32m   5574\u001b[0m     \u001b[38;5;28;01mreturn\u001b[39;00m \u001b[38;5;28mself\u001b[39m[name]\n\u001b[1;32m-> 5575\u001b[0m \u001b[38;5;28;01mreturn\u001b[39;00m \u001b[38;5;28;43mobject\u001b[39;49m\u001b[38;5;241;43m.\u001b[39;49m\u001b[38;5;21;43m__getattribute__\u001b[39;49m\u001b[43m(\u001b[49m\u001b[38;5;28;43mself\u001b[39;49m\u001b[43m,\u001b[49m\u001b[43m \u001b[49m\u001b[43mname\u001b[49m\u001b[43m)\u001b[49m\n",
      "\u001b[1;31mAttributeError\u001b[0m: 'DataFrame' object has no attribute 'column'"
     ]
    }
   ],
   "source": [
    "list(data.column)"
   ]
  },
  {
   "cell_type": "code",
   "execution_count": 27,
   "metadata": {},
   "outputs": [],
   "source": [
    "import pickle\n",
    "a = {'hello' : 'world'}"
   ]
  },
  {
   "cell_type": "code",
   "execution_count": 29,
   "metadata": {},
   "outputs": [],
   "source": [
    "with open('filename.pickle', 'wb') as handle:\n",
    "    pickle.dump(a, handle, protocol=pickle.HIGHEST_PROTOCOL)"
   ]
  },
  {
   "cell_type": "code",
   "execution_count": 31,
   "metadata": {},
   "outputs": [],
   "source": [
    "with open ('filename.pickle', 'rb') as handle:\n",
    "    b = pickle.load(handle)"
   ]
  },
  {
   "cell_type": "code",
   "execution_count": 32,
   "metadata": {},
   "outputs": [
    {
     "name": "stdout",
     "output_type": "stream",
     "text": [
      "True\n"
     ]
    }
   ],
   "source": [
    "print(a == b)"
   ]
  },
  {
   "cell_type": "code",
   "execution_count": 33,
   "metadata": {},
   "outputs": [
    {
     "data": {
      "text/plain": [
       "   Unnamed: 0      ID           Name  Age  Nationality  \\\n",
       "0        1954  184383      A. Pasche   26  Switzerland   \n",
       "1        2225  188044  Alan Carvalho   30     China PR   \n",
       "\n",
       "                      Club  BP  Position  \\\n",
       "0        FC Lausanne-Sport  CM    CM CDM   \n",
       "1  Beijing Sinobo Guoan FC  ST  ST LW LM   \n",
       "\n",
       "                                Team & Contract Height  Weight   foot  Growth  \\\n",
       "0                 FC Lausanne-Sport 2015 ~ 2020   5'9\"  161lbs  Right       1   \n",
       "1  Beijing Sinobo Guoan FC Dec 31, 2020 On Loan   6'0\"  159lbs  Right       0   \n",
       "\n",
       "         Joined Loan Date End  Value  Wage Release Clause  \\\n",
       "0   Jul 1, 2015           NaN  €525K   €4K          €801K   \n",
       "1  Jan 16, 2015  Dec 31, 2020  €8.5M  €23K             €0   \n",
       "\n",
       "               Contract  Attacking  Crossing  Finishing  Heading Accuracy  \\\n",
       "0           2015 ~ 2020        258        54         47                43   \n",
       "1  Dec 31, 2020 On Loan        365        66         79                76   \n",
       "\n",
       "   Short Passing  Volleys  Skill  Dribbling  Curve  FK Accuracy  Long Passing  \\\n",
       "0             70     44.0    286         61   44.0           55            63   \n",
       "1             68     76.0    375         83   78.0           72            63   \n",
       "\n",
       "   Ball Control  Movement  Acceleration  Sprint Speed  Agility  Reactions  \\\n",
       "0            63       346            64            73     61.0         66   \n",
       "1            79       404            83            83     88.0         75   \n",
       "\n",
       "   Balance  Power  Shot Power  Jumping  Stamina  Strength  Long Shots  \\\n",
       "0     82.0    306          62     73.0       71        55          45   \n",
       "1     75.0    372          74     81.0       75        74          68   \n",
       "\n",
       "   Mentality  Aggression  Interceptions  Positioning  Vision  Penalties  \\\n",
       "0        290          54           52.0         62.0    68.0         54   \n",
       "1        313          54           33.0         78.0    72.0         76   \n",
       "\n",
       "   Composure  Defending  Marking  Standing Tackle  Sliding Tackle  \\\n",
       "0       54.0        148       49               56            43.0   \n",
       "1       70.0         77       35               20            22.0   \n",
       "\n",
       "   Goalkeeping  GK Diving  GK Handling  GK Kicking  GK Positioning  \\\n",
       "0           48          7           12          14               9   \n",
       "1           55         11            7          14               7   \n",
       "\n",
       "   GK Reflexes  Total Stats  Base Stats  W/F  SM   A/W     D/W   IR  PAC  SHO  \\\n",
       "0            6         1682         357  4 ★  2★  High  Medium  1 ★   69   51   \n",
       "1           16         1961         412  3 ★  4★  High     Low  2 ★   83   75   \n",
       "\n",
       "   PAS  DRI  DEF  PHY Hits    LS    ST    RS    LW    LF    CF    RF    RW  \\\n",
       "0   63   63   51   60    3  58+1  58+1  58+1  61+0  62+0  62+0  62+0  61+0   \n",
       "1   68   82   33   71   44  77+0  77+0  77+0  77+0  77+0  77+0  77+0  77+0   \n",
       "\n",
       "    LAM   CAM   RAM    LM   LCM    CM   RCM    RM   LWB   LDM   CDM   RDM  \\\n",
       "0  63+1  63+1  63+1  63+1  63+1  63+1  63+1  63+1  59+1  59+1  59+1  59+1   \n",
       "1  76+1  76+1  76+1  76+1  68+2  68+2  68+2  76+1  57+2  53+2  53+2  53+2   \n",
       "\n",
       "    RWB    LB   LCB    CB   RCB    RB    GK  OVA  \n",
       "0  59+1  58+1  54+1  54+1  54+1  58+1  15+1   64  \n",
       "1  57+2  53+2  48+2  48+2  48+2  53+2  18+2   77  "
      ]
     },
     "execution_count": 33,
     "metadata": {},
     "output_type": "execute_result"
    }
   ],
   "source": [
    "pd.set_option('display.max_columns', None)\n",
    "data.head(2)\n"
   ]
  },
  {
   "cell_type": "code",
   "execution_count": 35,
   "metadata": {},
   "outputs": [
    {
     "data": {
      "text/plain": [
       "(13700, 102)"
      ]
     },
     "execution_count": 35,
     "metadata": {},
     "output_type": "execute_result"
    }
   ],
   "source": [
    "data.shape"
   ]
  },
  {
   "cell_type": "code",
   "execution_count": 5,
   "metadata": {},
   "outputs": [],
   "source": [
    "import pickle\n",
    "\n",
    "a = {'hello': 'world'}"
   ]
  },
  {
   "cell_type": "code",
   "execution_count": 6,
   "metadata": {},
   "outputs": [],
   "source": [
    "with open('filename.pickle', 'wb') as handle:\n",
    "    pickle.dump(a, handle, protocol=pickle.HIGHEST_PROTOCOL)"
   ]
  },
  {
   "cell_type": "code",
   "execution_count": 7,
   "metadata": {},
   "outputs": [],
   "source": [
    "with open('filename.pickle', 'rb') as handle:\n",
    "    b = pickle.load(handle)"
   ]
  },
  {
   "cell_type": "code",
   "execution_count": 8,
   "metadata": {},
   "outputs": [
    {
     "name": "stdout",
     "output_type": "stream",
     "text": [
      "True\n"
     ]
    }
   ],
   "source": [
    "print(a == b)"
   ]
  },
  {
   "cell_type": "code",
   "execution_count": 9,
   "metadata": {},
   "outputs": [
    {
     "data": {
      "text/plain": [
       "{'hello': 'world'}"
      ]
     },
     "execution_count": 9,
     "metadata": {},
     "output_type": "execute_result"
    }
   ],
   "source": [
    "b"
   ]
  },
  {
   "cell_type": "code",
   "execution_count": 42,
   "metadata": {},
   "outputs": [
    {
     "data": {
      "text/plain": [
       "array(['Switzerland', 'China PR', 'Italy', 'Wales', 'France',\n",
       "       'Bosnia Herzegovina', 'Argentina', 'Paraguay', 'Uruguay',\n",
       "       'United States', 'Mexico', 'Chile', 'Germany', 'Nigeria', 'Spain',\n",
       "       'Norway', 'Russia', 'England', 'Republic of Ireland', 'Cape Verde',\n",
       "       'Bulgaria', 'Zambia', 'Honduras', 'Albania', 'Finland', 'Ghana',\n",
       "       'Japan', 'Cameroon', 'Peru', 'Austria', 'Congo', 'Colombia',\n",
       "       'Belgium', 'Brazil', 'Korea Republic', 'Hungary', 'Morocco',\n",
       "       'Kosovo', 'Netherlands', 'Sweden', 'Scotland', 'Denmark',\n",
       "       'Northern Ireland', 'Turkey', 'Poland', 'Ivory Coast', 'Bolivia',\n",
       "       'Ukraine', 'Ecuador', 'Malaysia', 'DR Congo', 'Mali', 'Romania',\n",
       "       'Slovenia', 'United Arab Emirates', 'Australia', 'Venezuela',\n",
       "       'Montenegro', 'Slovakia', 'Curacao', 'Portugal', 'Senegal',\n",
       "       'Lebanon', 'Serbia', 'Iran', 'Zimbabwe', 'Iceland', 'Burkina Faso',\n",
       "       'Czech Republic', 'Iraq', 'Costa Rica', 'Canada', 'Libya', 'Benin',\n",
       "       'Korea DPR', 'Algeria', 'Angola', 'Saudi Arabia', 'Togo',\n",
       "       'South Sudan', 'Croatia', 'Comoros', 'Burundi', 'Vietnam',\n",
       "       'New Zealand', 'Greece', 'Jamaica', 'India', 'Lithuania', 'Aruba',\n",
       "       'Papua New Guinea', 'South Africa', 'Liberia', 'Haiti', 'Guyana',\n",
       "       'Guinea', 'Luxembourg', 'Egypt', 'Afghanistan', 'Tunisia',\n",
       "       'Uzbekistan', 'Equatorial Guinea', 'Georgia', 'Chinese Taipei',\n",
       "       'Dominican Republic', 'Indonesia', 'Moldova', 'Gambia', 'Cyprus',\n",
       "       'Cuba', 'Israel', 'Armenia', 'North Macedonia', 'Gabon', 'Kenya',\n",
       "       'Trinidad &amp; Tobago', 'Philippines', 'Azerbaijan', 'Latvia',\n",
       "       'Sudan', 'Mozambique', 'Panama', 'Antigua &amp; Barbuda',\n",
       "       'Mauritania', 'Liechtenstein', 'Madagascar', 'Guinea Bissau',\n",
       "       'Qatar', 'Uganda', 'Thailand', 'Faroe Islands',\n",
       "       'Saint Kitts and Nevis', 'Estonia', 'Grenada', 'Belarus', 'Guam',\n",
       "       'Sierra Leone', 'New Caledonia', 'Namibia', 'Jordan',\n",
       "       'Central African Republic', 'Syria', 'Macau', 'Kazakhstan',\n",
       "       'Malawi', 'Rwanda', 'Hong Kong', 'Singapore', 'Chad', 'Palestine',\n",
       "       'Barbados', 'Belize', 'Gibraltar', 'El Salvador', 'Malta',\n",
       "       'São Tomé &amp; Príncipe', 'Puerto Rico', 'Niger', 'Tanzania',\n",
       "       'Eritrea'], dtype=object)"
      ]
     },
     "execution_count": 42,
     "metadata": {},
     "output_type": "execute_result"
    }
   ],
   "source": [
    "data['Nationality'].unique()"
   ]
  },
  {
   "cell_type": "code",
   "execution_count": 44,
   "metadata": {},
   "outputs": [],
   "source": [
    "import pycountry_convert"
   ]
  },
  {
   "cell_type": "code",
   "execution_count": 47,
   "metadata": {},
   "outputs": [
    {
     "data": {
      "text/plain": [
       "'MW'"
      ]
     },
     "execution_count": 47,
     "metadata": {},
     "output_type": "execute_result"
    }
   ],
   "source": [
    "pycountry_convert.convert_countries.country_name_to_country_alpha2('Malawi')"
   ]
  },
  {
   "cell_type": "code",
   "execution_count": 48,
   "metadata": {},
   "outputs": [
    {
     "data": {
      "text/plain": [
       "'AF'"
      ]
     },
     "execution_count": 48,
     "metadata": {},
     "output_type": "execute_result"
    }
   ],
   "source": [
    "pycountry_convert.country_alpha2_to_continent_code('MW')"
   ]
  },
  {
   "cell_type": "code",
   "execution_count": 52,
   "metadata": {},
   "outputs": [
    {
     "data": {
      "text/plain": [
       "13700"
      ]
     },
     "execution_count": 52,
     "metadata": {},
     "output_type": "execute_result"
    }
   ],
   "source": [
    "data['Height'].str.contains(\"\\\"\").sum()"
   ]
  },
  {
   "cell_type": "code",
   "execution_count": 55,
   "metadata": {},
   "outputs": [
    {
     "data": {
      "text/plain": [
       "'5'"
      ]
     },
     "execution_count": 55,
     "metadata": {},
     "output_type": "execute_result"
    }
   ],
   "source": [
    "data['Height'][0].split(\"'\")[0]"
   ]
  },
  {
   "cell_type": "code",
   "execution_count": 57,
   "metadata": {},
   "outputs": [
    {
     "data": {
      "text/plain": [
       "'9'"
      ]
     },
     "execution_count": 57,
     "metadata": {},
     "output_type": "execute_result"
    }
   ],
   "source": [
    "data['Height'][0].split(\"'\")[1][:-1]"
   ]
  },
  {
   "cell_type": "code",
   "execution_count": 60,
   "metadata": {},
   "outputs": [
    {
     "data": {
      "text/plain": [
       "69.0"
      ]
     },
     "execution_count": 60,
     "metadata": {},
     "output_type": "execute_result"
    }
   ],
   "source": [
    "float(data['Height'][0].split(\"'\")[0])*12 + float(data['Height'][0].split(\"'\")[1][:-1])"
   ]
  },
  {
   "cell_type": "code",
   "execution_count": 34,
   "metadata": {},
   "outputs": [
    {
     "data": {
      "text/plain": [
       "13700"
      ]
     },
     "execution_count": 34,
     "metadata": {},
     "output_type": "execute_result"
    }
   ],
   "source": [
    "len(data['Nationality'])"
   ]
  },
  {
   "cell_type": "code",
   "execution_count": 35,
   "metadata": {},
   "outputs": [
    {
     "data": {
      "text/plain": [
       "array(['Switzerland', 'China PR', 'Italy', 'Wales', 'France',\n",
       "       'Bosnia Herzegovina', 'Argentina', 'Paraguay', 'Uruguay',\n",
       "       'United States', 'Mexico', 'Chile', 'Germany', 'Nigeria', 'Spain',\n",
       "       'Norway', 'Russia', 'England', 'Republic of Ireland', 'Cape Verde',\n",
       "       'Bulgaria', 'Zambia', 'Honduras', 'Albania', 'Finland', 'Ghana',\n",
       "       'Japan', 'Cameroon', 'Peru', 'Austria', 'Congo', 'Colombia',\n",
       "       'Belgium', 'Brazil', 'Korea Republic', 'Hungary', 'Morocco',\n",
       "       'Kosovo', 'Netherlands', 'Sweden', 'Scotland', 'Denmark',\n",
       "       'Northern Ireland', 'Turkey', 'Poland', 'Ivory Coast', 'Bolivia',\n",
       "       'Ukraine', 'Ecuador', 'Malaysia', 'DR Congo', 'Mali', 'Romania',\n",
       "       'Slovenia', 'United Arab Emirates', 'Australia', 'Venezuela',\n",
       "       'Montenegro', 'Slovakia', 'Curacao', 'Portugal', 'Senegal',\n",
       "       'Lebanon', 'Serbia', 'Iran', 'Zimbabwe', 'Iceland', 'Burkina Faso',\n",
       "       'Czech Republic', 'Iraq', 'Costa Rica', 'Canada', 'Libya', 'Benin',\n",
       "       'Korea DPR', 'Algeria', 'Angola', 'Saudi Arabia', 'Togo',\n",
       "       'South Sudan', 'Croatia', 'Comoros', 'Burundi', 'Vietnam',\n",
       "       'New Zealand', 'Greece', 'Jamaica', 'India', 'Lithuania', 'Aruba',\n",
       "       'Papua New Guinea', 'South Africa', 'Liberia', 'Haiti', 'Guyana',\n",
       "       'Guinea', 'Luxembourg', 'Egypt', 'Afghanistan', 'Tunisia',\n",
       "       'Uzbekistan', 'Equatorial Guinea', 'Georgia', 'Chinese Taipei',\n",
       "       'Dominican Republic', 'Indonesia', 'Moldova', 'Gambia', 'Cyprus',\n",
       "       'Cuba', 'Israel', 'Armenia', 'North Macedonia', 'Gabon', 'Kenya',\n",
       "       'Trinidad &amp; Tobago', 'Philippines', 'Azerbaijan', 'Latvia',\n",
       "       'Sudan', 'Mozambique', 'Panama', 'Antigua &amp; Barbuda',\n",
       "       'Mauritania', 'Liechtenstein', 'Madagascar', 'Guinea Bissau',\n",
       "       'Qatar', 'Uganda', 'Thailand', 'Faroe Islands',\n",
       "       'Saint Kitts and Nevis', 'Estonia', 'Grenada', 'Belarus', 'Guam',\n",
       "       'Sierra Leone', 'New Caledonia', 'Namibia', 'Jordan',\n",
       "       'Central African Republic', 'Syria', 'Macau', 'Kazakhstan',\n",
       "       'Malawi', 'Rwanda', 'Hong Kong', 'Singapore', 'Chad', 'Palestine',\n",
       "       'Barbados', 'Belize', 'Gibraltar', 'El Salvador', 'Malta',\n",
       "       'São Tomé &amp; Príncipe', 'Puerto Rico', 'Niger', 'Tanzania',\n",
       "       'Eritrea'], dtype=object)"
      ]
     },
     "execution_count": 35,
     "metadata": {},
     "output_type": "execute_result"
    }
   ],
   "source": [
    "data['Nationality'].unique()"
   ]
  },
  {
   "cell_type": "code",
   "execution_count": null,
   "metadata": {},
   "outputs": [],
   "source": []
  },
  {
   "cell_type": "code",
   "execution_count": 36,
   "metadata": {},
   "outputs": [
    {
     "ename": "ModuleNotFoundError",
     "evalue": "No module named 'pycountry_convert'",
     "output_type": "error",
     "traceback": [
      "\u001b[1;31m---------------------------------------------------------------------------\u001b[0m",
      "\u001b[1;31mModuleNotFoundError\u001b[0m                       Traceback (most recent call last)",
      "Input \u001b[1;32mIn [36]\u001b[0m, in \u001b[0;36m<cell line: 1>\u001b[1;34m()\u001b[0m\n\u001b[1;32m----> 1\u001b[0m \u001b[38;5;28;01mimport\u001b[39;00m \u001b[38;5;21;01mpycountry_convert\u001b[39;00m\n",
      "\u001b[1;31mModuleNotFoundError\u001b[0m: No module named 'pycountry_convert'"
     ]
    }
   ],
   "source": [
    "import pycountry_convert"
   ]
  },
  {
   "cell_type": "code",
   "execution_count": 38,
   "metadata": {},
   "outputs": [
    {
     "data": {
      "text/plain": [
       "13700"
      ]
     },
     "execution_count": 38,
     "metadata": {},
     "output_type": "execute_result"
    }
   ],
   "source": [
    "data['Height'].str.contains(\"\\'\").sum()\n"
   ]
  },
  {
   "cell_type": "code",
   "execution_count": 40,
   "metadata": {},
   "outputs": [
    {
     "data": {
      "text/plain": [
       "['5', '9\"']"
      ]
     },
     "execution_count": 40,
     "metadata": {},
     "output_type": "execute_result"
    }
   ],
   "source": [
    "data['Height'][0].split(\"'\")\n"
   ]
  },
  {
   "cell_type": "code",
   "execution_count": 41,
   "metadata": {},
   "outputs": [
    {
     "data": {
      "text/plain": [
       "69.0"
      ]
     },
     "execution_count": 41,
     "metadata": {},
     "output_type": "execute_result"
    }
   ],
   "source": [
    "float(data['Height'][0].split(\"'\")[0])*12 + float(data['Height'][0].split(\"'\")[1][:-1])\n"
   ]
  },
  {
   "cell_type": "code",
   "execution_count": 39,
   "metadata": {},
   "outputs": [
    {
     "data": {
      "text/plain": [
       "['Unnamed: 0',\n",
       " 'ID',\n",
       " 'Name',\n",
       " 'Age',\n",
       " 'Nationality',\n",
       " 'Club',\n",
       " 'BP',\n",
       " 'Position',\n",
       " 'Team & Contract',\n",
       " 'Height',\n",
       " 'Weight',\n",
       " 'foot',\n",
       " 'Growth',\n",
       " 'Joined',\n",
       " 'Loan Date End',\n",
       " 'Value',\n",
       " 'Wage',\n",
       " 'Release Clause',\n",
       " 'Contract',\n",
       " 'Attacking',\n",
       " 'Crossing',\n",
       " 'Finishing',\n",
       " 'Heading Accuracy',\n",
       " 'Short Passing',\n",
       " 'Volleys',\n",
       " 'Skill',\n",
       " 'Dribbling',\n",
       " 'Curve',\n",
       " 'FK Accuracy',\n",
       " 'Long Passing',\n",
       " 'Ball Control',\n",
       " 'Movement',\n",
       " 'Acceleration',\n",
       " 'Sprint Speed',\n",
       " 'Agility',\n",
       " 'Reactions',\n",
       " 'Balance',\n",
       " 'Power',\n",
       " 'Shot Power',\n",
       " 'Jumping',\n",
       " 'Stamina',\n",
       " 'Strength',\n",
       " 'Long Shots',\n",
       " 'Mentality',\n",
       " 'Aggression',\n",
       " 'Interceptions',\n",
       " 'Positioning',\n",
       " 'Vision',\n",
       " 'Penalties',\n",
       " 'Composure',\n",
       " 'Defending',\n",
       " 'Marking',\n",
       " 'Standing Tackle',\n",
       " 'Sliding Tackle',\n",
       " 'Goalkeeping',\n",
       " 'GK Diving',\n",
       " 'GK Handling',\n",
       " 'GK Kicking',\n",
       " 'GK Positioning',\n",
       " 'GK Reflexes',\n",
       " 'Total Stats',\n",
       " 'Base Stats',\n",
       " 'W/F',\n",
       " 'SM',\n",
       " 'A/W',\n",
       " 'D/W',\n",
       " 'IR',\n",
       " 'PAC',\n",
       " 'SHO',\n",
       " 'PAS',\n",
       " 'DRI',\n",
       " 'DEF',\n",
       " 'PHY',\n",
       " 'Hits',\n",
       " 'LS',\n",
       " 'ST',\n",
       " 'RS',\n",
       " 'LW',\n",
       " 'LF',\n",
       " 'CF',\n",
       " 'RF',\n",
       " 'RW',\n",
       " 'LAM',\n",
       " 'CAM',\n",
       " 'RAM',\n",
       " 'LM',\n",
       " 'LCM',\n",
       " 'CM',\n",
       " 'RCM',\n",
       " 'RM',\n",
       " 'LWB',\n",
       " 'LDM',\n",
       " 'CDM',\n",
       " 'RDM',\n",
       " 'RWB',\n",
       " 'LB',\n",
       " 'LCB',\n",
       " 'CB',\n",
       " 'RCB',\n",
       " 'RB',\n",
       " 'GK',\n",
       " 'OVA']"
      ]
     },
     "execution_count": 39,
     "metadata": {},
     "output_type": "execute_result"
    }
   ],
   "source": [
    "list(data.columns)"
   ]
  },
  {
   "cell_type": "code",
   "execution_count": 12,
   "metadata": {},
   "outputs": [
    {
     "data": {
      "text/plain": [
       "['unnamed:_0',\n",
       " 'id',\n",
       " 'name',\n",
       " 'age',\n",
       " 'nationality',\n",
       " 'club',\n",
       " 'bp',\n",
       " 'position',\n",
       " 'team_&_contract',\n",
       " 'height',\n",
       " 'weight',\n",
       " 'foot',\n",
       " 'growth',\n",
       " 'joined',\n",
       " 'loan_date_end',\n",
       " 'value',\n",
       " 'wage',\n",
       " 'release_clause',\n",
       " 'contract',\n",
       " 'attacking',\n",
       " 'crossing',\n",
       " 'finishing',\n",
       " 'heading_accuracy',\n",
       " 'short_passing',\n",
       " 'volleys',\n",
       " 'skill',\n",
       " 'dribbling',\n",
       " 'curve',\n",
       " 'fk_accuracy',\n",
       " 'long_passing',\n",
       " 'ball_control',\n",
       " 'movement',\n",
       " 'acceleration',\n",
       " 'sprint_speed',\n",
       " 'agility',\n",
       " 'reactions',\n",
       " 'balance',\n",
       " 'power',\n",
       " 'shot_power',\n",
       " 'jumping',\n",
       " 'stamina',\n",
       " 'strength',\n",
       " 'long_shots',\n",
       " 'mentality',\n",
       " 'aggression',\n",
       " 'interceptions',\n",
       " 'positioning',\n",
       " 'vision',\n",
       " 'penalties',\n",
       " 'composure',\n",
       " 'defending',\n",
       " 'marking',\n",
       " 'standing_tackle',\n",
       " 'sliding_tackle',\n",
       " 'goalkeeping',\n",
       " 'gk_diving',\n",
       " 'gk_handling',\n",
       " 'gk_kicking',\n",
       " 'gk_positioning',\n",
       " 'gk_reflexes',\n",
       " 'total_stats',\n",
       " 'base_stats',\n",
       " 'w/f',\n",
       " 'sm',\n",
       " 'a/w',\n",
       " 'd/w',\n",
       " 'ir',\n",
       " 'pac',\n",
       " 'sho',\n",
       " 'pas',\n",
       " 'dri',\n",
       " 'def',\n",
       " 'phy',\n",
       " 'hits',\n",
       " 'ls',\n",
       " 'st',\n",
       " 'rs',\n",
       " 'lw',\n",
       " 'lf',\n",
       " 'cf',\n",
       " 'rf',\n",
       " 'rw',\n",
       " 'lam',\n",
       " 'cam',\n",
       " 'ram',\n",
       " 'lm',\n",
       " 'lcm',\n",
       " 'cm',\n",
       " 'rcm',\n",
       " 'rm',\n",
       " 'lwb',\n",
       " 'ldm',\n",
       " 'cdm',\n",
       " 'rdm',\n",
       " 'rwb',\n",
       " 'lb',\n",
       " 'lcb',\n",
       " 'cb',\n",
       " 'rcb',\n",
       " 'rb',\n",
       " 'gk',\n",
       " 'ova']"
      ]
     },
     "execution_count": 12,
     "metadata": {},
     "output_type": "execute_result"
    }
   ],
   "source": [
    "data.columns=[e.lower().replace(' ', '_') for e in data.columns]\n",
    "list(data.columns)"
   ]
  },
  {
   "cell_type": "code",
   "execution_count": 13,
   "metadata": {},
   "outputs": [
    {
     "data": {
      "text/plain": [
       "unnamed:_0      int64\n",
       "id              int64\n",
       "name           object\n",
       "age             int64\n",
       "nationality    object\n",
       "                ...  \n",
       "cb             object\n",
       "rcb            object\n",
       "rb             object\n",
       "gk             object\n",
       "ova             int64\n",
       "Length: 102, dtype: object"
      ]
     },
     "execution_count": 13,
     "metadata": {},
     "output_type": "execute_result"
    }
   ],
   "source": [
    "data.dtypes"
   ]
  },
  {
   "cell_type": "code",
   "execution_count": 14,
   "metadata": {},
   "outputs": [
    {
     "data": {
      "text/plain": [
       "Index(['unnamed:_0', 'id', 'age', 'growth', 'attacking', 'crossing',\n",
       "       'finishing', 'heading_accuracy', 'short_passing', 'volleys', 'skill',\n",
       "       'dribbling', 'curve', 'fk_accuracy', 'long_passing', 'ball_control',\n",
       "       'movement', 'acceleration', 'sprint_speed', 'agility', 'reactions',\n",
       "       'balance', 'power', 'shot_power', 'jumping', 'stamina', 'strength',\n",
       "       'long_shots', 'mentality', 'aggression', 'interceptions', 'positioning',\n",
       "       'vision', 'penalties', 'composure', 'defending', 'marking',\n",
       "       'standing_tackle', 'sliding_tackle', 'goalkeeping', 'gk_diving',\n",
       "       'gk_handling', 'gk_kicking', 'gk_positioning', 'gk_reflexes',\n",
       "       'total_stats', 'base_stats', 'pac', 'sho', 'pas', 'dri', 'def', 'phy',\n",
       "       'ova'],\n",
       "      dtype='object')"
      ]
     },
     "execution_count": 14,
     "metadata": {},
     "output_type": "execute_result"
    }
   ],
   "source": [
    "data._get_numeric_data().columns"
   ]
  },
  {
   "cell_type": "code",
   "execution_count": 17,
   "metadata": {},
   "outputs": [
    {
     "data": {
      "text/plain": [
       "Index(['name', 'nationality', 'club', 'bp', 'position', 'team_&_contract',\n",
       "       'height', 'weight', 'foot', 'joined', 'loan_date_end', 'value', 'wage',\n",
       "       'release_clause', 'contract', 'w/f', 'sm', 'a/w', 'd/w', 'ir', 'hits',\n",
       "       'ls', 'st', 'rs', 'lw', 'lf', 'cf', 'rf', 'rw', 'lam', 'cam', 'ram',\n",
       "       'lm', 'lcm', 'cm', 'rcm', 'rm', 'lwb', 'ldm', 'cdm', 'rdm', 'rwb', 'lb',\n",
       "       'lcb', 'cb', 'rcb', 'rb', 'gk'],\n",
       "      dtype='object')"
      ]
     },
     "execution_count": 17,
     "metadata": {},
     "output_type": "execute_result"
    }
   ],
   "source": [
    "data.select_dtypes('object').columns"
   ]
  },
  {
   "cell_type": "code",
   "execution_count": 19,
   "metadata": {},
   "outputs": [
    {
     "data": {
      "text/plain": [
       "unnamed:_0     0\n",
       "id             0\n",
       "name           0\n",
       "age            0\n",
       "nationality    0\n",
       "              ..\n",
       "cb             0\n",
       "rcb            0\n",
       "rb             0\n",
       "gk             0\n",
       "ova            0\n",
       "Length: 102, dtype: int64"
      ]
     },
     "execution_count": 19,
     "metadata": {},
     "output_type": "execute_result"
    }
   ],
   "source": [
    "data.isna().sum()"
   ]
  },
  {
   "cell_type": "code",
   "execution_count": 20,
   "metadata": {},
   "outputs": [
    {
     "data": {
      "text/html": [
       "<div>\n",
       "<style scoped>\n",
       "    .dataframe tbody tr th:only-of-type {\n",
       "        vertical-align: middle;\n",
       "    }\n",
       "\n",
       "    .dataframe tbody tr th {\n",
       "        vertical-align: top;\n",
       "    }\n",
       "\n",
       "    .dataframe thead th {\n",
       "        text-align: right;\n",
       "    }\n",
       "</style>\n",
       "<table border=\"1\" class=\"dataframe\">\n",
       "  <thead>\n",
       "    <tr style=\"text-align: right;\">\n",
       "      <th></th>\n",
       "      <th>unnamed:_0</th>\n",
       "      <th>id</th>\n",
       "      <th>age</th>\n",
       "      <th>growth</th>\n",
       "      <th>attacking</th>\n",
       "      <th>crossing</th>\n",
       "      <th>finishing</th>\n",
       "      <th>heading_accuracy</th>\n",
       "      <th>short_passing</th>\n",
       "      <th>volleys</th>\n",
       "      <th>...</th>\n",
       "      <th>gk_reflexes</th>\n",
       "      <th>total_stats</th>\n",
       "      <th>base_stats</th>\n",
       "      <th>pac</th>\n",
       "      <th>sho</th>\n",
       "      <th>pas</th>\n",
       "      <th>dri</th>\n",
       "      <th>def</th>\n",
       "      <th>phy</th>\n",
       "      <th>ova</th>\n",
       "    </tr>\n",
       "  </thead>\n",
       "  <tbody>\n",
       "    <tr>\n",
       "      <th>count</th>\n",
       "      <td>13700.000000</td>\n",
       "      <td>13700.000000</td>\n",
       "      <td>13700.000000</td>\n",
       "      <td>13700.000000</td>\n",
       "      <td>13700.000000</td>\n",
       "      <td>13700.000000</td>\n",
       "      <td>13700.000000</td>\n",
       "      <td>13700.000000</td>\n",
       "      <td>13700.000000</td>\n",
       "      <td>13656.000000</td>\n",
       "      <td>...</td>\n",
       "      <td>13700.000000</td>\n",
       "      <td>13700.000000</td>\n",
       "      <td>13700.000000</td>\n",
       "      <td>13700.000000</td>\n",
       "      <td>13700.000000</td>\n",
       "      <td>13700.000000</td>\n",
       "      <td>13700.000000</td>\n",
       "      <td>13700.000000</td>\n",
       "      <td>13700.000000</td>\n",
       "      <td>13700.000000</td>\n",
       "    </tr>\n",
       "    <tr>\n",
       "      <th>mean</th>\n",
       "      <td>8561.641971</td>\n",
       "      <td>219378.929708</td>\n",
       "      <td>25.286058</td>\n",
       "      <td>5.509927</td>\n",
       "      <td>258.313431</td>\n",
       "      <td>51.585766</td>\n",
       "      <td>47.996934</td>\n",
       "      <td>53.460292</td>\n",
       "      <td>60.427956</td>\n",
       "      <td>44.986965</td>\n",
       "      <td>...</td>\n",
       "      <td>15.830292</td>\n",
       "      <td>1630.103942</td>\n",
       "      <td>361.317007</td>\n",
       "      <td>68.108832</td>\n",
       "      <td>55.056423</td>\n",
       "      <td>58.931679</td>\n",
       "      <td>64.236277</td>\n",
       "      <td>50.123577</td>\n",
       "      <td>64.860219</td>\n",
       "      <td>66.945912</td>\n",
       "    </tr>\n",
       "    <tr>\n",
       "      <th>std</th>\n",
       "      <td>4954.144383</td>\n",
       "      <td>37445.343736</td>\n",
       "      <td>4.944498</td>\n",
       "      <td>5.797176</td>\n",
       "      <td>72.412379</td>\n",
       "      <td>17.899930</td>\n",
       "      <td>19.411530</td>\n",
       "      <td>17.010578</td>\n",
       "      <td>13.975634</td>\n",
       "      <td>17.760924</td>\n",
       "      <td>...</td>\n",
       "      <td>17.276491</td>\n",
       "      <td>260.986045</td>\n",
       "      <td>40.258414</td>\n",
       "      <td>11.183342</td>\n",
       "      <td>13.839958</td>\n",
       "      <td>10.159851</td>\n",
       "      <td>9.816203</td>\n",
       "      <td>16.815110</td>\n",
       "      <td>9.736964</td>\n",
       "      <td>6.860189</td>\n",
       "    </tr>\n",
       "    <tr>\n",
       "      <th>min</th>\n",
       "      <td>1.000000</td>\n",
       "      <td>16.000000</td>\n",
       "      <td>16.000000</td>\n",
       "      <td>-1.000000</td>\n",
       "      <td>33.000000</td>\n",
       "      <td>6.000000</td>\n",
       "      <td>3.000000</td>\n",
       "      <td>5.000000</td>\n",
       "      <td>8.000000</td>\n",
       "      <td>4.000000</td>\n",
       "      <td>...</td>\n",
       "      <td>1.000000</td>\n",
       "      <td>731.000000</td>\n",
       "      <td>228.000000</td>\n",
       "      <td>26.000000</td>\n",
       "      <td>17.000000</td>\n",
       "      <td>25.000000</td>\n",
       "      <td>28.000000</td>\n",
       "      <td>12.000000</td>\n",
       "      <td>27.000000</td>\n",
       "      <td>38.000000</td>\n",
       "    </tr>\n",
       "    <tr>\n",
       "      <th>25%</th>\n",
       "      <td>4269.750000</td>\n",
       "      <td>203979.750000</td>\n",
       "      <td>21.000000</td>\n",
       "      <td>0.000000</td>\n",
       "      <td>231.000000</td>\n",
       "      <td>41.000000</td>\n",
       "      <td>33.000000</td>\n",
       "      <td>45.000000</td>\n",
       "      <td>56.000000</td>\n",
       "      <td>32.000000</td>\n",
       "      <td>...</td>\n",
       "      <td>8.000000</td>\n",
       "      <td>1491.000000</td>\n",
       "      <td>333.000000</td>\n",
       "      <td>62.000000</td>\n",
       "      <td>46.000000</td>\n",
       "      <td>52.000000</td>\n",
       "      <td>59.000000</td>\n",
       "      <td>35.000000</td>\n",
       "      <td>59.000000</td>\n",
       "      <td>62.000000</td>\n",
       "    </tr>\n",
       "    <tr>\n",
       "      <th>50%</th>\n",
       "      <td>8555.500000</td>\n",
       "      <td>228927.000000</td>\n",
       "      <td>25.000000</td>\n",
       "      <td>4.000000</td>\n",
       "      <td>271.000000</td>\n",
       "      <td>56.000000</td>\n",
       "      <td>52.000000</td>\n",
       "      <td>56.000000</td>\n",
       "      <td>63.000000</td>\n",
       "      <td>47.000000</td>\n",
       "      <td>...</td>\n",
       "      <td>11.000000</td>\n",
       "      <td>1659.000000</td>\n",
       "      <td>362.000000</td>\n",
       "      <td>69.000000</td>\n",
       "      <td>58.000000</td>\n",
       "      <td>60.000000</td>\n",
       "      <td>65.000000</td>\n",
       "      <td>53.000000</td>\n",
       "      <td>66.000000</td>\n",
       "      <td>67.000000</td>\n",
       "    </tr>\n",
       "    <tr>\n",
       "      <th>75%</th>\n",
       "      <td>12887.250000</td>\n",
       "      <td>244043.500000</td>\n",
       "      <td>29.000000</td>\n",
       "      <td>9.000000</td>\n",
       "      <td>306.000000</td>\n",
       "      <td>65.000000</td>\n",
       "      <td>64.000000</td>\n",
       "      <td>65.000000</td>\n",
       "      <td>69.000000</td>\n",
       "      <td>59.000000</td>\n",
       "      <td>...</td>\n",
       "      <td>14.000000</td>\n",
       "      <td>1811.250000</td>\n",
       "      <td>389.000000</td>\n",
       "      <td>75.000000</td>\n",
       "      <td>65.000000</td>\n",
       "      <td>66.000000</td>\n",
       "      <td>71.000000</td>\n",
       "      <td>64.000000</td>\n",
       "      <td>72.000000</td>\n",
       "      <td>72.000000</td>\n",
       "    </tr>\n",
       "    <tr>\n",
       "      <th>max</th>\n",
       "      <td>17122.000000</td>\n",
       "      <td>259091.000000</td>\n",
       "      <td>47.000000</td>\n",
       "      <td>26.000000</td>\n",
       "      <td>437.000000</td>\n",
       "      <td>94.000000</td>\n",
       "      <td>95.000000</td>\n",
       "      <td>93.000000</td>\n",
       "      <td>94.000000</td>\n",
       "      <td>90.000000</td>\n",
       "      <td>...</td>\n",
       "      <td>90.000000</td>\n",
       "      <td>2304.000000</td>\n",
       "      <td>498.000000</td>\n",
       "      <td>96.000000</td>\n",
       "      <td>93.000000</td>\n",
       "      <td>93.000000</td>\n",
       "      <td>95.000000</td>\n",
       "      <td>90.000000</td>\n",
       "      <td>93.000000</td>\n",
       "      <td>93.000000</td>\n",
       "    </tr>\n",
       "  </tbody>\n",
       "</table>\n",
       "<p>8 rows × 54 columns</p>\n",
       "</div>"
      ],
      "text/plain": [
       "         unnamed:_0             id           age        growth     attacking  \\\n",
       "count  13700.000000   13700.000000  13700.000000  13700.000000  13700.000000   \n",
       "mean    8561.641971  219378.929708     25.286058      5.509927    258.313431   \n",
       "std     4954.144383   37445.343736      4.944498      5.797176     72.412379   \n",
       "min        1.000000      16.000000     16.000000     -1.000000     33.000000   \n",
       "25%     4269.750000  203979.750000     21.000000      0.000000    231.000000   \n",
       "50%     8555.500000  228927.000000     25.000000      4.000000    271.000000   \n",
       "75%    12887.250000  244043.500000     29.000000      9.000000    306.000000   \n",
       "max    17122.000000  259091.000000     47.000000     26.000000    437.000000   \n",
       "\n",
       "           crossing     finishing  heading_accuracy  short_passing  \\\n",
       "count  13700.000000  13700.000000      13700.000000   13700.000000   \n",
       "mean      51.585766     47.996934         53.460292      60.427956   \n",
       "std       17.899930     19.411530         17.010578      13.975634   \n",
       "min        6.000000      3.000000          5.000000       8.000000   \n",
       "25%       41.000000     33.000000         45.000000      56.000000   \n",
       "50%       56.000000     52.000000         56.000000      63.000000   \n",
       "75%       65.000000     64.000000         65.000000      69.000000   \n",
       "max       94.000000     95.000000         93.000000      94.000000   \n",
       "\n",
       "            volleys  ...   gk_reflexes   total_stats    base_stats  \\\n",
       "count  13656.000000  ...  13700.000000  13700.000000  13700.000000   \n",
       "mean      44.986965  ...     15.830292   1630.103942    361.317007   \n",
       "std       17.760924  ...     17.276491    260.986045     40.258414   \n",
       "min        4.000000  ...      1.000000    731.000000    228.000000   \n",
       "25%       32.000000  ...      8.000000   1491.000000    333.000000   \n",
       "50%       47.000000  ...     11.000000   1659.000000    362.000000   \n",
       "75%       59.000000  ...     14.000000   1811.250000    389.000000   \n",
       "max       90.000000  ...     90.000000   2304.000000    498.000000   \n",
       "\n",
       "                pac           sho           pas           dri           def  \\\n",
       "count  13700.000000  13700.000000  13700.000000  13700.000000  13700.000000   \n",
       "mean      68.108832     55.056423     58.931679     64.236277     50.123577   \n",
       "std       11.183342     13.839958     10.159851      9.816203     16.815110   \n",
       "min       26.000000     17.000000     25.000000     28.000000     12.000000   \n",
       "25%       62.000000     46.000000     52.000000     59.000000     35.000000   \n",
       "50%       69.000000     58.000000     60.000000     65.000000     53.000000   \n",
       "75%       75.000000     65.000000     66.000000     71.000000     64.000000   \n",
       "max       96.000000     93.000000     93.000000     95.000000     90.000000   \n",
       "\n",
       "                phy           ova  \n",
       "count  13700.000000  13700.000000  \n",
       "mean      64.860219     66.945912  \n",
       "std        9.736964      6.860189  \n",
       "min       27.000000     38.000000  \n",
       "25%       59.000000     62.000000  \n",
       "50%       66.000000     67.000000  \n",
       "75%       72.000000     72.000000  \n",
       "max       93.000000     93.000000  \n",
       "\n",
       "[8 rows x 54 columns]"
      ]
     },
     "execution_count": 20,
     "metadata": {},
     "output_type": "execute_result"
    }
   ],
   "source": [
    "data.describe()"
   ]
  },
  {
   "cell_type": "code",
   "execution_count": 21,
   "metadata": {},
   "outputs": [
    {
     "data": {
      "text/plain": [
       "unnamed:_0     0.0\n",
       "id             0.0\n",
       "name           0.0\n",
       "age            0.0\n",
       "nationality    0.0\n",
       "              ... \n",
       "cb             0.0\n",
       "rcb            0.0\n",
       "rb             0.0\n",
       "gk             0.0\n",
       "ova            0.0\n",
       "Length: 102, dtype: float64"
      ]
     },
     "execution_count": 21,
     "metadata": {},
     "output_type": "execute_result"
    }
   ],
   "source": [
    "round(data.isna().sum()/len(data),4)*100"
   ]
  },
  {
   "cell_type": "code",
   "execution_count": 24,
   "metadata": {},
   "outputs": [
    {
     "data": {
      "text/plain": [
       "<seaborn.axisgrid.PairGrid at 0x26668255670>"
      ]
     },
     "execution_count": 24,
     "metadata": {},
     "output_type": "execute_result"
    },
    {
     "data": {
      "image/png": "[encoded data removed]",
      "text/plain": [
       "<Figure size 540x540 with 12 Axes>"
      ]
     },
     "metadata": {
      "needs_background": "light"
     },
     "output_type": "display_data"
    }
   ],
   "source": [
    "sns.pairplot(data.dropna().select_dtypes(exclude=object)[['attacking', 'crossing', 'finishing']])"
   ]
  },
  {
   "cell_type": "code",
   "execution_count": null,
   "metadata": {},
   "outputs": [],
   "source": [
    "interesting_variables = ['ID' ,'name' ,'', '' ]"
   ]
  },
  {
   "cell_type": "code",
   "execution_count": null,
   "metadata": {},
   "outputs": [],
   "source": [
    "from sklearn.linear_model import LinearRegression\n",
    "\n",
    "LR = LinearRegression()\n",
    "\n",
    "data #datos LIMPIOS\n",
    "\n",
    "x = data[interesting_columns]\n",
    "y = data['OVA']\n",
    "\n",
    "LR,fit(X, y).score(X,y)"
   ]
  },
  {
   "cell_type": "code",
   "execution_count": null,
   "metadata": {},
   "outputs": [],
   "source": [
    "sns.pairplot(data.dropna().select_dtypes(exclude=object)['Jumping', 'Stamina', 'Strength'])"
   ]
  }
 ],
 "metadata": {
  "kernelspec": {
   "display_name": "Python 3 (ipykernel)",
   "language": "python",
   "name": "python3"
  },
  "language_info": {
   "codemirror_mode": {
    "name": "ipython",
    "version": 3
   },
   "file_extension": ".py",
   "mimetype": "text/x-python",
   "name": "python",
   "nbconvert_exporter": "python",
   "pygments_lexer": "ipython3",
   "version": "3.9.12"
  }
 },
 "nbformat": 4,
 "nbformat_minor": 4
}
