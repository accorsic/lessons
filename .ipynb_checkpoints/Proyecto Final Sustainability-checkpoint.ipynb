{
 "cells": [
  {
   "cell_type": "markdown",
   "id": "897d7e78-8a6c-41f8-9b60-bcd16d7255ab",
   "metadata": {},
   "source": [
    "## Proyecto Final: Sustainability and Payment Readiness"
   ]
  },
  {
   "cell_type": "markdown",
   "id": "48eff478-bdf6-4aba-97f0-95ac2b3e240c",
   "metadata": {},
   "source": [
    "\n",
    "<font color='purple' size=5,5> 1. Importe de librerías y descarga de data set y limpieza de variables\n"
   ]
  },
  {
   "cell_type": "code",
   "execution_count": 1,
   "id": "ac5b9d24-1d36-4603-92de-374cade7d158",
   "metadata": {},
   "outputs": [],
   "source": [
    "import pandas as pd\n",
    "import numpy as np\n",
    "import datetime\n",
    "import warnings\n",
    "\n",
    "import matplotlib.pyplot as plt\n",
    "import seaborn as sns\n",
    "%matplotlib inline\n",
    "from sklearn.preprocessing import MultiLabelBinarizer\n",
    "mlb = MultiLabelBinarizer()\n",
    "from sklearn.neighbors import KNeighborsClassifier\n",
    "from sklearn.model_selection import train_test_split as tts\n",
    "from sklearn.linear_model import LogisticRegression\n",
    "from sklearn.metrics import mean_absolute_error as mae"
   ]
  },
  {
   "cell_type": "code",
   "execution_count": 2,
   "id": "0110af5f-c4de-48b0-87ef-4f9e6f0ce94e",
   "metadata": {},
   "outputs": [],
   "source": [
    "data = pd.read_csv(\"DATAFINALPROYECT.csv\", skiprows=1)"
   ]
  },
  {
   "cell_type": "code",
   "execution_count": 3,
   "id": "f7981fb1-e000-4866-b9cd-d1d56e3994e3",
   "metadata": {},
   "outputs": [
    {
     "data": {
      "text/html": [
       "<div>\n",
       "<style scoped>\n",
       "    .dataframe tbody tr th:only-of-type {\n",
       "        vertical-align: middle;\n",
       "    }\n",
       "\n",
       "    .dataframe tbody tr th {\n",
       "        vertical-align: top;\n",
       "    }\n",
       "\n",
       "    .dataframe thead th {\n",
       "        text-align: right;\n",
       "    }\n",
       "</style>\n",
       "<table border=\"1\" class=\"dataframe\">\n",
       "  <thead>\n",
       "    <tr style=\"text-align: right;\">\n",
       "      <th></th>\n",
       "      <th>Gender</th>\n",
       "      <th>Age</th>\n",
       "      <th>Occupation</th>\n",
       "      <th>Interest</th>\n",
       "      <th>Purchase</th>\n",
       "      <th>Products</th>\n",
       "      <th>Money spent</th>\n",
       "      <th>Fashion Segments</th>\n",
       "      <th>Customer decision: Price</th>\n",
       "      <th>Customer decision: Style</th>\n",
       "      <th>...</th>\n",
       "      <th>Unnamed: 39</th>\n",
       "      <th>Unnamed: 40</th>\n",
       "      <th>Unnamed: 41</th>\n",
       "      <th>Unnamed: 42</th>\n",
       "      <th>Unnamed: 43</th>\n",
       "      <th>Unnamed: 44</th>\n",
       "      <th>Unnamed: 45</th>\n",
       "      <th>Unnamed: 46</th>\n",
       "      <th>Unnamed: 47</th>\n",
       "      <th>Unnamed: 48</th>\n",
       "    </tr>\n",
       "  </thead>\n",
       "  <tbody>\n",
       "    <tr>\n",
       "      <th>0</th>\n",
       "      <td>2</td>\n",
       "      <td>2</td>\n",
       "      <td>1</td>\n",
       "      <td>1.0</td>\n",
       "      <td>1</td>\n",
       "      <td>4</td>\n",
       "      <td>1</td>\n",
       "      <td>2</td>\n",
       "      <td>2.0</td>\n",
       "      <td>2</td>\n",
       "      <td>...</td>\n",
       "      <td>NaN</td>\n",
       "      <td>NaN</td>\n",
       "      <td>NaN</td>\n",
       "      <td>NaN</td>\n",
       "      <td>NaN</td>\n",
       "      <td>NaN</td>\n",
       "      <td>NaN</td>\n",
       "      <td>NaN</td>\n",
       "      <td>NaN</td>\n",
       "      <td>NaN</td>\n",
       "    </tr>\n",
       "    <tr>\n",
       "      <th>1</th>\n",
       "      <td>1</td>\n",
       "      <td>2</td>\n",
       "      <td>1</td>\n",
       "      <td>1.0</td>\n",
       "      <td>2</td>\n",
       "      <td>3</td>\n",
       "      <td>2</td>\n",
       "      <td>3</td>\n",
       "      <td>2.0</td>\n",
       "      <td>1</td>\n",
       "      <td>...</td>\n",
       "      <td>NaN</td>\n",
       "      <td>NaN</td>\n",
       "      <td>NaN</td>\n",
       "      <td>NaN</td>\n",
       "      <td>NaN</td>\n",
       "      <td>NaN</td>\n",
       "      <td>NaN</td>\n",
       "      <td>NaN</td>\n",
       "      <td>NaN</td>\n",
       "      <td>NaN</td>\n",
       "    </tr>\n",
       "  </tbody>\n",
       "</table>\n",
       "<p>2 rows × 49 columns</p>\n",
       "</div>"
      ],
      "text/plain": [
       "   Gender  Age  Occupation  Interest  Purchase  Products  Money spent  \\\n",
       "0       2    2           1       1.0         1         4            1   \n",
       "1       1    2           1       1.0         2         3            2   \n",
       "\n",
       "   Fashion Segments  Customer decision: Price  Customer decision: Style  ...  \\\n",
       "0                 2                       2.0                         2  ...   \n",
       "1                 3                       2.0                         1  ...   \n",
       "\n",
       "   Unnamed: 39  Unnamed: 40  Unnamed: 41  Unnamed: 42  Unnamed: 43  \\\n",
       "0          NaN          NaN          NaN          NaN          NaN   \n",
       "1          NaN          NaN          NaN          NaN          NaN   \n",
       "\n",
       "   Unnamed: 44  Unnamed: 45  Unnamed: 46  Unnamed: 47  Unnamed: 48  \n",
       "0          NaN          NaN          NaN          NaN          NaN  \n",
       "1          NaN          NaN          NaN          NaN          NaN  \n",
       "\n",
       "[2 rows x 49 columns]"
      ]
     },
     "execution_count": 3,
     "metadata": {},
     "output_type": "execute_result"
    }
   ],
   "source": [
    "data.head(2)"
   ]
  },
  {
   "cell_type": "code",
   "execution_count": null,
   "id": "0ab2187c-549d-4635-a4b7-0cce46e85cf3",
   "metadata": {},
   "outputs": [],
   "source": []
  },
  {
   "cell_type": "markdown",
   "id": "ff2911e4-6ce4-413b-9bcf-377464f2251b",
   "metadata": {},
   "source": [
    "<font color='purple' size=5,5> 1a. Columnas de las variables (Data set original) </font>\n",
    "\n"
   ]
  },
  {
   "cell_type": "code",
   "execution_count": 4,
   "id": "435bc82d-2edd-4d87-bf00-30e307f4a70d",
   "metadata": {},
   "outputs": [
    {
     "data": {
      "text/plain": [
       "Index(['Gender', 'Age', 'Occupation', 'Interest', 'Purchase', 'Products',\n",
       "       'Money spent', 'Fashion Segments', 'Customer decision: Price',\n",
       "       'Customer decision: Style', 'Customer decision: Quality',\n",
       "       'Customer decision: Brand', 'Customer decision: Comfort',\n",
       "       'Customer decision: Sustainability',\n",
       "       'Brand familiarity: Ausweichoption (negativ) oder Anzahl ausgewählter Optionen',\n",
       "       'Brand familiarity: Zara', 'Brand familiarity: H&M',\n",
       "       'Brand familiarity: Adidas', 'Brand familiarity: Patagonia',\n",
       "       'Brand familiarity: Uniqlo', 'Brand familiarity: Weekday',\n",
       "       'Brand familiarity: All of them', 'Interest.1', 'Industries',\n",
       "       'Information', 'Price relevance', 'Price readiness',\n",
       "       'Sustainable Option', 'Transparency',\n",
       "       'Recycle : Ausweichoption (negativ) oder Anzahl ausgewählter Optionen',\n",
       "       'Recycle : Recycling/upcycling of clothing',\n",
       "       'Recycle : Purchasing second-hand/vintage clothing',\n",
       "       'Recycle : Purchasing sustainable clothing', 'Recycle : None',\n",
       "       'Sustainable brands: [01]', 'Preference', 'Budget', 'Unnamed: 37',\n",
       "       'Unnamed: 38', 'Unnamed: 39', 'Unnamed: 40', 'Unnamed: 41',\n",
       "       'Unnamed: 42', 'Unnamed: 43', 'Unnamed: 44', 'Unnamed: 45',\n",
       "       'Unnamed: 46', 'Unnamed: 47', 'Unnamed: 48'],\n",
       "      dtype='object')"
      ]
     },
     "execution_count": 4,
     "metadata": {},
     "output_type": "execute_result"
    }
   ],
   "source": [
    "data.columns"
   ]
  },
  {
   "cell_type": "markdown",
   "id": "c5157028-e304-4533-8f33-f67fc7303fd5",
   "metadata": {},
   "source": [
    "<font color='purple' size=5,5> 1b. Cambio de nombre de columnas"
   ]
  },
  {
   "cell_type": "code",
   "execution_count": 5,
   "id": "ae4eef07-01aa-4142-a9b5-e6b0bcfbc74d",
   "metadata": {},
   "outputs": [],
   "source": [
    "data = data.rename({'Sustainable brands: [01]': 'known_brands'}, axis=1)"
   ]
  },
  {
   "cell_type": "code",
   "execution_count": 6,
   "id": "c4373cf3-6cf1-4d67-89f9-e48cb33710a7",
   "metadata": {
    "tags": []
   },
   "outputs": [
    {
     "data": {
      "text/html": [
       "<div>\n",
       "<style scoped>\n",
       "    .dataframe tbody tr th:only-of-type {\n",
       "        vertical-align: middle;\n",
       "    }\n",
       "\n",
       "    .dataframe tbody tr th {\n",
       "        vertical-align: top;\n",
       "    }\n",
       "\n",
       "    .dataframe thead th {\n",
       "        text-align: right;\n",
       "    }\n",
       "</style>\n",
       "<table border=\"1\" class=\"dataframe\">\n",
       "  <thead>\n",
       "    <tr style=\"text-align: right;\">\n",
       "      <th></th>\n",
       "      <th>Gender</th>\n",
       "      <th>Age</th>\n",
       "      <th>Occupation</th>\n",
       "      <th>Interest</th>\n",
       "      <th>Purchase</th>\n",
       "      <th>Products</th>\n",
       "      <th>Money spent</th>\n",
       "      <th>Fashion Segments</th>\n",
       "      <th>Customer decision: Price</th>\n",
       "      <th>Customer decision: Style</th>\n",
       "      <th>...</th>\n",
       "      <th>Unnamed: 39</th>\n",
       "      <th>Unnamed: 40</th>\n",
       "      <th>Unnamed: 41</th>\n",
       "      <th>Unnamed: 42</th>\n",
       "      <th>Unnamed: 43</th>\n",
       "      <th>Unnamed: 44</th>\n",
       "      <th>Unnamed: 45</th>\n",
       "      <th>Unnamed: 46</th>\n",
       "      <th>Unnamed: 47</th>\n",
       "      <th>Unnamed: 48</th>\n",
       "    </tr>\n",
       "  </thead>\n",
       "  <tbody>\n",
       "    <tr>\n",
       "      <th>0</th>\n",
       "      <td>2</td>\n",
       "      <td>2</td>\n",
       "      <td>1</td>\n",
       "      <td>1.0</td>\n",
       "      <td>1</td>\n",
       "      <td>4</td>\n",
       "      <td>1</td>\n",
       "      <td>2</td>\n",
       "      <td>2.0</td>\n",
       "      <td>2</td>\n",
       "      <td>...</td>\n",
       "      <td>NaN</td>\n",
       "      <td>NaN</td>\n",
       "      <td>NaN</td>\n",
       "      <td>NaN</td>\n",
       "      <td>NaN</td>\n",
       "      <td>NaN</td>\n",
       "      <td>NaN</td>\n",
       "      <td>NaN</td>\n",
       "      <td>NaN</td>\n",
       "      <td>NaN</td>\n",
       "    </tr>\n",
       "    <tr>\n",
       "      <th>1</th>\n",
       "      <td>1</td>\n",
       "      <td>2</td>\n",
       "      <td>1</td>\n",
       "      <td>1.0</td>\n",
       "      <td>2</td>\n",
       "      <td>3</td>\n",
       "      <td>2</td>\n",
       "      <td>3</td>\n",
       "      <td>2.0</td>\n",
       "      <td>1</td>\n",
       "      <td>...</td>\n",
       "      <td>NaN</td>\n",
       "      <td>NaN</td>\n",
       "      <td>NaN</td>\n",
       "      <td>NaN</td>\n",
       "      <td>NaN</td>\n",
       "      <td>NaN</td>\n",
       "      <td>NaN</td>\n",
       "      <td>NaN</td>\n",
       "      <td>NaN</td>\n",
       "      <td>NaN</td>\n",
       "    </tr>\n",
       "    <tr>\n",
       "      <th>2</th>\n",
       "      <td>2</td>\n",
       "      <td>2</td>\n",
       "      <td>1</td>\n",
       "      <td>2.0</td>\n",
       "      <td>1</td>\n",
       "      <td>3</td>\n",
       "      <td>1</td>\n",
       "      <td>3</td>\n",
       "      <td>1.0</td>\n",
       "      <td>2</td>\n",
       "      <td>...</td>\n",
       "      <td>NaN</td>\n",
       "      <td>NaN</td>\n",
       "      <td>NaN</td>\n",
       "      <td>NaN</td>\n",
       "      <td>NaN</td>\n",
       "      <td>NaN</td>\n",
       "      <td>NaN</td>\n",
       "      <td>NaN</td>\n",
       "      <td>NaN</td>\n",
       "      <td>NaN</td>\n",
       "    </tr>\n",
       "    <tr>\n",
       "      <th>3</th>\n",
       "      <td>1</td>\n",
       "      <td>1</td>\n",
       "      <td>1</td>\n",
       "      <td>1.0</td>\n",
       "      <td>2</td>\n",
       "      <td>4</td>\n",
       "      <td>1</td>\n",
       "      <td>2</td>\n",
       "      <td>2.0</td>\n",
       "      <td>1</td>\n",
       "      <td>...</td>\n",
       "      <td>NaN</td>\n",
       "      <td>NaN</td>\n",
       "      <td>NaN</td>\n",
       "      <td>NaN</td>\n",
       "      <td>NaN</td>\n",
       "      <td>NaN</td>\n",
       "      <td>NaN</td>\n",
       "      <td>NaN</td>\n",
       "      <td>NaN</td>\n",
       "      <td>NaN</td>\n",
       "    </tr>\n",
       "    <tr>\n",
       "      <th>4</th>\n",
       "      <td>1</td>\n",
       "      <td>2</td>\n",
       "      <td>1</td>\n",
       "      <td>1.0</td>\n",
       "      <td>2</td>\n",
       "      <td>3</td>\n",
       "      <td>2</td>\n",
       "      <td>2</td>\n",
       "      <td>2.0</td>\n",
       "      <td>1</td>\n",
       "      <td>...</td>\n",
       "      <td>NaN</td>\n",
       "      <td>NaN</td>\n",
       "      <td>NaN</td>\n",
       "      <td>NaN</td>\n",
       "      <td>NaN</td>\n",
       "      <td>NaN</td>\n",
       "      <td>NaN</td>\n",
       "      <td>NaN</td>\n",
       "      <td>NaN</td>\n",
       "      <td>NaN</td>\n",
       "    </tr>\n",
       "  </tbody>\n",
       "</table>\n",
       "<p>5 rows × 49 columns</p>\n",
       "</div>"
      ],
      "text/plain": [
       "   Gender  Age  Occupation  Interest  Purchase  Products  Money spent  \\\n",
       "0       2    2           1       1.0         1         4            1   \n",
       "1       1    2           1       1.0         2         3            2   \n",
       "2       2    2           1       2.0         1         3            1   \n",
       "3       1    1           1       1.0         2         4            1   \n",
       "4       1    2           1       1.0         2         3            2   \n",
       "\n",
       "   Fashion Segments  Customer decision: Price  Customer decision: Style  ...  \\\n",
       "0                 2                       2.0                         2  ...   \n",
       "1                 3                       2.0                         1  ...   \n",
       "2                 3                       1.0                         2  ...   \n",
       "3                 2                       2.0                         1  ...   \n",
       "4                 2                       2.0                         1  ...   \n",
       "\n",
       "   Unnamed: 39  Unnamed: 40  Unnamed: 41  Unnamed: 42  Unnamed: 43  \\\n",
       "0          NaN          NaN          NaN          NaN          NaN   \n",
       "1          NaN          NaN          NaN          NaN          NaN   \n",
       "2          NaN          NaN          NaN          NaN          NaN   \n",
       "3          NaN          NaN          NaN          NaN          NaN   \n",
       "4          NaN          NaN          NaN          NaN          NaN   \n",
       "\n",
       "   Unnamed: 44  Unnamed: 45  Unnamed: 46  Unnamed: 47  Unnamed: 48  \n",
       "0          NaN          NaN          NaN          NaN          NaN  \n",
       "1          NaN          NaN          NaN          NaN          NaN  \n",
       "2          NaN          NaN          NaN          NaN          NaN  \n",
       "3          NaN          NaN          NaN          NaN          NaN  \n",
       "4          NaN          NaN          NaN          NaN          NaN  \n",
       "\n",
       "[5 rows x 49 columns]"
      ]
     },
     "execution_count": 6,
     "metadata": {},
     "output_type": "execute_result"
    }
   ],
   "source": [
    "data.head()"
   ]
  },
  {
   "cell_type": "markdown",
   "id": "77634633-1ef8-41a7-a614-25a827cf48d5",
   "metadata": {},
   "source": [
    "<font color='purple' size=5,5> 1c. Colocar todo en minúsculas, separar palabras por espacios y eliminar los nans y cambiarlos por la media de cada variable"
   ]
  },
  {
   "cell_type": "code",
   "execution_count": 7,
   "id": "7f5040ba-0dd1-4a18-bd12-fff83e315ddb",
   "metadata": {},
   "outputs": [],
   "source": [
    "data.columns = [col.lower().replace(' ', '_')  for col in data.columns]"
   ]
  },
  {
   "cell_type": "code",
   "execution_count": 8,
   "id": "06617ead-0ad0-41eb-9f2d-f61f38ef138b",
   "metadata": {
    "tags": []
   },
   "outputs": [
    {
     "data": {
      "text/plain": [
       "gender        0\n",
       "age           0\n",
       "occupation    0\n",
       "interest      1\n",
       "purchase      0\n",
       "dtype: int64"
      ]
     },
     "execution_count": 8,
     "metadata": {},
     "output_type": "execute_result"
    }
   ],
   "source": [
    "data.isna().sum().head()"
   ]
  },
  {
   "cell_type": "code",
   "execution_count": 10,
   "id": "29f27f94-e213-4537-89f9-2481a34e94fc",
   "metadata": {},
   "outputs": [],
   "source": [
    "forloop = ['gender', 'age', 'occupation', 'interest', 'purchase', 'products', 'money_spent', 'fashion_segments', 'customer_decision:_price', 'customer_decision:_style', 'customer_decision:_quality', 'customer_decision:_brand', 'customer_decision:_comfort', 'customer_decision:_sustainability', 'brand_familiarity:_ausweichoption_(negativ)_oder_anzahl_ausgewählter_optionen', 'brand_familiarity:_zara', 'brand_familiarity:_h&m', 'brand_familiarity:_adidas', 'brand_familiarity:_patagonia', 'brand_familiarity:_uniqlo', 'brand_familiarity:_weekday', 'brand_familiarity:_all_of_them', 'interest.1', 'industries', 'information', 'price_relevance', 'price_readiness', 'sustainable_option', 'transparency', 'recycle_:_ausweichoption_(negativ)_oder_anzahl_ausgewählter_optionen', 'recycle_:_recycling/upcycling_of_clothing', 'recycle_:_purchasing_second-hand/vintage_clothing', 'recycle_:_purchasing_sustainable_clothing', 'recycle_:_none', 'preference', 'budget']"
   ]
  },
  {
   "cell_type": "code",
   "execution_count": 11,
   "id": "20c77321-d4a3-4b2b-aba4-eb90748793ae",
   "metadata": {},
   "outputs": [],
   "source": [
    "for columna in forloop:\n",
    "    data[columna] = data[columna].fillna(data[columna].mode()[0])"
   ]
  },
  {
   "cell_type": "markdown",
   "id": "7d0b358e-689f-4e58-a8cb-8ed516a2b62e",
   "metadata": {},
   "source": [
    "<font color='purple' size=5,5> 1d. Limpiar y categorizar known_brands, de texto a categorias One hot enconding multiple"
   ]
  },
  {
   "cell_type": "code",
   "execution_count": 13,
   "id": "f4174e7a-fd09-4093-bf13-88b9429633e7",
   "metadata": {},
   "outputs": [],
   "source": [
    "def split_brands(x):\n",
    "    try:\n",
    "        return tuple(brand.lower().strip() for brand in x.split())\n",
    "    except:\n",
    "        return ('other',)"
   ]
  },
  {
   "cell_type": "code",
   "execution_count": 14,
   "id": "7dcb9efb-a914-4f2b-bb28-93cf99dda795",
   "metadata": {},
   "outputs": [],
   "source": [
    "data[\"known_brands\"] = data[\"known_brands\"].apply(split_brands)"
   ]
  },
  {
   "cell_type": "code",
   "execution_count": 15,
   "id": "4e370657-dc84-4691-a9ec-05b5ffd871da",
   "metadata": {
    "tags": []
   },
   "outputs": [
    {
     "data": {
      "text/plain": [
       "0        (other,)\n",
       "1         (zara,)\n",
       "2    (timbaland,)\n",
       "3    (patagonia,)\n",
       "4        (other,)\n",
       "Name: known_brands, dtype: object"
      ]
     },
     "execution_count": 15,
     "metadata": {},
     "output_type": "execute_result"
    }
   ],
   "source": [
    "data['known_brands'].head()"
   ]
  },
  {
   "cell_type": "code",
   "execution_count": 16,
   "id": "8a22515b-70d3-459e-a349-9d330ddca720",
   "metadata": {},
   "outputs": [
    {
     "data": {
      "text/plain": [
       "Index(['gender', 'age', 'occupation', 'interest', 'purchase', 'products',\n",
       "       'money_spent', 'fashion_segments', 'customer_decision:_price',\n",
       "       'customer_decision:_style', 'customer_decision:_quality',\n",
       "       'customer_decision:_brand', 'customer_decision:_comfort',\n",
       "       'customer_decision:_sustainability',\n",
       "       'brand_familiarity:_ausweichoption_(negativ)_oder_anzahl_ausgewählter_optionen',\n",
       "       'brand_familiarity:_zara', 'brand_familiarity:_h&m',\n",
       "       'brand_familiarity:_adidas', 'brand_familiarity:_patagonia',\n",
       "       'brand_familiarity:_uniqlo', 'brand_familiarity:_weekday',\n",
       "       'brand_familiarity:_all_of_them', 'interest.1', 'industries',\n",
       "       'information', 'price_relevance', 'price_readiness',\n",
       "       'sustainable_option', 'transparency',\n",
       "       'recycle_:_ausweichoption_(negativ)_oder_anzahl_ausgewählter_optionen',\n",
       "       'recycle_:_recycling/upcycling_of_clothing',\n",
       "       'recycle_:_purchasing_second-hand/vintage_clothing',\n",
       "       'recycle_:_purchasing_sustainable_clothing', 'recycle_:_none',\n",
       "       'known_brands', 'preference', 'budget', 'unnamed:_37', 'unnamed:_38',\n",
       "       'unnamed:_39', 'unnamed:_40', 'unnamed:_41', 'unnamed:_42',\n",
       "       'unnamed:_43', 'unnamed:_44', 'unnamed:_45', 'unnamed:_46',\n",
       "       'unnamed:_47', 'unnamed:_48'],\n",
       "      dtype='object')"
      ]
     },
     "execution_count": 16,
     "metadata": {},
     "output_type": "execute_result"
    }
   ],
   "source": [
    "data.columns"
   ]
  },
  {
   "cell_type": "code",
   "execution_count": 17,
   "id": "a5dcca62-1c1a-42e3-a5fa-230186ceda5a",
   "metadata": {},
   "outputs": [],
   "source": [
    "y = pd.DataFrame(mlb.fit_transform(data['known_brands'].to_list()), columns=mlb.classes_)"
   ]
  },
  {
   "cell_type": "code",
   "execution_count": 18,
   "id": "f7111852-2ff3-46ef-a59d-36a62a9f5eb2",
   "metadata": {},
   "outputs": [],
   "source": [
    "data = data.join(y)"
   ]
  },
  {
   "cell_type": "code",
   "execution_count": 19,
   "id": "2ed81dd8-0a82-471b-97e7-bf7483c97492",
   "metadata": {},
   "outputs": [],
   "source": [
    "data.drop('known_brands', axis=1, inplace=True)"
   ]
  },
  {
   "cell_type": "markdown",
   "id": "a31ad78b-16ec-4597-80f2-c2c234c9dec4",
   "metadata": {},
   "source": [
    "<font color='purple' size=5,5> 1e. Eliminación de más NaNs"
   ]
  },
  {
   "cell_type": "code",
   "execution_count": 20,
   "id": "6e0a62dd-8fa1-45b2-91ca-60815939821a",
   "metadata": {},
   "outputs": [],
   "source": [
    "data = data.loc[:, ~data.columns.str.contains('^unnamed')]"
   ]
  },
  {
   "cell_type": "code",
   "execution_count": 22,
   "id": "1e7ea635-d5a6-469b-9865-fcae9c67f21a",
   "metadata": {},
   "outputs": [
    {
     "data": {
      "text/plain": [
       "gender        0\n",
       "age           0\n",
       "occupation    0\n",
       "interest      0\n",
       "purchase      0\n",
       "dtype: int64"
      ]
     },
     "execution_count": 22,
     "metadata": {},
     "output_type": "execute_result"
    }
   ],
   "source": [
    "data.isna().sum().head()"
   ]
  },
  {
   "cell_type": "code",
   "execution_count": 23,
   "id": "243b309e-cbf6-4490-ae4b-861937a3f6a8",
   "metadata": {},
   "outputs": [],
   "source": [
    "data.dropna(inplace=True)"
   ]
  },
  {
   "cell_type": "markdown",
   "id": "c2ecb4cc-0643-4e5d-93c5-1947f992c0c6",
   "metadata": {},
   "source": [
    "<font color='purple' size=5,5> 1f. Correlación entre variables"
   ]
  },
  {
   "cell_type": "code",
   "execution_count": 24,
   "id": "218f1c4f-bc84-48a5-b949-533b65a6c459",
   "metadata": {},
   "outputs": [],
   "source": [
    "## correlación entre variables"
   ]
  },
  {
   "cell_type": "code",
   "execution_count": 25,
   "id": "aa5642c8-428c-4a0b-b570-7279553a2837",
   "metadata": {},
   "outputs": [
    {
     "name": "stderr",
     "output_type": "stream",
     "text": [
      "C:\\Users\\EB725YF\\AppData\\Local\\Temp\\ipykernel_43972\\101444409.py:2: DeprecationWarning: `np.bool` is a deprecated alias for the builtin `bool`. To silence this warning, use `bool` by itself. Doing this will not modify any behavior and is safe. If you specifically wanted the numpy scalar type, use `np.bool_` here.\n",
      "Deprecated in NumPy 1.20; for more details and guidance: https://numpy.org/devdocs/release/1.20.0-notes.html#deprecations\n",
      "  mask=np.triu(np.ones_like(corr, dtype=np.bool))\n"
     ]
    }
   ],
   "source": [
    "corr=data.corr()      \n",
    "mask=np.triu(np.ones_like(corr, dtype=np.bool)) "
   ]
  },
  {
   "cell_type": "code",
   "execution_count": 26,
   "id": "18f01416-cf5e-489c-8e7e-0c835a1ec858",
   "metadata": {},
   "outputs": [
    {
     "data": {
      "image/png": "[encoded data removed]",
      "text/plain": [
       "<Figure size 1100x900 with 2 Axes>"
      ]
     },
     "metadata": {},
     "output_type": "display_data"
    }
   ],
   "source": [
    "f, ax=plt.subplots(figsize=(11, 9))                 \n",
    "cmap=sns.diverging_palette(220, 10, as_cmap=True) \n",
    "sns.heatmap(corr, mask=mask, cmap=cmap,             \n",
    "            vmax=.3, center=0, square=True,\n",
    "            linewidths=.5, cbar_kws={\"shrink\": .5});\n"
   ]
  },
  {
   "cell_type": "markdown",
   "id": "f9741f7a-55fb-4c6b-a59e-ef128aa766d2",
   "metadata": {},
   "source": []
  },
  {
   "cell_type": "markdown",
   "id": "e8bc3d7b-f32d-401f-8a50-737299b4a279",
   "metadata": {},
   "source": [
    "<font color='purple' size=5,5> Ajuste de nuevas variables (known_brands) y eliminación de NaNs"
   ]
  },
  {
   "cell_type": "code",
   "execution_count": 29,
   "id": "e7dbaf69-b15d-414b-b9eb-b362d87b9e32",
   "metadata": {},
   "outputs": [],
   "source": [
    "data.columns = [col.lower().replace(' ', '_')  for col in data.columns]\n",
    "forloop = ['a', 'alohas', 'angels', 'blue', 'boss', 'breaker', 'columbia', 'converse', 'el', 'focus-green', 'gap', 'h&m', 'hibuy', 'humana', 'maje', 'none', 'organic', 'patagonia', 'polo', 'quicksilver', 'resales', 'rothys', 'tesla', 'timbaland', 'timberland', 'tommy', 'toms', 'too', 'zara', 'adidas', 'anthropology', 'avocadostore', 'basics', 'faced', 'holymeshq', 'jcrew', 'less', 'levis', 'lista', 'lot', 'natura', 'nike', 'other', 'patagonia', 'puma', 'seven', 'underarmour']"
   ]
  },
  {
   "cell_type": "code",
   "execution_count": 31,
   "id": "22f85335-7a63-4fd0-84b2-31d86a2a9992",
   "metadata": {},
   "outputs": [],
   "source": [
    "for col in forloop:\n",
    "    data.loc[pd.isna(data[col]), col] = data[col].astype(object).value_counts().iloc[0]"
   ]
  },
  {
   "cell_type": "code",
   "execution_count": 32,
   "id": "204381cb-0d0d-466d-9c75-53b9e0b322c5",
   "metadata": {},
   "outputs": [],
   "source": [
    "pd.set_option('display.max_rows', 500)"
   ]
  },
  {
   "cell_type": "code",
   "execution_count": 33,
   "id": "e5227587-6526-41b6-8d15-3810b14dbe0b",
   "metadata": {},
   "outputs": [],
   "source": [
    "cat_cols = []\n",
    "num_cols = []\n",
    "for col in data.columns:\n",
    "    if len(data[col].unique()) < 10:\n",
    "        cat_cols.append(col)\n",
    "    else:\n",
    "        num_cols.append(col)"
   ]
  },
  {
   "cell_type": "markdown",
   "id": "52169288-659f-405e-9ba5-1d7c7031922e",
   "metadata": {},
   "source": [
    "<font color='purple' size=5,5> Modelling"
   ]
  },
  {
   "cell_type": "code",
   "execution_count": 34,
   "id": "8236102e-8bb4-4a91-be2a-d3da2edd97ff",
   "metadata": {},
   "outputs": [],
   "source": [
    "Y = data['price_readiness']\n",
    "X = data.drop(['price_readiness'], axis=1)"
   ]
  },
  {
   "cell_type": "code",
   "execution_count": 52,
   "id": "a683f636-1d05-4e91-a50c-aa0a5ee0d51d",
   "metadata": {},
   "outputs": [],
   "source": [
    "X_train, X_test, y_train, y_test = tts(X, Y, test_size=0.2, random_state=45)\n",
    "from sklearn.preprocessing import StandardScaler\n",
    "standard = StandardScaler()\n",
    "X_train_scaled = standard.fit_transform(X_train)\n",
    "X_test_scaled = standard.transform(X_test)"
   ]
  },
  {
   "cell_type": "code",
   "execution_count": 53,
   "id": "79124d7f-84e0-4974-95e5-08b9ffa99442",
   "metadata": {},
   "outputs": [
    {
     "data": {
      "text/plain": [
       "1.1782178217821782"
      ]
     },
     "execution_count": 53,
     "metadata": {},
     "output_type": "execute_result"
    }
   ],
   "source": [
    "Y.mean()"
   ]
  },
  {
   "cell_type": "markdown",
   "id": "5a5cbef6-f164-4dab-8a65-ebb620470260",
   "metadata": {},
   "source": [
    "<font color='purple' size=5,5> Random Forest Classifier"
   ]
  },
  {
   "cell_type": "code",
   "execution_count": 54,
   "id": "99648929-254c-4061-b6a8-6b642b4bd571",
   "metadata": {},
   "outputs": [
    {
     "data": {
      "text/plain": [
       "0.8780487804878049"
      ]
     },
     "execution_count": 54,
     "metadata": {},
     "output_type": "execute_result"
    }
   ],
   "source": [
    "from sklearn.ensemble import RandomForestClassifier\n",
    "  \n",
    "classifier = RandomForestClassifier(n_estimators = 100, random_state = 0)\n",
    "  \n",
    "classifier.fit(X_train, y_train)  \n",
    "classifier.score(X_test, y_test)\n"
   ]
  },
  {
   "cell_type": "code",
   "execution_count": 56,
   "id": "90026fc1-7dda-4d1c-83ef-6253230f9bc7",
   "metadata": {},
   "outputs": [
    {
     "data": {
      "text/plain": [
       "array([2., 1., 1., 1., 1., 1., 1., 1., 1., 1., 1., 1., 1., 1., 1., 2., 1.,\n",
       "       1., 1., 1., 1., 1., 1., 1., 1., 1., 1., 1., 1., 1., 1., 1., 1., 1.,\n",
       "       1., 1., 1., 1., 1., 1., 1.])"
      ]
     },
     "execution_count": 56,
     "metadata": {},
     "output_type": "execute_result"
    }
   ],
   "source": [
    "y_predict = classifier.predict(X_test)\n",
    "y_predict"
   ]
  },
  {
   "cell_type": "markdown",
   "id": "825e88fe-714d-4734-8fc9-b28d8517306c",
   "metadata": {},
   "source": [
    "<font color='purple' size=3> Random Forest Classifier: Variables influence"
   ]
  },
  {
   "cell_type": "code",
   "execution_count": 57,
   "id": "ab7c7da9-9ae8-471b-9f0f-802eaea8dcc5",
   "metadata": {},
   "outputs": [],
   "source": [
    "### influencia de las variables x a price readiness(y)"
   ]
  },
  {
   "cell_type": "code",
   "execution_count": 61,
   "id": "a113757d-19bc-4268-890c-a023fcd741c2",
   "metadata": {},
   "outputs": [
    {
     "data": {
      "text/plain": [
       "0.12195121951219512"
      ]
     },
     "execution_count": 61,
     "metadata": {},
     "output_type": "execute_result"
    }
   ],
   "source": [
    "(abs(y_predict-y_test)).mean()"
   ]
  },
  {
   "cell_type": "code",
   "execution_count": 59,
   "id": "b58f0124-efb1-487a-aaca-9b2c209b38df",
   "metadata": {},
   "outputs": [],
   "source": [
    "pd.options.display.max_columns = None"
   ]
  },
  {
   "cell_type": "code",
   "execution_count": 64,
   "id": "1ca2b3de-bc6d-47ac-8d2a-0add5cb82cba",
   "metadata": {},
   "outputs": [
    {
     "data": {
      "application/vnd.plotly.v1+json": {
       "config": {
        "plotlyServerURL": "https://plot.ly"
       },
       "data": [
        {
         "alignmentgroup": "True",
         "hovertemplate": "variable=0<br>index=%{x}<br>value=%{y}<extra></extra>",
         "legendgroup": "0",
         "marker": {
          "color": "#636efa",
          "pattern": {
           "shape": ""
          }
         },
         "name": "0",
         "offsetgroup": "0",
         "orientation": "v",
         "showlegend": true,
         "textposition": "auto",
         "type": "bar",
         "x": [
          "gender",
          "age",
          "occupation",
          "interest",
          "purchase",
          "products",
          "money_spent",
          "fashion_segments",
          "customer_decision:_price",
          "customer_decision:_style",
          "customer_decision:_quality",
          "customer_decision:_brand",
          "customer_decision:_comfort",
          "customer_decision:_sustainability",
          "brand_familiarity:_ausweichoption_(negativ)_oder_anzahl_ausgewählter_optionen",
          "brand_familiarity:_zara",
          "brand_familiarity:_h&m",
          "brand_familiarity:_adidas",
          "brand_familiarity:_patagonia",
          "brand_familiarity:_uniqlo",
          "brand_familiarity:_weekday",
          "brand_familiarity:_all_of_them",
          "interest.1",
          "industries",
          "information",
          "price_relevance",
          "sustainable_option",
          "transparency",
          "recycle_:_ausweichoption_(negativ)_oder_anzahl_ausgewählter_optionen",
          "recycle_:_recycling/upcycling_of_clothing",
          "recycle_:_purchasing_second-hand/vintage_clothing",
          "recycle_:_purchasing_sustainable_clothing",
          "recycle_:_none",
          "preference",
          "budget",
          "&",
          "(colombia)",
          "a",
          "adaysmarch",
          "adidas",
          "alohas",
          "angels",
          "anthropology",
          "aritzia",
          "arket",
          "armed",
          "asket",
          "avocadostore",
          "balance",
          "basics",
          "bear",
          "bershka",
          "blue",
          "boss",
          "breaker",
          "carla",
          "cocccinelli",
          "columbia",
          "converse",
          "declathon",
          "earth",
          "ecoalf",
          "ecoology",
          "el",
          "express",
          "faced",
          "fernandez",
          "focus",
          "focus-green",
          "gap",
          "green",
          "h&m",
          "hessnatur",
          "hibuy",
          "holymeshq",
          "humana",
          "ice",
          "jcrew",
          "less",
          "levis",
          "lista",
          "lot",
          "maje",
          "mango",
          "mara",
          "max",
          "na",
          "natura",
          "navy",
          "new",
          "nike",
          "none",
          "occitane",
          "old",
          "organic",
          "other",
          "patagonia",
          "polo",
          "positive",
          "pull",
          "puma",
          "quicksilver",
          "reformation",
          "resales",
          "rothys",
          "seven",
          "shaping",
          "shoes",
          "tesla",
          "the",
          "timbaland",
          "timberland",
          "tommy",
          "tomorrow",
          "toms",
          "too",
          "underarmour",
          "vegan",
          "veja",
          "waschbär",
          "will's",
          "zara"
         ],
         "xaxis": "x",
         "y": [
          0.018,
          0.024,
          0.027,
          0.008,
          0.016,
          0.04,
          0.029,
          0.047,
          0.023,
          0.019,
          0.025,
          0.03,
          0.028,
          0.033,
          0.036,
          0.009,
          0.009,
          0.011,
          0.01,
          0.014,
          0.004,
          0.004,
          0.041,
          0.043,
          0.009,
          0.038,
          0.136,
          0.041,
          0.025,
          0.016,
          0.012,
          0.02,
          0.019,
          0.043,
          0.029,
          0,
          0,
          0,
          0,
          0,
          0.007,
          0,
          0,
          0,
          0,
          0,
          0.001,
          0,
          0,
          0,
          0,
          0,
          0,
          0.001,
          0,
          0,
          0.001,
          0,
          0,
          0,
          0,
          0,
          0,
          0,
          0,
          0,
          0,
          0,
          0,
          0.008,
          0,
          0.003,
          0,
          0.014,
          0.005,
          0,
          0,
          0,
          0,
          0.006,
          0,
          0,
          0,
          0,
          0,
          0,
          0,
          0,
          0,
          0,
          0,
          0,
          0,
          0,
          0,
          0.014,
          0.001,
          0,
          0,
          0,
          0,
          0,
          0,
          0,
          0,
          0,
          0,
          0,
          0,
          0,
          0,
          0,
          0,
          0,
          0,
          0,
          0,
          0,
          0,
          0,
          0,
          0
         ],
         "yaxis": "y"
        }
       ],
       "layout": {
        "autosize": true,
        "barmode": "relative",
        "dragmode": "zoom",
        "legend": {
         "title": {
          "text": "variable"
         },
         "tracegroupgap": 0
        },
        "margin": {
         "t": 60
        },
        "template": {
         "data": {
          "bar": [
           {
            "error_x": {
             "color": "#2a3f5f"
            },
            "error_y": {
             "color": "#2a3f5f"
            },
            "marker": {
             "line": {
              "color": "#E5ECF6",
              "width": 0.5
             },
             "pattern": {
              "fillmode": "overlay",
              "size": 10,
              "solidity": 0.2
             }
            },
            "type": "bar"
           }
          ],
          "barpolar": [
           {
            "marker": {
             "line": {
              "color": "#E5ECF6",
              "width": 0.5
             },
             "pattern": {
              "fillmode": "overlay",
              "size": 10,
              "solidity": 0.2
             }
            },
            "type": "barpolar"
           }
          ],
          "carpet": [
           {
            "aaxis": {
             "endlinecolor": "#2a3f5f",
             "gridcolor": "white",
             "linecolor": "white",
             "minorgridcolor": "white",
             "startlinecolor": "#2a3f5f"
            },
            "baxis": {
             "endlinecolor": "#2a3f5f",
             "gridcolor": "white",
             "linecolor": "white",
             "minorgridcolor": "white",
             "startlinecolor": "#2a3f5f"
            },
            "type": "carpet"
           }
          ],
          "choropleth": [
           {
            "colorbar": {
             "outlinewidth": 0,
             "ticks": ""
            },
            "type": "choropleth"
           }
          ],
          "contour": [
           {
            "colorbar": {
             "outlinewidth": 0,
             "ticks": ""
            },
            "colorscale": [
             [
              0,
              "#0d0887"
             ],
             [
              0.1111111111111111,
              "#46039f"
             ],
             [
              0.2222222222222222,
              "#7201a8"
             ],
             [
              0.3333333333333333,
              "#9c179e"
             ],
             [
              0.4444444444444444,
              "#bd3786"
             ],
             [
              0.5555555555555556,
              "#d8576b"
             ],
             [
              0.6666666666666666,
              "#ed7953"
             ],
             [
              0.7777777777777778,
              "#fb9f3a"
             ],
             [
              0.8888888888888888,
              "#fdca26"
             ],
             [
              1,
              "#f0f921"
             ]
            ],
            "type": "contour"
           }
          ],
          "contourcarpet": [
           {
            "colorbar": {
             "outlinewidth": 0,
             "ticks": ""
            },
            "type": "contourcarpet"
           }
          ],
          "heatmap": [
           {
            "colorbar": {
             "outlinewidth": 0,
             "ticks": ""
            },
            "colorscale": [
             [
              0,
              "#0d0887"
             ],
             [
              0.1111111111111111,
              "#46039f"
             ],
             [
              0.2222222222222222,
              "#7201a8"
             ],
             [
              0.3333333333333333,
              "#9c179e"
             ],
             [
              0.4444444444444444,
              "#bd3786"
             ],
             [
              0.5555555555555556,
              "#d8576b"
             ],
             [
              0.6666666666666666,
              "#ed7953"
             ],
             [
              0.7777777777777778,
              "#fb9f3a"
             ],
             [
              0.8888888888888888,
              "#fdca26"
             ],
             [
              1,
              "#f0f921"
             ]
            ],
            "type": "heatmap"
           }
          ],
          "heatmapgl": [
           {
            "colorbar": {
             "outlinewidth": 0,
             "ticks": ""
            },
            "colorscale": [
             [
              0,
              "#0d0887"
             ],
             [
              0.1111111111111111,
              "#46039f"
             ],
             [
              0.2222222222222222,
              "#7201a8"
             ],
             [
              0.3333333333333333,
              "#9c179e"
             ],
             [
              0.4444444444444444,
              "#bd3786"
             ],
             [
              0.5555555555555556,
              "#d8576b"
             ],
             [
              0.6666666666666666,
              "#ed7953"
             ],
             [
              0.7777777777777778,
              "#fb9f3a"
             ],
             [
              0.8888888888888888,
              "#fdca26"
             ],
             [
              1,
              "#f0f921"
             ]
            ],
            "type": "heatmapgl"
           }
          ],
          "histogram": [
           {
            "marker": {
             "pattern": {
              "fillmode": "overlay",
              "size": 10,
              "solidity": 0.2
             }
            },
            "type": "histogram"
           }
          ],
          "histogram2d": [
           {
            "colorbar": {
             "outlinewidth": 0,
             "ticks": ""
            },
            "colorscale": [
             [
              0,
              "#0d0887"
             ],
             [
              0.1111111111111111,
              "#46039f"
             ],
             [
              0.2222222222222222,
              "#7201a8"
             ],
             [
              0.3333333333333333,
              "#9c179e"
             ],
             [
              0.4444444444444444,
              "#bd3786"
             ],
             [
              0.5555555555555556,
              "#d8576b"
             ],
             [
              0.6666666666666666,
              "#ed7953"
             ],
             [
              0.7777777777777778,
              "#fb9f3a"
             ],
             [
              0.8888888888888888,
              "#fdca26"
             ],
             [
              1,
              "#f0f921"
             ]
            ],
            "type": "histogram2d"
           }
          ],
          "histogram2dcontour": [
           {
            "colorbar": {
             "outlinewidth": 0,
             "ticks": ""
            },
            "colorscale": [
             [
              0,
              "#0d0887"
             ],
             [
              0.1111111111111111,
              "#46039f"
             ],
             [
              0.2222222222222222,
              "#7201a8"
             ],
             [
              0.3333333333333333,
              "#9c179e"
             ],
             [
              0.4444444444444444,
              "#bd3786"
             ],
             [
              0.5555555555555556,
              "#d8576b"
             ],
             [
              0.6666666666666666,
              "#ed7953"
             ],
             [
              0.7777777777777778,
              "#fb9f3a"
             ],
             [
              0.8888888888888888,
              "#fdca26"
             ],
             [
              1,
              "#f0f921"
             ]
            ],
            "type": "histogram2dcontour"
           }
          ],
          "mesh3d": [
           {
            "colorbar": {
             "outlinewidth": 0,
             "ticks": ""
            },
            "type": "mesh3d"
           }
          ],
          "parcoords": [
           {
            "line": {
             "colorbar": {
              "outlinewidth": 0,
              "ticks": ""
             }
            },
            "type": "parcoords"
           }
          ],
          "pie": [
           {
            "automargin": true,
            "type": "pie"
           }
          ],
          "scatter": [
           {
            "fillpattern": {
             "fillmode": "overlay",
             "size": 10,
             "solidity": 0.2
            },
            "type": "scatter"
           }
          ],
          "scatter3d": [
           {
            "line": {
             "colorbar": {
              "outlinewidth": 0,
              "ticks": ""
             }
            },
            "marker": {
             "colorbar": {
              "outlinewidth": 0,
              "ticks": ""
             }
            },
            "type": "scatter3d"
           }
          ],
          "scattercarpet": [
           {
            "marker": {
             "colorbar": {
              "outlinewidth": 0,
              "ticks": ""
             }
            },
            "type": "scattercarpet"
           }
          ],
          "scattergeo": [
           {
            "marker": {
             "colorbar": {
              "outlinewidth": 0,
              "ticks": ""
             }
            },
            "type": "scattergeo"
           }
          ],
          "scattergl": [
           {
            "marker": {
             "colorbar": {
              "outlinewidth": 0,
              "ticks": ""
             }
            },
            "type": "scattergl"
           }
          ],
          "scattermapbox": [
           {
            "marker": {
             "colorbar": {
              "outlinewidth": 0,
              "ticks": ""
             }
            },
            "type": "scattermapbox"
           }
          ],
          "scatterpolar": [
           {
            "marker": {
             "colorbar": {
              "outlinewidth": 0,
              "ticks": ""
             }
            },
            "type": "scatterpolar"
           }
          ],
          "scatterpolargl": [
           {
            "marker": {
             "colorbar": {
              "outlinewidth": 0,
              "ticks": ""
             }
            },
            "type": "scatterpolargl"
           }
          ],
          "scatterternary": [
           {
            "marker": {
             "colorbar": {
              "outlinewidth": 0,
              "ticks": ""
             }
            },
            "type": "scatterternary"
           }
          ],
          "surface": [
           {
            "colorbar": {
             "outlinewidth": 0,
             "ticks": ""
            },
            "colorscale": [
             [
              0,
              "#0d0887"
             ],
             [
              0.1111111111111111,
              "#46039f"
             ],
             [
              0.2222222222222222,
              "#7201a8"
             ],
             [
              0.3333333333333333,
              "#9c179e"
             ],
             [
              0.4444444444444444,
              "#bd3786"
             ],
             [
              0.5555555555555556,
              "#d8576b"
             ],
             [
              0.6666666666666666,
              "#ed7953"
             ],
             [
              0.7777777777777778,
              "#fb9f3a"
             ],
             [
              0.8888888888888888,
              "#fdca26"
             ],
             [
              1,
              "#f0f921"
             ]
            ],
            "type": "surface"
           }
          ],
          "table": [
           {
            "cells": {
             "fill": {
              "color": "#EBF0F8"
             },
             "line": {
              "color": "white"
             }
            },
            "header": {
             "fill": {
              "color": "#C8D4E3"
             },
             "line": {
              "color": "white"
             }
            },
            "type": "table"
           }
          ]
         },
         "layout": {
          "annotationdefaults": {
           "arrowcolor": "#2a3f5f",
           "arrowhead": 0,
           "arrowwidth": 1
          },
          "autotypenumbers": "strict",
          "coloraxis": {
           "colorbar": {
            "outlinewidth": 0,
            "ticks": ""
           }
          },
          "colorscale": {
           "diverging": [
            [
             0,
             "#8e0152"
            ],
            [
             0.1,
             "#c51b7d"
            ],
            [
             0.2,
             "#de77ae"
            ],
            [
             0.3,
             "#f1b6da"
            ],
            [
             0.4,
             "#fde0ef"
            ],
            [
             0.5,
             "#f7f7f7"
            ],
            [
             0.6,
             "#e6f5d0"
            ],
            [
             0.7,
             "#b8e186"
            ],
            [
             0.8,
             "#7fbc41"
            ],
            [
             0.9,
             "#4d9221"
            ],
            [
             1,
             "#276419"
            ]
           ],
           "sequential": [
            [
             0,
             "#0d0887"
            ],
            [
             0.1111111111111111,
             "#46039f"
            ],
            [
             0.2222222222222222,
             "#7201a8"
            ],
            [
             0.3333333333333333,
             "#9c179e"
            ],
            [
             0.4444444444444444,
             "#bd3786"
            ],
            [
             0.5555555555555556,
             "#d8576b"
            ],
            [
             0.6666666666666666,
             "#ed7953"
            ],
            [
             0.7777777777777778,
             "#fb9f3a"
            ],
            [
             0.8888888888888888,
             "#fdca26"
            ],
            [
             1,
             "#f0f921"
            ]
           ],
           "sequentialminus": [
            [
             0,
             "#0d0887"
            ],
            [
             0.1111111111111111,
             "#46039f"
            ],
            [
             0.2222222222222222,
             "#7201a8"
            ],
            [
             0.3333333333333333,
             "#9c179e"
            ],
            [
             0.4444444444444444,
             "#bd3786"
            ],
            [
             0.5555555555555556,
             "#d8576b"
            ],
            [
             0.6666666666666666,
             "#ed7953"
            ],
            [
             0.7777777777777778,
             "#fb9f3a"
            ],
            [
             0.8888888888888888,
             "#fdca26"
            ],
            [
             1,
             "#f0f921"
            ]
           ]
          },
          "colorway": [
           "#636efa",
           "#EF553B",
           "#00cc96",
           "#ab63fa",
           "#FFA15A",
           "#19d3f3",
           "#FF6692",
           "#B6E880",
           "#FF97FF",
           "#FECB52"
          ],
          "font": {
           "color": "#2a3f5f"
          },
          "geo": {
           "bgcolor": "white",
           "lakecolor": "white",
           "landcolor": "#E5ECF6",
           "showlakes": true,
           "showland": true,
           "subunitcolor": "white"
          },
          "hoverlabel": {
           "align": "left"
          },
          "hovermode": "closest",
          "mapbox": {
           "style": "light"
          },
          "paper_bgcolor": "white",
          "plot_bgcolor": "#E5ECF6",
          "polar": {
           "angularaxis": {
            "gridcolor": "white",
            "linecolor": "white",
            "ticks": ""
           },
           "bgcolor": "#E5ECF6",
           "radialaxis": {
            "gridcolor": "white",
            "linecolor": "white",
            "ticks": ""
           }
          },
          "scene": {
           "xaxis": {
            "backgroundcolor": "#E5ECF6",
            "gridcolor": "white",
            "gridwidth": 2,
            "linecolor": "white",
            "showbackground": true,
            "ticks": "",
            "zerolinecolor": "white"
           },
           "yaxis": {
            "backgroundcolor": "#E5ECF6",
            "gridcolor": "white",
            "gridwidth": 2,
            "linecolor": "white",
            "showbackground": true,
            "ticks": "",
            "zerolinecolor": "white"
           },
           "zaxis": {
            "backgroundcolor": "#E5ECF6",
            "gridcolor": "white",
            "gridwidth": 2,
            "linecolor": "white",
            "showbackground": true,
            "ticks": "",
            "zerolinecolor": "white"
           }
          },
          "shapedefaults": {
           "line": {
            "color": "#2a3f5f"
           }
          },
          "ternary": {
           "aaxis": {
            "gridcolor": "white",
            "linecolor": "white",
            "ticks": ""
           },
           "baxis": {
            "gridcolor": "white",
            "linecolor": "white",
            "ticks": ""
           },
           "bgcolor": "#E5ECF6",
           "caxis": {
            "gridcolor": "white",
            "linecolor": "white",
            "ticks": ""
           }
          },
          "title": {
           "x": 0.05
          },
          "xaxis": {
           "automargin": true,
           "gridcolor": "white",
           "linecolor": "white",
           "ticks": "",
           "title": {
            "standoff": 15
           },
           "zerolinecolor": "white",
           "zerolinewidth": 2
          },
          "yaxis": {
           "automargin": true,
           "gridcolor": "white",
           "linecolor": "white",
           "ticks": "",
           "title": {
            "standoff": 15
           },
           "zerolinecolor": "white",
           "zerolinewidth": 2
          }
         }
        },
        "xaxis": {
         "anchor": "y",
         "autorange": false,
         "domain": [
          0,
          1
         ],
         "range": [
          -0.5,
          39.70228384991843
         ],
         "showspikes": false,
         "title": {
          "text": "index"
         },
         "type": "category"
        },
        "yaxis": {
         "anchor": "x",
         "autorange": false,
         "domain": [
          0,
          1
         ],
         "range": [
          0,
          0.14010554865786906
         ],
         "showspikes": false,
         "tickformat": ".2%",
         "title": {
          "text": "value"
         },
         "type": "linear"
        }
       }
      },
      "image/png": "[encoded data removed]",
      "text/html": [
       "<div>                            <div id=\"85659643-eb28-4867-b714-613c244131a7\" class=\"plotly-graph-div\" style=\"height:525px; width:100%;\"></div>            <script type=\"text/javascript\">                require([\"plotly\"], function(Plotly) {                    window.PLOTLYENV=window.PLOTLYENV || {};                                    if (document.getElementById(\"85659643-eb28-4867-b714-613c244131a7\")) {                    Plotly.newPlot(                        \"85659643-eb28-4867-b714-613c244131a7\",                        [{\"alignmentgroup\":\"True\",\"hovertemplate\":\"variable=0<br>index=%{x}<br>value=%{y}<extra></extra>\",\"legendgroup\":\"0\",\"marker\":{\"color\":\"#636efa\",\"pattern\":{\"shape\":\"\"}},\"name\":\"0\",\"offsetgroup\":\"0\",\"orientation\":\"v\",\"showlegend\":true,\"textposition\":\"auto\",\"x\":[\"gender\",\"age\",\"occupation\",\"interest\",\"purchase\",\"products\",\"money_spent\",\"fashion_segments\",\"customer_decision:_price\",\"customer_decision:_style\",\"customer_decision:_quality\",\"customer_decision:_brand\",\"customer_decision:_comfort\",\"customer_decision:_sustainability\",\"brand_familiarity:_ausweichoption_(negativ)_oder_anzahl_ausgew\\u00e4hlter_optionen\",\"brand_familiarity:_zara\",\"brand_familiarity:_h&m\",\"brand_familiarity:_adidas\",\"brand_familiarity:_patagonia\",\"brand_familiarity:_uniqlo\",\"brand_familiarity:_weekday\",\"brand_familiarity:_all_of_them\",\"interest.1\",\"industries\",\"information\",\"price_relevance\",\"sustainable_option\",\"transparency\",\"recycle_:_ausweichoption_(negativ)_oder_anzahl_ausgew\\u00e4hlter_optionen\",\"recycle_:_recycling/upcycling_of_clothing\",\"recycle_:_purchasing_second-hand/vintage_clothing\",\"recycle_:_purchasing_sustainable_clothing\",\"recycle_:_none\",\"preference\",\"budget\",\"&\",\"(colombia)\",\"a\",\"adaysmarch\",\"adidas\",\"alohas\",\"angels\",\"anthropology\",\"aritzia\",\"arket\",\"armed\",\"asket\",\"avocadostore\",\"balance\",\"basics\",\"bear\",\"bershka\",\"blue\",\"boss\",\"breaker\",\"carla\",\"cocccinelli\",\"columbia\",\"converse\",\"declathon\",\"earth\",\"ecoalf\",\"ecoology\",\"el\",\"express\",\"faced\",\"fernandez\",\"focus\",\"focus-green\",\"gap\",\"green\",\"h&m\",\"hessnatur\",\"hibuy\",\"holymeshq\",\"humana\",\"ice\",\"jcrew\",\"less\",\"levis\",\"lista\",\"lot\",\"maje\",\"mango\",\"mara\",\"max\",\"na\",\"natura\",\"navy\",\"new\",\"nike\",\"none\",\"occitane\",\"old\",\"organic\",\"other\",\"patagonia\",\"polo\",\"positive\",\"pull\",\"puma\",\"quicksilver\",\"reformation\",\"resales\",\"rothys\",\"seven\",\"shaping\",\"shoes\",\"tesla\",\"the\",\"timbaland\",\"timberland\",\"tommy\",\"tomorrow\",\"toms\",\"too\",\"underarmour\",\"vegan\",\"veja\",\"waschb\\u00e4r\",\"will's\",\"zara\"],\"xaxis\":\"x\",\"y\":[0.018,0.024,0.027,0.008,0.016,0.04,0.029,0.047,0.023,0.019,0.025,0.03,0.028,0.033,0.036,0.009,0.009,0.011,0.01,0.014,0.004,0.004,0.041,0.043,0.009,0.038,0.136,0.041,0.025,0.016,0.012,0.02,0.019,0.043,0.029,0.0,0.0,0.0,0.0,0.0,0.007,0.0,0.0,0.0,0.0,0.0,0.001,0.0,0.0,0.0,0.0,0.0,0.0,0.001,0.0,0.0,0.001,0.0,0.0,0.0,0.0,0.0,0.0,0.0,0.0,0.0,0.0,0.0,0.0,0.008,0.0,0.003,0.0,0.014,0.005,0.0,0.0,0.0,0.0,0.006,0.0,0.0,0.0,0.0,0.0,0.0,0.0,0.0,0.0,0.0,0.0,0.0,0.0,0.0,0.0,0.014,0.001,0.0,0.0,0.0,0.0,0.0,0.0,0.0,0.0,0.0,0.0,0.0,0.0,0.0,0.0,0.0,0.0,0.0,0.0,0.0,0.0,0.0,0.0,0.0,0.0,0.0],\"yaxis\":\"y\",\"type\":\"bar\"}],                        {\"template\":{\"data\":{\"histogram2dcontour\":[{\"type\":\"histogram2dcontour\",\"colorbar\":{\"outlinewidth\":0,\"ticks\":\"\"},\"colorscale\":[[0.0,\"#0d0887\"],[0.1111111111111111,\"#46039f\"],[0.2222222222222222,\"#7201a8\"],[0.3333333333333333,\"#9c179e\"],[0.4444444444444444,\"#bd3786\"],[0.5555555555555556,\"#d8576b\"],[0.6666666666666666,\"#ed7953\"],[0.7777777777777778,\"#fb9f3a\"],[0.8888888888888888,\"#fdca26\"],[1.0,\"#f0f921\"]]}],\"choropleth\":[{\"type\":\"choropleth\",\"colorbar\":{\"outlinewidth\":0,\"ticks\":\"\"}}],\"histogram2d\":[{\"type\":\"histogram2d\",\"colorbar\":{\"outlinewidth\":0,\"ticks\":\"\"},\"colorscale\":[[0.0,\"#0d0887\"],[0.1111111111111111,\"#46039f\"],[0.2222222222222222,\"#7201a8\"],[0.3333333333333333,\"#9c179e\"],[0.4444444444444444,\"#bd3786\"],[0.5555555555555556,\"#d8576b\"],[0.6666666666666666,\"#ed7953\"],[0.7777777777777778,\"#fb9f3a\"],[0.8888888888888888,\"#fdca26\"],[1.0,\"#f0f921\"]]}],\"heatmap\":[{\"type\":\"heatmap\",\"colorbar\":{\"outlinewidth\":0,\"ticks\":\"\"},\"colorscale\":[[0.0,\"#0d0887\"],[0.1111111111111111,\"#46039f\"],[0.2222222222222222,\"#7201a8\"],[0.3333333333333333,\"#9c179e\"],[0.4444444444444444,\"#bd3786\"],[0.5555555555555556,\"#d8576b\"],[0.6666666666666666,\"#ed7953\"],[0.7777777777777778,\"#fb9f3a\"],[0.8888888888888888,\"#fdca26\"],[1.0,\"#f0f921\"]]}],\"heatmapgl\":[{\"type\":\"heatmapgl\",\"colorbar\":{\"outlinewidth\":0,\"ticks\":\"\"},\"colorscale\":[[0.0,\"#0d0887\"],[0.1111111111111111,\"#46039f\"],[0.2222222222222222,\"#7201a8\"],[0.3333333333333333,\"#9c179e\"],[0.4444444444444444,\"#bd3786\"],[0.5555555555555556,\"#d8576b\"],[0.6666666666666666,\"#ed7953\"],[0.7777777777777778,\"#fb9f3a\"],[0.8888888888888888,\"#fdca26\"],[1.0,\"#f0f921\"]]}],\"contourcarpet\":[{\"type\":\"contourcarpet\",\"colorbar\":{\"outlinewidth\":0,\"ticks\":\"\"}}],\"contour\":[{\"type\":\"contour\",\"colorbar\":{\"outlinewidth\":0,\"ticks\":\"\"},\"colorscale\":[[0.0,\"#0d0887\"],[0.1111111111111111,\"#46039f\"],[0.2222222222222222,\"#7201a8\"],[0.3333333333333333,\"#9c179e\"],[0.4444444444444444,\"#bd3786\"],[0.5555555555555556,\"#d8576b\"],[0.6666666666666666,\"#ed7953\"],[0.7777777777777778,\"#fb9f3a\"],[0.8888888888888888,\"#fdca26\"],[1.0,\"#f0f921\"]]}],\"surface\":[{\"type\":\"surface\",\"colorbar\":{\"outlinewidth\":0,\"ticks\":\"\"},\"colorscale\":[[0.0,\"#0d0887\"],[0.1111111111111111,\"#46039f\"],[0.2222222222222222,\"#7201a8\"],[0.3333333333333333,\"#9c179e\"],[0.4444444444444444,\"#bd3786\"],[0.5555555555555556,\"#d8576b\"],[0.6666666666666666,\"#ed7953\"],[0.7777777777777778,\"#fb9f3a\"],[0.8888888888888888,\"#fdca26\"],[1.0,\"#f0f921\"]]}],\"mesh3d\":[{\"type\":\"mesh3d\",\"colorbar\":{\"outlinewidth\":0,\"ticks\":\"\"}}],\"scatter\":[{\"fillpattern\":{\"fillmode\":\"overlay\",\"size\":10,\"solidity\":0.2},\"type\":\"scatter\"}],\"parcoords\":[{\"type\":\"parcoords\",\"line\":{\"colorbar\":{\"outlinewidth\":0,\"ticks\":\"\"}}}],\"scatterpolargl\":[{\"type\":\"scatterpolargl\",\"marker\":{\"colorbar\":{\"outlinewidth\":0,\"ticks\":\"\"}}}],\"bar\":[{\"error_x\":{\"color\":\"#2a3f5f\"},\"error_y\":{\"color\":\"#2a3f5f\"},\"marker\":{\"line\":{\"color\":\"#E5ECF6\",\"width\":0.5},\"pattern\":{\"fillmode\":\"overlay\",\"size\":10,\"solidity\":0.2}},\"type\":\"bar\"}],\"scattergeo\":[{\"type\":\"scattergeo\",\"marker\":{\"colorbar\":{\"outlinewidth\":0,\"ticks\":\"\"}}}],\"scatterpolar\":[{\"type\":\"scatterpolar\",\"marker\":{\"colorbar\":{\"outlinewidth\":0,\"ticks\":\"\"}}}],\"histogram\":[{\"marker\":{\"pattern\":{\"fillmode\":\"overlay\",\"size\":10,\"solidity\":0.2}},\"type\":\"histogram\"}],\"scattergl\":[{\"type\":\"scattergl\",\"marker\":{\"colorbar\":{\"outlinewidth\":0,\"ticks\":\"\"}}}],\"scatter3d\":[{\"type\":\"scatter3d\",\"line\":{\"colorbar\":{\"outlinewidth\":0,\"ticks\":\"\"}},\"marker\":{\"colorbar\":{\"outlinewidth\":0,\"ticks\":\"\"}}}],\"scattermapbox\":[{\"type\":\"scattermapbox\",\"marker\":{\"colorbar\":{\"outlinewidth\":0,\"ticks\":\"\"}}}],\"scatterternary\":[{\"type\":\"scatterternary\",\"marker\":{\"colorbar\":{\"outlinewidth\":0,\"ticks\":\"\"}}}],\"scattercarpet\":[{\"type\":\"scattercarpet\",\"marker\":{\"colorbar\":{\"outlinewidth\":0,\"ticks\":\"\"}}}],\"carpet\":[{\"aaxis\":{\"endlinecolor\":\"#2a3f5f\",\"gridcolor\":\"white\",\"linecolor\":\"white\",\"minorgridcolor\":\"white\",\"startlinecolor\":\"#2a3f5f\"},\"baxis\":{\"endlinecolor\":\"#2a3f5f\",\"gridcolor\":\"white\",\"linecolor\":\"white\",\"minorgridcolor\":\"white\",\"startlinecolor\":\"#2a3f5f\"},\"type\":\"carpet\"}],\"table\":[{\"cells\":{\"fill\":{\"color\":\"#EBF0F8\"},\"line\":{\"color\":\"white\"}},\"header\":{\"fill\":{\"color\":\"#C8D4E3\"},\"line\":{\"color\":\"white\"}},\"type\":\"table\"}],\"barpolar\":[{\"marker\":{\"line\":{\"color\":\"#E5ECF6\",\"width\":0.5},\"pattern\":{\"fillmode\":\"overlay\",\"size\":10,\"solidity\":0.2}},\"type\":\"barpolar\"}],\"pie\":[{\"automargin\":true,\"type\":\"pie\"}]},\"layout\":{\"autotypenumbers\":\"strict\",\"colorway\":[\"#636efa\",\"#EF553B\",\"#00cc96\",\"#ab63fa\",\"#FFA15A\",\"#19d3f3\",\"#FF6692\",\"#B6E880\",\"#FF97FF\",\"#FECB52\"],\"font\":{\"color\":\"#2a3f5f\"},\"hovermode\":\"closest\",\"hoverlabel\":{\"align\":\"left\"},\"paper_bgcolor\":\"white\",\"plot_bgcolor\":\"#E5ECF6\",\"polar\":{\"bgcolor\":\"#E5ECF6\",\"angularaxis\":{\"gridcolor\":\"white\",\"linecolor\":\"white\",\"ticks\":\"\"},\"radialaxis\":{\"gridcolor\":\"white\",\"linecolor\":\"white\",\"ticks\":\"\"}},\"ternary\":{\"bgcolor\":\"#E5ECF6\",\"aaxis\":{\"gridcolor\":\"white\",\"linecolor\":\"white\",\"ticks\":\"\"},\"baxis\":{\"gridcolor\":\"white\",\"linecolor\":\"white\",\"ticks\":\"\"},\"caxis\":{\"gridcolor\":\"white\",\"linecolor\":\"white\",\"ticks\":\"\"}},\"coloraxis\":{\"colorbar\":{\"outlinewidth\":0,\"ticks\":\"\"}},\"colorscale\":{\"sequential\":[[0.0,\"#0d0887\"],[0.1111111111111111,\"#46039f\"],[0.2222222222222222,\"#7201a8\"],[0.3333333333333333,\"#9c179e\"],[0.4444444444444444,\"#bd3786\"],[0.5555555555555556,\"#d8576b\"],[0.6666666666666666,\"#ed7953\"],[0.7777777777777778,\"#fb9f3a\"],[0.8888888888888888,\"#fdca26\"],[1.0,\"#f0f921\"]],\"sequentialminus\":[[0.0,\"#0d0887\"],[0.1111111111111111,\"#46039f\"],[0.2222222222222222,\"#7201a8\"],[0.3333333333333333,\"#9c179e\"],[0.4444444444444444,\"#bd3786\"],[0.5555555555555556,\"#d8576b\"],[0.6666666666666666,\"#ed7953\"],[0.7777777777777778,\"#fb9f3a\"],[0.8888888888888888,\"#fdca26\"],[1.0,\"#f0f921\"]],\"diverging\":[[0,\"#8e0152\"],[0.1,\"#c51b7d\"],[0.2,\"#de77ae\"],[0.3,\"#f1b6da\"],[0.4,\"#fde0ef\"],[0.5,\"#f7f7f7\"],[0.6,\"#e6f5d0\"],[0.7,\"#b8e186\"],[0.8,\"#7fbc41\"],[0.9,\"#4d9221\"],[1,\"#276419\"]]},\"xaxis\":{\"gridcolor\":\"white\",\"linecolor\":\"white\",\"ticks\":\"\",\"title\":{\"standoff\":15},\"zerolinecolor\":\"white\",\"automargin\":true,\"zerolinewidth\":2},\"yaxis\":{\"gridcolor\":\"white\",\"linecolor\":\"white\",\"ticks\":\"\",\"title\":{\"standoff\":15},\"zerolinecolor\":\"white\",\"automargin\":true,\"zerolinewidth\":2},\"scene\":{\"xaxis\":{\"backgroundcolor\":\"#E5ECF6\",\"gridcolor\":\"white\",\"linecolor\":\"white\",\"showbackground\":true,\"ticks\":\"\",\"zerolinecolor\":\"white\",\"gridwidth\":2},\"yaxis\":{\"backgroundcolor\":\"#E5ECF6\",\"gridcolor\":\"white\",\"linecolor\":\"white\",\"showbackground\":true,\"ticks\":\"\",\"zerolinecolor\":\"white\",\"gridwidth\":2},\"zaxis\":{\"backgroundcolor\":\"#E5ECF6\",\"gridcolor\":\"white\",\"linecolor\":\"white\",\"showbackground\":true,\"ticks\":\"\",\"zerolinecolor\":\"white\",\"gridwidth\":2}},\"shapedefaults\":{\"line\":{\"color\":\"#2a3f5f\"}},\"annotationdefaults\":{\"arrowcolor\":\"#2a3f5f\",\"arrowhead\":0,\"arrowwidth\":1},\"geo\":{\"bgcolor\":\"white\",\"landcolor\":\"#E5ECF6\",\"subunitcolor\":\"white\",\"showland\":true,\"showlakes\":true,\"lakecolor\":\"white\"},\"title\":{\"x\":0.05},\"mapbox\":{\"style\":\"light\"}}},\"xaxis\":{\"anchor\":\"y\",\"domain\":[0.0,1.0],\"title\":{\"text\":\"index\"}},\"yaxis\":{\"anchor\":\"x\",\"domain\":[0.0,1.0],\"title\":{\"text\":\"value\"},\"tickformat\":\".2%\"},\"legend\":{\"title\":{\"text\":\"variable\"},\"tracegroupgap\":0},\"margin\":{\"t\":60},\"barmode\":\"relative\"},                        {\"responsive\": true}                    ).then(function(){\n",
       "                            \n",
       "var gd = document.getElementById('85659643-eb28-4867-b714-613c244131a7');\n",
       "var x = new MutationObserver(function (mutations, observer) {{\n",
       "        var display = window.getComputedStyle(gd).display;\n",
       "        if (!display || display === 'none') {{\n",
       "            console.log([gd, 'removed!']);\n",
       "            Plotly.purge(gd);\n",
       "            observer.disconnect();\n",
       "        }}\n",
       "}});\n",
       "\n",
       "// Listen for the removal of the full notebook cells\n",
       "var notebookContainer = gd.closest('#notebook-container');\n",
       "if (notebookContainer) {{\n",
       "    x.observe(notebookContainer, {childList: true});\n",
       "}}\n",
       "\n",
       "// Listen for the clearing of the current output cell\n",
       "var outputEl = gd.closest('.output');\n",
       "if (outputEl) {{\n",
       "    x.observe(outputEl, {childList: true});\n",
       "}}\n",
       "\n",
       "                        })                };                });            </script>        </div>"
      ]
     },
     "metadata": {},
     "output_type": "display_data"
    }
   ],
   "source": [
    "import plotly.express as px\n",
    "feature_importances =  list(pd.Series(classifier.feature_importances_).apply(lambda x:np.round(x, 3)))\n",
    "px.bar(pd.DataFrame(dict(zip(X.columns, feature_importances)), index=[0]).T).update_layout(yaxis_tickformat='.2%')"
   ]
  },
  {
   "cell_type": "code",
   "execution_count": 44,
   "id": "e4df6982-4c4b-4365-9b82-b13d1b1e1f54",
   "metadata": {},
   "outputs": [
    {
     "data": {
      "text/html": [
       "<div>\n",
       "<style scoped>\n",
       "    .dataframe tbody tr th:only-of-type {\n",
       "        vertical-align: middle;\n",
       "    }\n",
       "\n",
       "    .dataframe tbody tr th {\n",
       "        vertical-align: top;\n",
       "    }\n",
       "\n",
       "    .dataframe thead th {\n",
       "        text-align: right;\n",
       "    }\n",
       "</style>\n",
       "<table border=\"1\" class=\"dataframe\">\n",
       "  <thead>\n",
       "    <tr style=\"text-align: right;\">\n",
       "      <th></th>\n",
       "      <th>gender</th>\n",
       "      <th>age</th>\n",
       "      <th>occupation</th>\n",
       "      <th>interest</th>\n",
       "      <th>purchase</th>\n",
       "      <th>products</th>\n",
       "      <th>money_spent</th>\n",
       "      <th>fashion_segments</th>\n",
       "      <th>customer_decision:_price</th>\n",
       "      <th>customer_decision:_style</th>\n",
       "      <th>customer_decision:_quality</th>\n",
       "      <th>customer_decision:_brand</th>\n",
       "      <th>customer_decision:_comfort</th>\n",
       "      <th>customer_decision:_sustainability</th>\n",
       "      <th>brand_familiarity:_ausweichoption_(negativ)_oder_anzahl_ausgewählter_optionen</th>\n",
       "      <th>brand_familiarity:_zara</th>\n",
       "      <th>brand_familiarity:_h&amp;m</th>\n",
       "      <th>brand_familiarity:_adidas</th>\n",
       "      <th>brand_familiarity:_patagonia</th>\n",
       "      <th>brand_familiarity:_uniqlo</th>\n",
       "      <th>brand_familiarity:_weekday</th>\n",
       "      <th>brand_familiarity:_all_of_them</th>\n",
       "      <th>interest.1</th>\n",
       "      <th>industries</th>\n",
       "      <th>information</th>\n",
       "      <th>price_relevance</th>\n",
       "      <th>price_readiness</th>\n",
       "      <th>sustainable_option</th>\n",
       "      <th>transparency</th>\n",
       "      <th>recycle_:_ausweichoption_(negativ)_oder_anzahl_ausgewählter_optionen</th>\n",
       "      <th>recycle_:_recycling/upcycling_of_clothing</th>\n",
       "      <th>recycle_:_purchasing_second-hand/vintage_clothing</th>\n",
       "      <th>recycle_:_purchasing_sustainable_clothing</th>\n",
       "      <th>recycle_:_none</th>\n",
       "      <th>preference</th>\n",
       "      <th>budget</th>\n",
       "      <th>&amp;</th>\n",
       "      <th>(colombia)</th>\n",
       "      <th>a</th>\n",
       "      <th>adaysmarch</th>\n",
       "      <th>adidas</th>\n",
       "      <th>alohas</th>\n",
       "      <th>angels</th>\n",
       "      <th>anthropology</th>\n",
       "      <th>aritzia</th>\n",
       "      <th>arket</th>\n",
       "      <th>armed</th>\n",
       "      <th>asket</th>\n",
       "      <th>avocadostore</th>\n",
       "      <th>balance</th>\n",
       "      <th>basics</th>\n",
       "      <th>bear</th>\n",
       "      <th>bershka</th>\n",
       "      <th>blue</th>\n",
       "      <th>boss</th>\n",
       "      <th>breaker</th>\n",
       "      <th>carla</th>\n",
       "      <th>cocccinelli</th>\n",
       "      <th>columbia</th>\n",
       "      <th>converse</th>\n",
       "      <th>declathon</th>\n",
       "      <th>earth</th>\n",
       "      <th>ecoalf</th>\n",
       "      <th>ecoology</th>\n",
       "      <th>el</th>\n",
       "      <th>express</th>\n",
       "      <th>faced</th>\n",
       "      <th>fernandez</th>\n",
       "      <th>focus</th>\n",
       "      <th>focus-green</th>\n",
       "      <th>gap</th>\n",
       "      <th>green</th>\n",
       "      <th>h&amp;m</th>\n",
       "      <th>hessnatur</th>\n",
       "      <th>hibuy</th>\n",
       "      <th>holymeshq</th>\n",
       "      <th>humana</th>\n",
       "      <th>ice</th>\n",
       "      <th>jcrew</th>\n",
       "      <th>less</th>\n",
       "      <th>levis</th>\n",
       "      <th>lista</th>\n",
       "      <th>lot</th>\n",
       "      <th>maje</th>\n",
       "      <th>mango</th>\n",
       "      <th>mara</th>\n",
       "      <th>max</th>\n",
       "      <th>na</th>\n",
       "      <th>natura</th>\n",
       "      <th>navy</th>\n",
       "      <th>new</th>\n",
       "      <th>nike</th>\n",
       "      <th>none</th>\n",
       "      <th>occitane</th>\n",
       "      <th>old</th>\n",
       "      <th>organic</th>\n",
       "      <th>other</th>\n",
       "      <th>patagonia</th>\n",
       "      <th>polo</th>\n",
       "      <th>positive</th>\n",
       "      <th>pull</th>\n",
       "      <th>puma</th>\n",
       "      <th>quicksilver</th>\n",
       "      <th>reformation</th>\n",
       "      <th>resales</th>\n",
       "      <th>rothys</th>\n",
       "      <th>seven</th>\n",
       "      <th>shaping</th>\n",
       "      <th>shoes</th>\n",
       "      <th>tesla</th>\n",
       "      <th>the</th>\n",
       "      <th>timbaland</th>\n",
       "      <th>timberland</th>\n",
       "      <th>tommy</th>\n",
       "      <th>tomorrow</th>\n",
       "      <th>toms</th>\n",
       "      <th>too</th>\n",
       "      <th>underarmour</th>\n",
       "      <th>vegan</th>\n",
       "      <th>veja</th>\n",
       "      <th>waschbär</th>\n",
       "      <th>will's</th>\n",
       "    </tr>\n",
       "  </thead>\n",
       "  <tbody>\n",
       "    <tr>\n",
       "      <th>0</th>\n",
       "      <td>0.015</td>\n",
       "      <td>0.021</td>\n",
       "      <td>0.023</td>\n",
       "      <td>0.01</td>\n",
       "      <td>0.017</td>\n",
       "      <td>0.034</td>\n",
       "      <td>0.021</td>\n",
       "      <td>0.038</td>\n",
       "      <td>0.028</td>\n",
       "      <td>0.023</td>\n",
       "      <td>0.03</td>\n",
       "      <td>0.025</td>\n",
       "      <td>0.034</td>\n",
       "      <td>0.046</td>\n",
       "      <td>0.028</td>\n",
       "      <td>0.008</td>\n",
       "      <td>0.008</td>\n",
       "      <td>0.009</td>\n",
       "      <td>0.012</td>\n",
       "      <td>0.018</td>\n",
       "      <td>0.002</td>\n",
       "      <td>0.004</td>\n",
       "      <td>0.038</td>\n",
       "      <td>0.052</td>\n",
       "      <td>0.013</td>\n",
       "      <td>0.033</td>\n",
       "      <td>0.146</td>\n",
       "      <td>0.03</td>\n",
       "      <td>0.018</td>\n",
       "      <td>0.013</td>\n",
       "      <td>0.015</td>\n",
       "      <td>0.015</td>\n",
       "      <td>0.017</td>\n",
       "      <td>0.038</td>\n",
       "      <td>0.025</td>\n",
       "      <td>0.003</td>\n",
       "      <td>0.0</td>\n",
       "      <td>0.0</td>\n",
       "      <td>0.0</td>\n",
       "      <td>0.001</td>\n",
       "      <td>0.003</td>\n",
       "      <td>0.0</td>\n",
       "      <td>0.0</td>\n",
       "      <td>0.0</td>\n",
       "      <td>0.0</td>\n",
       "      <td>0.0</td>\n",
       "      <td>0.0</td>\n",
       "      <td>0.0</td>\n",
       "      <td>0.0</td>\n",
       "      <td>0.0</td>\n",
       "      <td>0.003</td>\n",
       "      <td>0.001</td>\n",
       "      <td>0.0</td>\n",
       "      <td>0.001</td>\n",
       "      <td>0.0</td>\n",
       "      <td>0.0</td>\n",
       "      <td>0.001</td>\n",
       "      <td>0.01</td>\n",
       "      <td>0.0</td>\n",
       "      <td>0.0</td>\n",
       "      <td>0.0</td>\n",
       "      <td>0.0</td>\n",
       "      <td>0.0</td>\n",
       "      <td>0.0</td>\n",
       "      <td>0.0</td>\n",
       "      <td>0.001</td>\n",
       "      <td>0.0</td>\n",
       "      <td>0.0</td>\n",
       "      <td>0.001</td>\n",
       "      <td>0.005</td>\n",
       "      <td>0.0</td>\n",
       "      <td>0.004</td>\n",
       "      <td>0.0</td>\n",
       "      <td>0.013</td>\n",
       "      <td>0.003</td>\n",
       "      <td>0.0</td>\n",
       "      <td>0.0</td>\n",
       "      <td>0.0</td>\n",
       "      <td>0.0</td>\n",
       "      <td>0.002</td>\n",
       "      <td>0.0</td>\n",
       "      <td>0.0</td>\n",
       "      <td>0.0</td>\n",
       "      <td>0.0</td>\n",
       "      <td>0.007</td>\n",
       "      <td>0.002</td>\n",
       "      <td>0.0</td>\n",
       "      <td>0.0</td>\n",
       "      <td>0.0</td>\n",
       "      <td>0.0</td>\n",
       "      <td>0.003</td>\n",
       "      <td>0.0</td>\n",
       "      <td>0.0</td>\n",
       "      <td>0.0</td>\n",
       "      <td>0.0</td>\n",
       "      <td>0.011</td>\n",
       "      <td>0.001</td>\n",
       "      <td>0.0</td>\n",
       "      <td>0.0</td>\n",
       "      <td>0.006</td>\n",
       "      <td>0.0</td>\n",
       "      <td>0.0</td>\n",
       "      <td>0.0</td>\n",
       "      <td>0.0</td>\n",
       "      <td>0.0</td>\n",
       "      <td>0.0</td>\n",
       "      <td>0.0</td>\n",
       "      <td>0.0</td>\n",
       "      <td>0.0</td>\n",
       "      <td>0.0</td>\n",
       "      <td>0.0</td>\n",
       "      <td>0.0</td>\n",
       "      <td>0.0</td>\n",
       "      <td>0.0</td>\n",
       "      <td>0.0</td>\n",
       "      <td>0.0</td>\n",
       "      <td>0.0</td>\n",
       "      <td>0.0</td>\n",
       "      <td>0.0</td>\n",
       "      <td>0.0</td>\n",
       "      <td>0.0</td>\n",
       "      <td>0.003</td>\n",
       "    </tr>\n",
       "  </tbody>\n",
       "</table>\n",
       "</div>"
      ],
      "text/plain": [
       "   gender    age  occupation  interest  purchase  products  money_spent  \\\n",
       "0   0.015  0.021       0.023      0.01     0.017     0.034        0.021   \n",
       "\n",
       "   fashion_segments  customer_decision:_price  customer_decision:_style  \\\n",
       "0             0.038                     0.028                     0.023   \n",
       "\n",
       "   customer_decision:_quality  customer_decision:_brand  \\\n",
       "0                        0.03                     0.025   \n",
       "\n",
       "   customer_decision:_comfort  customer_decision:_sustainability  \\\n",
       "0                       0.034                              0.046   \n",
       "\n",
       "   brand_familiarity:_ausweichoption_(negativ)_oder_anzahl_ausgewählter_optionen  \\\n",
       "0                                              0.028                               \n",
       "\n",
       "   brand_familiarity:_zara  brand_familiarity:_h&m  brand_familiarity:_adidas  \\\n",
       "0                    0.008                   0.008                      0.009   \n",
       "\n",
       "   brand_familiarity:_patagonia  brand_familiarity:_uniqlo  \\\n",
       "0                         0.012                      0.018   \n",
       "\n",
       "   brand_familiarity:_weekday  brand_familiarity:_all_of_them  interest.1  \\\n",
       "0                       0.002                           0.004       0.038   \n",
       "\n",
       "   industries  information  price_relevance  price_readiness  \\\n",
       "0       0.052        0.013            0.033            0.146   \n",
       "\n",
       "   sustainable_option  transparency  \\\n",
       "0                0.03         0.018   \n",
       "\n",
       "   recycle_:_ausweichoption_(negativ)_oder_anzahl_ausgewählter_optionen  \\\n",
       "0                                              0.013                      \n",
       "\n",
       "   recycle_:_recycling/upcycling_of_clothing  \\\n",
       "0                                      0.015   \n",
       "\n",
       "   recycle_:_purchasing_second-hand/vintage_clothing  \\\n",
       "0                                              0.015   \n",
       "\n",
       "   recycle_:_purchasing_sustainable_clothing  recycle_:_none  preference  \\\n",
       "0                                      0.017           0.038       0.025   \n",
       "\n",
       "   budget    &  (colombia)    a  adaysmarch  adidas  alohas  angels  \\\n",
       "0   0.003  0.0         0.0  0.0       0.001   0.003     0.0     0.0   \n",
       "\n",
       "   anthropology  aritzia  arket  armed  asket  avocadostore  balance  basics  \\\n",
       "0           0.0      0.0    0.0    0.0    0.0           0.0      0.0   0.003   \n",
       "\n",
       "    bear  bershka   blue  boss  breaker  carla  cocccinelli  columbia  \\\n",
       "0  0.001      0.0  0.001   0.0      0.0  0.001         0.01       0.0   \n",
       "\n",
       "   converse  declathon  earth  ecoalf  ecoology   el  express  faced  \\\n",
       "0       0.0        0.0    0.0     0.0       0.0  0.0    0.001    0.0   \n",
       "\n",
       "   fernandez  focus  focus-green  gap  green  h&m  hessnatur  hibuy  \\\n",
       "0        0.0  0.001        0.005  0.0  0.004  0.0      0.013  0.003   \n",
       "\n",
       "   holymeshq  humana  ice  jcrew   less  levis  lista  lot  maje  mango  \\\n",
       "0        0.0     0.0  0.0    0.0  0.002    0.0    0.0  0.0   0.0  0.007   \n",
       "\n",
       "    mara  max   na  natura  navy    new  nike  none  occitane  old  organic  \\\n",
       "0  0.002  0.0  0.0     0.0   0.0  0.003   0.0   0.0       0.0  0.0    0.011   \n",
       "\n",
       "   other  patagonia  polo  positive  pull  puma  quicksilver  reformation  \\\n",
       "0  0.001        0.0   0.0     0.006   0.0   0.0          0.0          0.0   \n",
       "\n",
       "   resales  rothys  seven  shaping  shoes  tesla  the  timbaland  timberland  \\\n",
       "0      0.0     0.0    0.0      0.0    0.0    0.0  0.0        0.0         0.0   \n",
       "\n",
       "   tommy  tomorrow  toms  too  underarmour  vegan  veja  waschbär  will's  \n",
       "0    0.0       0.0   0.0  0.0          0.0    0.0   0.0       0.0   0.003  "
      ]
     },
     "execution_count": 44,
     "metadata": {},
     "output_type": "execute_result"
    }
   ],
   "source": [
    "pd.DataFrame(dict(zip(data.columns, feature_importances)), index=[0])"
   ]
  },
  {
   "cell_type": "markdown",
   "id": "b38c03a7-8f58-4b8c-9453-d0bb6a1b9532",
   "metadata": {},
   "source": [
    "<font color='purple' size=5,5> KNN"
   ]
  },
  {
   "cell_type": "code",
   "execution_count": 46,
   "id": "a587abdf-bd76-4152-a489-d93907617525",
   "metadata": {},
   "outputs": [
    {
     "data": {
      "text/plain": [
       "KNeighborsClassifier(n_neighbors=4)"
      ]
     },
     "execution_count": 46,
     "metadata": {},
     "output_type": "execute_result"
    }
   ],
   "source": [
    "model = KNeighborsClassifier(n_neighbors=4)\n",
    "model.fit(X_train, y_train)"
   ]
  },
  {
   "cell_type": "code",
   "execution_count": 47,
   "id": "c135168f-d629-4dbd-a7f3-eec9f3f4d448",
   "metadata": {},
   "outputs": [
    {
     "name": "stderr",
     "output_type": "stream",
     "text": [
      "C:\\Users\\EB725YF\\Anaconda\\lib\\site-packages\\sklearn\\neighbors\\_classification.py:228: FutureWarning:\n",
      "\n",
      "Unlike other reduction functions (e.g. `skew`, `kurtosis`), the default behavior of `mode` typically preserves the axis it acts along. In SciPy 1.11.0, this behavior will change: the default value of `keepdims` will become False, the `axis` over which the statistic is taken will be eliminated, and the value None will no longer be accepted. Set `keepdims` to True or False to avoid this warning.\n",
      "\n",
      "C:\\Users\\EB725YF\\Anaconda\\lib\\site-packages\\sklearn\\neighbors\\_classification.py:228: FutureWarning:\n",
      "\n",
      "Unlike other reduction functions (e.g. `skew`, `kurtosis`), the default behavior of `mode` typically preserves the axis it acts along. In SciPy 1.11.0, this behavior will change: the default value of `keepdims` will become False, the `axis` over which the statistic is taken will be eliminated, and the value None will no longer be accepted. Set `keepdims` to True or False to avoid this warning.\n",
      "\n"
     ]
    }
   ],
   "source": [
    "predictions = model.predict(X_test)\n",
    "score_knn = model.score(X_test, y_test)"
   ]
  },
  {
   "cell_type": "code",
   "execution_count": 48,
   "id": "76959e99-82a1-4bb6-81ce-7115c897843f",
   "metadata": {},
   "outputs": [
    {
     "data": {
      "text/plain": [
       "0.9512195121951219"
      ]
     },
     "execution_count": 48,
     "metadata": {},
     "output_type": "execute_result"
    }
   ],
   "source": [
    "score_knn"
   ]
  },
  {
   "cell_type": "markdown",
   "id": "6904eaf5-7edb-496c-ad14-4e4c85ab000c",
   "metadata": {},
   "source": [
    "<font color='purple' size=5,5> Logistic Regression"
   ]
  },
  {
   "cell_type": "code",
   "execution_count": 49,
   "id": "f3fd617b-0b7b-43bc-b4cf-60934953d21d",
   "metadata": {},
   "outputs": [],
   "source": [
    "classification = LogisticRegression(random_state=0, solver='lbfgs',\n",
    "                  multi_class='multinomial', max_iter=500).fit(X_train, y_train)\n",
    "predictions = classification.predict(X_test)"
   ]
  },
  {
   "cell_type": "code",
   "execution_count": 50,
   "id": "88ffa508-fd7c-4bbc-9e0b-6734f2a0d5e9",
   "metadata": {
    "tags": []
   },
   "outputs": [
    {
     "data": {
      "text/plain": [
       "0.9024390243902439"
      ]
     },
     "execution_count": 50,
     "metadata": {},
     "output_type": "execute_result"
    }
   ],
   "source": [
    "classification.score(X_test, y_test)"
   ]
  },
  {
   "cell_type": "code",
   "execution_count": null,
   "id": "a33fcae3-dc0e-4711-8417-b37e246d87e2",
   "metadata": {},
   "outputs": [],
   "source": []
  }
 ],
 "metadata": {
  "kernelspec": {
   "display_name": "Python 3 (ipykernel)",
   "language": "python",
   "name": "python3"
  },
  "language_info": {
   "codemirror_mode": {
    "name": "ipython",
    "version": 3
   },
   "file_extension": ".py",
   "mimetype": "text/x-python",
   "name": "python",
   "nbconvert_exporter": "python",
   "pygments_lexer": "ipython3",
   "version": "3.9.13"
  }
 },
 "nbformat": 4,
 "nbformat_minor": 5
}
