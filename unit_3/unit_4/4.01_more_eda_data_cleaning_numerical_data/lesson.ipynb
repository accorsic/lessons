{
 "cells": [
  {
   "cell_type": "markdown",
   "metadata": {},
   "source": [
    "# Lesson 4.1: Linear Regression - Case Study Intro - & Exploratory Data Analysis\n",
    "\n",
    "### Lesson Duration: 3 hours\n",
    "\n",
    "> Purpose: The purpose of this lesson is to revisit the _linear regression_ case study we looked at in the first unit but with a larger dataset. We will dive deeper into the _exploratory data analysis_ process for numerical variables, to identify the data cleaning and some data processing operations we would perform.\n",
    "\n",
    "---\n",
    "\n",
    "> **Case Study: [Healthcare for all](files_for_lesson_and_activities/unit4_case_study.md)**\n",
    "\n",
    "### Setup\n",
    "\n",
    "- All previous set up\n",
    "\n",
    "### Learning Objectives\n",
    "\n",
    "After this lesson, students will be able to:\n",
    "\n",
    "- Translate the business problem into Data Analysis tasks (using linear regression)\n",
    "- Conduct Exploratory Data Analysis (_EDA_) to understand the nature of available data\n",
    "- Identify data cleaning and data processing operations on **numerical** variables\n",
    "\n",
    "---\n",
    "\n",
    "### Lesson 1 key concepts\n",
    "\n",
    "> :clock10: 20 min\n",
    "\n",
    "- Introduce the business problem again (this time the data has more features and rows)\n",
    "- Checking numerical and categorical variables and correcting data types\n",
    "- Conduct exploratory data analysis ( `EDA` ) - 1\n",
    "\n",
    "      - Analyze numerical variables\n",
    "      - Identify the changes to be made\n",
    "\n",
    "\n",
    "Code Sample: Importing data"
   ]
  },
  {
   "cell_type": "code",
   "execution_count": 1,
   "metadata": {},
   "outputs": [],
   "source": [
    "#importing libraries\n",
    "import pandas as pd\n",
    "import numpy as np\n",
    "import datetime\n",
    "import warnings\n",
    "\n",
    "warnings.filterwarnings('ignore')\n",
    "warnings.filterwarnings(\"ignore\", message=\"numpy.ufunc size changed\")\n",
    "\n",
    "import matplotlib.pyplot as plt\n",
    "import seaborn as sns\n",
    "%matplotlib inline\n",
    "\n",
    "pd.set_option('display.max_columns', None)"
   ]
  },
  {
   "cell_type": "code",
   "execution_count": 2,
   "metadata": {},
   "outputs": [
    {
     "data": {
      "text/html": [
       "<div>\n",
       "<style scoped>\n",
       "    .dataframe tbody tr th:only-of-type {\n",
       "        vertical-align: middle;\n",
       "    }\n",
       "\n",
       "    .dataframe tbody tr th {\n",
       "        vertical-align: top;\n",
       "    }\n",
       "\n",
       "    .dataframe thead th {\n",
       "        text-align: right;\n",
       "    }\n",
       "</style>\n",
       "<table border=\"1\" class=\"dataframe\">\n",
       "  <thead>\n",
       "    <tr style=\"text-align: right;\">\n",
       "      <th></th>\n",
       "      <th>Unnamed: 0</th>\n",
       "      <th>STATE</th>\n",
       "      <th>PVASTATE</th>\n",
       "      <th>DOB</th>\n",
       "      <th>MDMAUD</th>\n",
       "      <th>RECP3</th>\n",
       "      <th>GENDER</th>\n",
       "      <th>DOMAIN</th>\n",
       "      <th>INCOME</th>\n",
       "      <th>HOMEOWNR</th>\n",
       "      <th>HV1</th>\n",
       "      <th>HV2</th>\n",
       "      <th>HV3</th>\n",
       "      <th>HV4</th>\n",
       "      <th>IC1</th>\n",
       "      <th>IC2</th>\n",
       "      <th>IC3</th>\n",
       "      <th>IC4</th>\n",
       "      <th>IC5</th>\n",
       "      <th>VETERANS</th>\n",
       "      <th>NUMPROM</th>\n",
       "      <th>CARDPROM</th>\n",
       "      <th>CARDPM12</th>\n",
       "      <th>NUMPRM12</th>\n",
       "      <th>MAXADATE</th>\n",
       "      <th>RFA_2</th>\n",
       "      <th>NGIFTALL</th>\n",
       "      <th>TIMELAG</th>\n",
       "      <th>AVGGIFT</th>\n",
       "    </tr>\n",
       "  </thead>\n",
       "  <tbody>\n",
       "    <tr>\n",
       "      <th>0</th>\n",
       "      <td>0</td>\n",
       "      <td>IL</td>\n",
       "      <td>NaN</td>\n",
       "      <td>3712</td>\n",
       "      <td>XXXX</td>\n",
       "      <td>NaN</td>\n",
       "      <td>F</td>\n",
       "      <td>T2</td>\n",
       "      <td>NaN</td>\n",
       "      <td>NaN</td>\n",
       "      <td>479</td>\n",
       "      <td>635</td>\n",
       "      <td>3</td>\n",
       "      <td>2</td>\n",
       "      <td>307</td>\n",
       "      <td>318</td>\n",
       "      <td>349</td>\n",
       "      <td>378</td>\n",
       "      <td>12883</td>\n",
       "      <td>NaN</td>\n",
       "      <td>74</td>\n",
       "      <td>27</td>\n",
       "      <td>6</td>\n",
       "      <td>14</td>\n",
       "      <td>9702</td>\n",
       "      <td>L4E</td>\n",
       "      <td>31</td>\n",
       "      <td>4.0</td>\n",
       "      <td>7.741935</td>\n",
       "    </tr>\n",
       "    <tr>\n",
       "      <th>1</th>\n",
       "      <td>1</td>\n",
       "      <td>CA</td>\n",
       "      <td>NaN</td>\n",
       "      <td>5202</td>\n",
       "      <td>XXXX</td>\n",
       "      <td>NaN</td>\n",
       "      <td>M</td>\n",
       "      <td>S1</td>\n",
       "      <td>6.0</td>\n",
       "      <td>H</td>\n",
       "      <td>5468</td>\n",
       "      <td>5218</td>\n",
       "      <td>12</td>\n",
       "      <td>10</td>\n",
       "      <td>1088</td>\n",
       "      <td>1096</td>\n",
       "      <td>1026</td>\n",
       "      <td>1037</td>\n",
       "      <td>36175</td>\n",
       "      <td>NaN</td>\n",
       "      <td>32</td>\n",
       "      <td>12</td>\n",
       "      <td>6</td>\n",
       "      <td>13</td>\n",
       "      <td>9702</td>\n",
       "      <td>L2G</td>\n",
       "      <td>3</td>\n",
       "      <td>18.0</td>\n",
       "      <td>15.666667</td>\n",
       "    </tr>\n",
       "  </tbody>\n",
       "</table>\n",
       "</div>"
      ],
      "text/plain": [
       "   Unnamed: 0 STATE PVASTATE   DOB MDMAUD RECP3 GENDER DOMAIN  INCOME  \\\n",
       "0           0    IL      NaN  3712   XXXX   NaN      F     T2     NaN   \n",
       "1           1    CA      NaN  5202   XXXX   NaN      M     S1     6.0   \n",
       "\n",
       "  HOMEOWNR   HV1   HV2  HV3  HV4   IC1   IC2   IC3   IC4    IC5 VETERANS  \\\n",
       "0      NaN   479   635    3    2   307   318   349   378  12883      NaN   \n",
       "1        H  5468  5218   12   10  1088  1096  1026  1037  36175      NaN   \n",
       "\n",
       "   NUMPROM  CARDPROM  CARDPM12  NUMPRM12  MAXADATE RFA_2  NGIFTALL  TIMELAG  \\\n",
       "0       74        27         6        14      9702   L4E        31      4.0   \n",
       "1       32        12         6        13      9702   L2G         3     18.0   \n",
       "\n",
       "     AVGGIFT  \n",
       "0   7.741935  \n",
       "1  15.666667  "
      ]
     },
     "execution_count": 2,
     "metadata": {},
     "output_type": "execute_result"
    }
   ],
   "source": [
    "#importing data\n",
    "data = pd.read_csv('./files_for_lesson_and_activities/unit4.csv') # this file is in files_for_lesson_and_activities folder\n",
    "data.head(2)"
   ]
  },
  {
   "cell_type": "code",
   "execution_count": 3,
   "metadata": {},
   "outputs": [
    {
     "data": {
      "text/plain": [
       "(90569, 29)"
      ]
     },
     "execution_count": 3,
     "metadata": {},
     "output_type": "execute_result"
    }
   ],
   "source": [
    "data.shape"
   ]
  },
  {
   "cell_type": "code",
   "execution_count": 4,
   "metadata": {},
   "outputs": [],
   "source": [
    "# Checking for null values\n",
    "nulls = pd.DataFrame(data.isna().sum()/len(data))"
   ]
  },
  {
   "cell_type": "code",
   "execution_count": 5,
   "metadata": {},
   "outputs": [
    {
     "data": {
      "text/html": [
       "<div>\n",
       "<style scoped>\n",
       "    .dataframe tbody tr th:only-of-type {\n",
       "        vertical-align: middle;\n",
       "    }\n",
       "\n",
       "    .dataframe tbody tr th {\n",
       "        vertical-align: top;\n",
       "    }\n",
       "\n",
       "    .dataframe thead th {\n",
       "        text-align: right;\n",
       "    }\n",
       "</style>\n",
       "<table border=\"1\" class=\"dataframe\">\n",
       "  <thead>\n",
       "    <tr style=\"text-align: right;\">\n",
       "      <th></th>\n",
       "      <th>column_name</th>\n",
       "      <th>Percentage Null Values</th>\n",
       "    </tr>\n",
       "  </thead>\n",
       "  <tbody>\n",
       "    <tr>\n",
       "      <th>2</th>\n",
       "      <td>PVASTATE</td>\n",
       "      <td>0.984708</td>\n",
       "    </tr>\n",
       "    <tr>\n",
       "      <th>5</th>\n",
       "      <td>RECP3</td>\n",
       "      <td>0.979761</td>\n",
       "    </tr>\n",
       "    <tr>\n",
       "      <th>19</th>\n",
       "      <td>VETERANS</td>\n",
       "      <td>0.891287</td>\n",
       "    </tr>\n",
       "    <tr>\n",
       "      <th>9</th>\n",
       "      <td>HOMEOWNR</td>\n",
       "      <td>0.232431</td>\n",
       "    </tr>\n",
       "    <tr>\n",
       "      <th>8</th>\n",
       "      <td>INCOME</td>\n",
       "      <td>0.222847</td>\n",
       "    </tr>\n",
       "    <tr>\n",
       "      <th>27</th>\n",
       "      <td>TIMELAG</td>\n",
       "      <td>0.106582</td>\n",
       "    </tr>\n",
       "    <tr>\n",
       "      <th>6</th>\n",
       "      <td>GENDER</td>\n",
       "      <td>0.030860</td>\n",
       "    </tr>\n",
       "    <tr>\n",
       "      <th>7</th>\n",
       "      <td>DOMAIN</td>\n",
       "      <td>0.024026</td>\n",
       "    </tr>\n",
       "    <tr>\n",
       "      <th>26</th>\n",
       "      <td>NGIFTALL</td>\n",
       "      <td>0.000000</td>\n",
       "    </tr>\n",
       "    <tr>\n",
       "      <th>18</th>\n",
       "      <td>IC5</td>\n",
       "      <td>0.000000</td>\n",
       "    </tr>\n",
       "    <tr>\n",
       "      <th>25</th>\n",
       "      <td>RFA_2</td>\n",
       "      <td>0.000000</td>\n",
       "    </tr>\n",
       "    <tr>\n",
       "      <th>24</th>\n",
       "      <td>MAXADATE</td>\n",
       "      <td>0.000000</td>\n",
       "    </tr>\n",
       "    <tr>\n",
       "      <th>23</th>\n",
       "      <td>NUMPRM12</td>\n",
       "      <td>0.000000</td>\n",
       "    </tr>\n",
       "    <tr>\n",
       "      <th>22</th>\n",
       "      <td>CARDPM12</td>\n",
       "      <td>0.000000</td>\n",
       "    </tr>\n",
       "    <tr>\n",
       "      <th>21</th>\n",
       "      <td>CARDPROM</td>\n",
       "      <td>0.000000</td>\n",
       "    </tr>\n",
       "    <tr>\n",
       "      <th>20</th>\n",
       "      <td>NUMPROM</td>\n",
       "      <td>0.000000</td>\n",
       "    </tr>\n",
       "    <tr>\n",
       "      <th>0</th>\n",
       "      <td>Unnamed: 0</td>\n",
       "      <td>0.000000</td>\n",
       "    </tr>\n",
       "    <tr>\n",
       "      <th>14</th>\n",
       "      <td>IC1</td>\n",
       "      <td>0.000000</td>\n",
       "    </tr>\n",
       "    <tr>\n",
       "      <th>17</th>\n",
       "      <td>IC4</td>\n",
       "      <td>0.000000</td>\n",
       "    </tr>\n",
       "    <tr>\n",
       "      <th>16</th>\n",
       "      <td>IC3</td>\n",
       "      <td>0.000000</td>\n",
       "    </tr>\n",
       "    <tr>\n",
       "      <th>15</th>\n",
       "      <td>IC2</td>\n",
       "      <td>0.000000</td>\n",
       "    </tr>\n",
       "    <tr>\n",
       "      <th>1</th>\n",
       "      <td>STATE</td>\n",
       "      <td>0.000000</td>\n",
       "    </tr>\n",
       "    <tr>\n",
       "      <th>13</th>\n",
       "      <td>HV4</td>\n",
       "      <td>0.000000</td>\n",
       "    </tr>\n",
       "    <tr>\n",
       "      <th>12</th>\n",
       "      <td>HV3</td>\n",
       "      <td>0.000000</td>\n",
       "    </tr>\n",
       "    <tr>\n",
       "      <th>11</th>\n",
       "      <td>HV2</td>\n",
       "      <td>0.000000</td>\n",
       "    </tr>\n",
       "    <tr>\n",
       "      <th>10</th>\n",
       "      <td>HV1</td>\n",
       "      <td>0.000000</td>\n",
       "    </tr>\n",
       "    <tr>\n",
       "      <th>4</th>\n",
       "      <td>MDMAUD</td>\n",
       "      <td>0.000000</td>\n",
       "    </tr>\n",
       "    <tr>\n",
       "      <th>3</th>\n",
       "      <td>DOB</td>\n",
       "      <td>0.000000</td>\n",
       "    </tr>\n",
       "    <tr>\n",
       "      <th>28</th>\n",
       "      <td>AVGGIFT</td>\n",
       "      <td>0.000000</td>\n",
       "    </tr>\n",
       "  </tbody>\n",
       "</table>\n",
       "</div>"
      ],
      "text/plain": [
       "   column_name  Percentage Null Values\n",
       "2     PVASTATE                0.984708\n",
       "5        RECP3                0.979761\n",
       "19    VETERANS                0.891287\n",
       "9     HOMEOWNR                0.232431\n",
       "8       INCOME                0.222847\n",
       "27     TIMELAG                0.106582\n",
       "6       GENDER                0.030860\n",
       "7       DOMAIN                0.024026\n",
       "26    NGIFTALL                0.000000\n",
       "18         IC5                0.000000\n",
       "25       RFA_2                0.000000\n",
       "24    MAXADATE                0.000000\n",
       "23    NUMPRM12                0.000000\n",
       "22    CARDPM12                0.000000\n",
       "21    CARDPROM                0.000000\n",
       "20     NUMPROM                0.000000\n",
       "0   Unnamed: 0                0.000000\n",
       "14         IC1                0.000000\n",
       "17         IC4                0.000000\n",
       "16         IC3                0.000000\n",
       "15         IC2                0.000000\n",
       "1        STATE                0.000000\n",
       "13         HV4                0.000000\n",
       "12         HV3                0.000000\n",
       "11         HV2                0.000000\n",
       "10         HV1                0.000000\n",
       "4       MDMAUD                0.000000\n",
       "3          DOB                0.000000\n",
       "28     AVGGIFT                0.000000"
      ]
     },
     "execution_count": 5,
     "metadata": {},
     "output_type": "execute_result"
    }
   ],
   "source": [
    "nulls.columns = ['column_name', 'Percentage Null Values']\n",
    "nulls.sort_values(by='Percentage Null Values', ascending = False)"
   ]
  },
  {
   "cell_type": "code",
   "execution_count": 6,
   "metadata": {},
   "outputs": [
    {
     "data": {
      "text/html": [
       "<div>\n",
       "<style scoped>\n",
       "    .dataframe tbody tr th:only-of-type {\n",
       "        vertical-align: middle;\n",
       "    }\n",
       "\n",
       "    .dataframe tbody tr th {\n",
       "        vertical-align: top;\n",
       "    }\n",
       "\n",
       "    .dataframe thead th {\n",
       "        text-align: right;\n",
       "    }\n",
       "</style>\n",
       "<table border=\"1\" class=\"dataframe\">\n",
       "  <thead>\n",
       "    <tr style=\"text-align: right;\">\n",
       "      <th></th>\n",
       "      <th>Unnamed: 0</th>\n",
       "      <th>DOB</th>\n",
       "      <th>INCOME</th>\n",
       "      <th>HV1</th>\n",
       "      <th>HV2</th>\n",
       "      <th>HV3</th>\n",
       "      <th>HV4</th>\n",
       "      <th>IC1</th>\n",
       "      <th>IC2</th>\n",
       "      <th>IC3</th>\n",
       "      <th>IC4</th>\n",
       "      <th>IC5</th>\n",
       "      <th>NUMPROM</th>\n",
       "      <th>CARDPROM</th>\n",
       "      <th>CARDPM12</th>\n",
       "      <th>NUMPRM12</th>\n",
       "      <th>MAXADATE</th>\n",
       "      <th>NGIFTALL</th>\n",
       "      <th>TIMELAG</th>\n",
       "      <th>AVGGIFT</th>\n",
       "    </tr>\n",
       "  </thead>\n",
       "  <tbody>\n",
       "    <tr>\n",
       "      <th>0</th>\n",
       "      <td>0</td>\n",
       "      <td>3712</td>\n",
       "      <td>NaN</td>\n",
       "      <td>479</td>\n",
       "      <td>635</td>\n",
       "      <td>3</td>\n",
       "      <td>2</td>\n",
       "      <td>307</td>\n",
       "      <td>318</td>\n",
       "      <td>349</td>\n",
       "      <td>378</td>\n",
       "      <td>12883</td>\n",
       "      <td>74</td>\n",
       "      <td>27</td>\n",
       "      <td>6</td>\n",
       "      <td>14</td>\n",
       "      <td>9702</td>\n",
       "      <td>31</td>\n",
       "      <td>4.0</td>\n",
       "      <td>7.741935</td>\n",
       "    </tr>\n",
       "    <tr>\n",
       "      <th>1</th>\n",
       "      <td>1</td>\n",
       "      <td>5202</td>\n",
       "      <td>6.0</td>\n",
       "      <td>5468</td>\n",
       "      <td>5218</td>\n",
       "      <td>12</td>\n",
       "      <td>10</td>\n",
       "      <td>1088</td>\n",
       "      <td>1096</td>\n",
       "      <td>1026</td>\n",
       "      <td>1037</td>\n",
       "      <td>36175</td>\n",
       "      <td>32</td>\n",
       "      <td>12</td>\n",
       "      <td>6</td>\n",
       "      <td>13</td>\n",
       "      <td>9702</td>\n",
       "      <td>3</td>\n",
       "      <td>18.0</td>\n",
       "      <td>15.666667</td>\n",
       "    </tr>\n",
       "    <tr>\n",
       "      <th>2</th>\n",
       "      <td>2</td>\n",
       "      <td>0</td>\n",
       "      <td>3.0</td>\n",
       "      <td>497</td>\n",
       "      <td>546</td>\n",
       "      <td>2</td>\n",
       "      <td>1</td>\n",
       "      <td>251</td>\n",
       "      <td>292</td>\n",
       "      <td>292</td>\n",
       "      <td>340</td>\n",
       "      <td>11576</td>\n",
       "      <td>63</td>\n",
       "      <td>26</td>\n",
       "      <td>6</td>\n",
       "      <td>14</td>\n",
       "      <td>9702</td>\n",
       "      <td>27</td>\n",
       "      <td>12.0</td>\n",
       "      <td>7.481481</td>\n",
       "    </tr>\n",
       "  </tbody>\n",
       "</table>\n",
       "</div>"
      ],
      "text/plain": [
       "   Unnamed: 0   DOB  INCOME   HV1   HV2  HV3  HV4   IC1   IC2   IC3   IC4  \\\n",
       "0           0  3712     NaN   479   635    3    2   307   318   349   378   \n",
       "1           1  5202     6.0  5468  5218   12   10  1088  1096  1026  1037   \n",
       "2           2     0     3.0   497   546    2    1   251   292   292   340   \n",
       "\n",
       "     IC5  NUMPROM  CARDPROM  CARDPM12  NUMPRM12  MAXADATE  NGIFTALL  TIMELAG  \\\n",
       "0  12883       74        27         6        14      9702        31      4.0   \n",
       "1  36175       32        12         6        13      9702         3     18.0   \n",
       "2  11576       63        26         6        14      9702        27     12.0   \n",
       "\n",
       "     AVGGIFT  \n",
       "0   7.741935  \n",
       "1  15.666667  \n",
       "2   7.481481  "
      ]
     },
     "execution_count": 6,
     "metadata": {},
     "output_type": "execute_result"
    }
   ],
   "source": [
    "# Check the numerical variables\n",
    "numericals = data.select_dtypes(np.number)\n",
    "numericals.head(3)"
   ]
  },
  {
   "cell_type": "markdown",
   "metadata": {},
   "source": [
    "- The `INCOME` might be an important factor in predicting the gift value, so even though it has a lot of null values, we will not drop the column.\n",
    "- In this exercise, we will try a more precise method to replace the null values, instead of simply replacing them by a constant value, mean or median.\n",
    "- We will use a similar method for the column `TIMELAG` .\n",
    "- Pay attention to how we interpreting the different plots to make decisions in the next steps."
   ]
  },
  {
   "cell_type": "code",
   "execution_count": 7,
   "metadata": {},
   "outputs": [
    {
     "data": {
      "text/plain": [
       "<AxesSubplot:>"
      ]
     },
     "execution_count": 7,
     "metadata": {},
     "output_type": "execute_result"
    },
    {
     "data": {
      "image/png": "[encoded data removed]",
      "text/plain": [
       "<Figure size 640x480 with 1 Axes>"
      ]
     },
     "metadata": {},
     "output_type": "display_data"
    }
   ],
   "source": [
    "# working with INCOME column EDA + Data cleaning\n",
    "data['INCOME'].hist()"
   ]
  },
  {
   "cell_type": "markdown",
   "metadata": {},
   "source": [
    "- Looking at the histogram, we can see we need to replace the missing values first.\n",
    "- In the previous lessons, we talked about replacing null values with mean and median and some other constant value. In the later lessons, we will look at methods different than filling with constants (mean and median)."
   ]
  },
  {
   "cell_type": "markdown",
   "metadata": {},
   "source": [
    "# 4.01 Activity 1\n",
    "\n",
    "Refer to `files_for_activities/unit4.csv` file.\n",
    "\n",
    "1. How many ways exist to cope with the null values? When should you use each one?\n",
    "2. What would you do with `null` values of the field GENDER?\n",
    "3. The `Homeownership` has two values [ `H` = Homeowner, `U` = Unknown]. Fill the null values accordingly."
   ]
  },
  {
   "cell_type": "markdown",
   "metadata": {},
   "source": [
    "1. How many ways exist to cope with the null values? When should you use each one?"
   ]
  },
  {
   "cell_type": "markdown",
   "metadata": {},
   "source": [
    "- **Drop**: Data can't be obtained, not a lot of entries (rows) or a lot of `NaN` s in the columns (columns)\n",
    "- **Replace**: We have some other information that tells us we can do this, even if it is not the missing information. For example, if the data follow an approximately normal distribution, we might want to substitute the missing values with the mean. You always need to have something that \"tells you\" that you can replace the data."
   ]
  },
  {
   "cell_type": "markdown",
   "metadata": {},
   "source": [
    "2. What would you do with `null` values of the field GENDER?"
   ]
  },
  {
   "cell_type": "code",
   "execution_count": 186,
   "metadata": {},
   "outputs": [
    {
     "data": {
      "text/plain": [
       "2795"
      ]
     },
     "execution_count": 186,
     "metadata": {},
     "output_type": "execute_result"
    }
   ],
   "source": [
    "data.GENDER.isna().sum()"
   ]
  },
  {
   "cell_type": "code",
   "execution_count": 187,
   "metadata": {},
   "outputs": [],
   "source": [
    "gender_is_null = data.GENDER.isnull()"
   ]
  },
  {
   "cell_type": "code",
   "execution_count": 188,
   "metadata": {},
   "outputs": [
    {
     "data": {
      "text/html": [
       "<div>\n",
       "<style scoped>\n",
       "    .dataframe tbody tr th:only-of-type {\n",
       "        vertical-align: middle;\n",
       "    }\n",
       "\n",
       "    .dataframe tbody tr th {\n",
       "        vertical-align: top;\n",
       "    }\n",
       "\n",
       "    .dataframe thead th {\n",
       "        text-align: right;\n",
       "    }\n",
       "</style>\n",
       "<table border=\"1\" class=\"dataframe\">\n",
       "  <thead>\n",
       "    <tr style=\"text-align: right;\">\n",
       "      <th></th>\n",
       "      <th>Unnamed: 0</th>\n",
       "      <th>STATE</th>\n",
       "      <th>PVASTATE</th>\n",
       "      <th>DOB</th>\n",
       "      <th>MDMAUD</th>\n",
       "      <th>RECP3</th>\n",
       "      <th>GENDER</th>\n",
       "      <th>DOMAIN</th>\n",
       "      <th>INCOME</th>\n",
       "      <th>HOMEOWNR</th>\n",
       "      <th>HV1</th>\n",
       "      <th>HV2</th>\n",
       "      <th>HV3</th>\n",
       "      <th>HV4</th>\n",
       "      <th>IC1</th>\n",
       "      <th>IC2</th>\n",
       "      <th>IC3</th>\n",
       "      <th>IC4</th>\n",
       "      <th>IC5</th>\n",
       "      <th>VETERANS</th>\n",
       "      <th>NUMPROM</th>\n",
       "      <th>CARDPROM</th>\n",
       "      <th>CARDPM12</th>\n",
       "      <th>NUMPRM12</th>\n",
       "      <th>MAXADATE</th>\n",
       "      <th>RFA_2</th>\n",
       "      <th>NGIFTALL</th>\n",
       "      <th>TIMELAG</th>\n",
       "      <th>AVGGIFT</th>\n",
       "    </tr>\n",
       "  </thead>\n",
       "  <tbody>\n",
       "  </tbody>\n",
       "</table>\n",
       "</div>"
      ],
      "text/plain": [
       "Empty DataFrame\n",
       "Columns: [Unnamed: 0, STATE, PVASTATE, DOB, MDMAUD, RECP3, GENDER, DOMAIN, INCOME, HOMEOWNR, HV1, HV2, HV3, HV4, IC1, IC2, IC3, IC4, IC5, VETERANS, NUMPROM, CARDPROM, CARDPM12, NUMPRM12, MAXADATE, RFA_2, NGIFTALL, TIMELAG, AVGGIFT]\n",
       "Index: []"
      ]
     },
     "execution_count": 188,
     "metadata": {},
     "output_type": "execute_result"
    }
   ],
   "source": [
    "data.drop(gender_is_null.index)"
   ]
  },
  {
   "cell_type": "markdown",
   "metadata": {},
   "source": [
    "3.The Homeownership has two values [ H = Homeowner, U = Unknown]. Fill the null values accordingly."
   ]
  },
  {
   "cell_type": "code",
   "execution_count": 189,
   "metadata": {},
   "outputs": [
    {
     "data": {
      "text/plain": [
       "0        U\n",
       "1        H\n",
       "2        U\n",
       "3        U\n",
       "4        H\n",
       "        ..\n",
       "90564    H\n",
       "90565    U\n",
       "90566    H\n",
       "90567    U\n",
       "90568    U\n",
       "Name: HOMEOWNR, Length: 90569, dtype: object"
      ]
     },
     "execution_count": 189,
     "metadata": {},
     "output_type": "execute_result"
    }
   ],
   "source": [
    "data.HOMEOWNR.fillna('U')"
   ]
  },
  {
   "cell_type": "markdown",
   "metadata": {},
   "source": [
    "### Lesson 2 key concepts\n",
    "\n",
    "> :clock10: 20 min\n",
    "\n",
    "Cleaning numerical variables\n",
    "\n",
    "- Imputing null values\n",
    "- Fixed values technique vs. interpolation technique\n",
    "\n",
    "\n",
    "Code Sample: Interpolation Method"
   ]
  },
  {
   "cell_type": "code",
   "execution_count": 8,
   "metadata": {},
   "outputs": [
    {
     "data": {
      "text/plain": [
       "<AxesSubplot:>"
      ]
     },
     "execution_count": 8,
     "metadata": {},
     "output_type": "execute_result"
    },
    {
     "data": {
      "image/png": "[encoded data removed]",
      "text/plain": [
       "<Figure size 640x480 with 1 Axes>"
      ]
     },
     "metadata": {},
     "output_type": "display_data"
    }
   ],
   "source": [
    "# How interpolation works\n",
    "data['INCOME'][0:40].plot()  # To check how interpolation would fill the missing values"
   ]
  },
  {
   "cell_type": "code",
   "execution_count": 9,
   "metadata": {},
   "outputs": [],
   "source": [
    "new_income_data = data['INCOME'][0:40].interpolate(method='linear')"
   ]
  },
  {
   "cell_type": "code",
   "execution_count": 10,
   "metadata": {},
   "outputs": [],
   "source": [
    "# new_income_data = data['INCOME'][0:40].interpolate(method='akima')  # Other methods that can be used\n",
    "# new_income_data = data['INCOME'][0:40].interpolate(method='polynomial', order=3)  # Other methods that can be used"
   ]
  },
  {
   "cell_type": "code",
   "execution_count": 11,
   "metadata": {},
   "outputs": [
    {
     "data": {
      "image/png": "[encoded data removed]",
      "text/plain": [
       "<Figure size 640x480 with 1 Axes>"
      ]
     },
     "metadata": {},
     "output_type": "display_data"
    }
   ],
   "source": [
    "new_income_data.plot()\n",
    "plt.show()"
   ]
  },
  {
   "cell_type": "code",
   "execution_count": 12,
   "metadata": {},
   "outputs": [
    {
     "data": {
      "text/plain": [
       "0        NaN\n",
       "1        6.0\n",
       "2        3.0\n",
       "3        1.0\n",
       "4        3.0\n",
       "        ... \n",
       "90564    6.0\n",
       "90565    NaN\n",
       "90566    7.0\n",
       "90567    NaN\n",
       "90568    5.0\n",
       "Name: INCOME, Length: 90569, dtype: float64"
      ]
     },
     "execution_count": 12,
     "metadata": {},
     "output_type": "execute_result"
    }
   ],
   "source": [
    "data['INCOME']"
   ]
  },
  {
   "cell_type": "code",
   "execution_count": 13,
   "metadata": {},
   "outputs": [
    {
     "data": {
      "text/plain": [
       "<seaborn.axisgrid.FacetGrid at 0x2d0d6a94af0>"
      ]
     },
     "execution_count": 13,
     "metadata": {},
     "output_type": "execute_result"
    },
    {
     "data": {
      "image/png": "[encoded data removed]",
      "text/plain": [
       "<Figure size 500x500 with 1 Axes>"
      ]
     },
     "metadata": {},
     "output_type": "display_data"
    }
   ],
   "source": [
    "# Test what does the distribution look like after we have used interpolation method\n",
    "points = data['INCOME'].interpolate(method='akima')\n",
    "sns.displot(points[1:])   # We are using the index __1:__ as first value was NaN"
   ]
  },
  {
   "cell_type": "markdown",
   "metadata": {},
   "source": [
    "- It is important to compare the results with other methods and then choose the best one."
   ]
  },
  {
   "cell_type": "code",
   "execution_count": 14,
   "metadata": {},
   "outputs": [
    {
     "data": {
      "text/plain": [
       "<AxesSubplot:xlabel='INCOME', ylabel='Density'>"
      ]
     },
     "execution_count": 14,
     "metadata": {},
     "output_type": "execute_result"
    },
    {
     "data": {
      "image/png": "[encoded data removed]",
      "text/plain": [
       "<Figure size 640x480 with 1 Axes>"
      ]
     },
     "metadata": {},
     "output_type": "display_data"
    }
   ],
   "source": [
    "# Testing interpolation method with mean and median methods\n",
    "points2 = data['INCOME'].fillna(np.mean(data['INCOME']))\n",
    "sns.distplot(points2)"
   ]
  },
  {
   "cell_type": "code",
   "execution_count": 15,
   "metadata": {},
   "outputs": [],
   "source": [
    "# Note that unlike \"np.mean()\" , \"np.median()\" doesn't work if there are any null values in the column\n",
    "median = np.median(data['INCOME'].fillna(0))"
   ]
  },
  {
   "cell_type": "code",
   "execution_count": 16,
   "metadata": {},
   "outputs": [
    {
     "data": {
      "text/plain": [
       "<AxesSubplot:xlabel='INCOME', ylabel='Density'>"
      ]
     },
     "execution_count": 16,
     "metadata": {},
     "output_type": "execute_result"
    },
    {
     "data": {
      "image/png": "[encoded data removed]",
      "text/plain": [
       "<Figure size 640x480 with 1 Axes>"
      ]
     },
     "metadata": {},
     "output_type": "display_data"
    }
   ],
   "source": [
    "points3 = data['INCOME'].fillna(median)\n",
    "sns.distplot(points3)"
   ]
  },
  {
   "cell_type": "code",
   "execution_count": 17,
   "metadata": {},
   "outputs": [],
   "source": [
    "# Finally choosing mean method\n",
    "data['INCOME'] = data['INCOME'].fillna(np.mean(data['INCOME']))"
   ]
  },
  {
   "cell_type": "markdown",
   "metadata": {},
   "source": [
    "# 4.01 Activity 2\n",
    "\n",
    "Interpolation isn't a bad method to replace `NaN`s but you might find some other solutions that are more efficient. Can you think of at least one? Implement your proposal.\n",
    "\n",
    "**Hint**: Analytically, when you have `NaN`s, you work with them as if they were a test set."
   ]
  },
  {
   "cell_type": "code",
   "execution_count": 18,
   "metadata": {},
   "outputs": [],
   "source": [
    "from sklearn.linear_model import LinearRegression"
   ]
  },
  {
   "cell_type": "code",
   "execution_count": 26,
   "metadata": {},
   "outputs": [],
   "source": [
    "X = data[~data.INCOME.isnull()][['HV1', 'IC1']]\n",
    "y = data[~data.INCOME.isnull()][['INCOME']]"
   ]
  },
  {
   "cell_type": "code",
   "execution_count": 27,
   "metadata": {},
   "outputs": [],
   "source": [
    "X_nulls = data[~data.INCOME.isnull()][['HV1', 'IC1']]"
   ]
  },
  {
   "cell_type": "code",
   "execution_count": 28,
   "metadata": {},
   "outputs": [
    {
     "data": {
      "text/html": [
       "<div>\n",
       "<style scoped>\n",
       "    .dataframe tbody tr th:only-of-type {\n",
       "        vertical-align: middle;\n",
       "    }\n",
       "\n",
       "    .dataframe tbody tr th {\n",
       "        vertical-align: top;\n",
       "    }\n",
       "\n",
       "    .dataframe thead th {\n",
       "        text-align: right;\n",
       "    }\n",
       "</style>\n",
       "<table border=\"1\" class=\"dataframe\">\n",
       "  <thead>\n",
       "    <tr style=\"text-align: right;\">\n",
       "      <th></th>\n",
       "      <th>HV1</th>\n",
       "      <th>IC1</th>\n",
       "    </tr>\n",
       "  </thead>\n",
       "  <tbody>\n",
       "    <tr>\n",
       "      <th>0</th>\n",
       "      <td>479</td>\n",
       "      <td>307</td>\n",
       "    </tr>\n",
       "    <tr>\n",
       "      <th>1</th>\n",
       "      <td>5468</td>\n",
       "      <td>1088</td>\n",
       "    </tr>\n",
       "    <tr>\n",
       "      <th>2</th>\n",
       "      <td>497</td>\n",
       "      <td>251</td>\n",
       "    </tr>\n",
       "    <tr>\n",
       "      <th>3</th>\n",
       "      <td>1000</td>\n",
       "      <td>386</td>\n",
       "    </tr>\n",
       "    <tr>\n",
       "      <th>4</th>\n",
       "      <td>576</td>\n",
       "      <td>240</td>\n",
       "    </tr>\n",
       "    <tr>\n",
       "      <th>...</th>\n",
       "      <td>...</td>\n",
       "      <td>...</td>\n",
       "    </tr>\n",
       "    <tr>\n",
       "      <th>90564</th>\n",
       "      <td>733</td>\n",
       "      <td>285</td>\n",
       "    </tr>\n",
       "    <tr>\n",
       "      <th>90565</th>\n",
       "      <td>988</td>\n",
       "      <td>433</td>\n",
       "    </tr>\n",
       "    <tr>\n",
       "      <th>90566</th>\n",
       "      <td>1679</td>\n",
       "      <td>806</td>\n",
       "    </tr>\n",
       "    <tr>\n",
       "      <th>90567</th>\n",
       "      <td>376</td>\n",
       "      <td>263</td>\n",
       "    </tr>\n",
       "    <tr>\n",
       "      <th>90568</th>\n",
       "      <td>938</td>\n",
       "      <td>451</td>\n",
       "    </tr>\n",
       "  </tbody>\n",
       "</table>\n",
       "<p>90569 rows × 2 columns</p>\n",
       "</div>"
      ],
      "text/plain": [
       "        HV1   IC1\n",
       "0       479   307\n",
       "1      5468  1088\n",
       "2       497   251\n",
       "3      1000   386\n",
       "4       576   240\n",
       "...     ...   ...\n",
       "90564   733   285\n",
       "90565   988   433\n",
       "90566  1679   806\n",
       "90567   376   263\n",
       "90568   938   451\n",
       "\n",
       "[90569 rows x 2 columns]"
      ]
     },
     "execution_count": 28,
     "metadata": {},
     "output_type": "execute_result"
    }
   ],
   "source": [
    "X_nulls"
   ]
  },
  {
   "cell_type": "code",
   "execution_count": 29,
   "metadata": {},
   "outputs": [
    {
     "name": "stdout",
     "output_type": "stream",
     "text": [
      "Length of predictions:  90569\n"
     ]
    }
   ],
   "source": [
    "model = LinearRegression().fit(X, y)\n",
    "income_pred = model.predict(X_nulls)\n",
    "income_pred = np.round(income_pred)\n",
    "print(\"Length of predictions: \", len (income_pred))"
   ]
  },
  {
   "cell_type": "code",
   "execution_count": 30,
   "metadata": {},
   "outputs": [],
   "source": [
    "data.loc[data.INCOME.isnull(), 'INCOME'] = income_pred"
   ]
  },
  {
   "cell_type": "markdown",
   "metadata": {},
   "source": [
    "### Lesson 3 key concepts\n",
    "\n",
    "> :clock10: 20 min\n",
    "\n",
    "- Cleaning numerical variables\n",
    "\n",
    "      - Using data transformations\n",
    "\n",
    "\n",
    "Code Sample: Working with INCOME column EDA + Data cleaning"
   ]
  },
  {
   "cell_type": "code",
   "execution_count": 31,
   "metadata": {},
   "outputs": [
    {
     "data": {
      "image/png": "[encoded data removed]",
      "text/plain": [
       "<Figure size 640x480 with 1 Axes>"
      ]
     },
     "metadata": {},
     "output_type": "display_data"
    }
   ],
   "source": [
    "# Working with INCOME column EDA + Data cleaning\n",
    "data['TIMELAG'].hist(bins=20)\n",
    "plt.show()"
   ]
  },
  {
   "cell_type": "code",
   "execution_count": null,
   "metadata": {},
   "outputs": [],
   "source": [
    "# skewness"
   ]
  },
  {
   "cell_type": "code",
   "execution_count": 32,
   "metadata": {},
   "outputs": [
    {
     "data": {
      "image/png": "[encoded data removed]",
      "text/plain": [
       "<Figure size 640x480 with 1 Axes>"
      ]
     },
     "metadata": {},
     "output_type": "display_data"
    }
   ],
   "source": [
    "sns.boxplot(y=data['TIMELAG'])\n",
    "plt.show()"
   ]
  },
  {
   "cell_type": "markdown",
   "metadata": {},
   "source": [
    "- Data in the Timelag column is highly skewed (positive skewness).\n",
    "- Removing outliers straight away might not be the best idea as it would remove a lot of data points from the data.\n",
    "- We will try some transformations."
   ]
  },
  {
   "cell_type": "code",
   "execution_count": 33,
   "metadata": {},
   "outputs": [],
   "source": [
    "def log_transfom_clean_(x):\n",
    "    if np.isfinite(x) and x!=0:\n",
    "        return np.log(x)\n",
    "    else:\n",
    "        return np.NAN # We are returning NaNs so that we can replace them later\n",
    "\n",
    "def sqrt_transfom_clean_(x):\n",
    "    if np.isfinite(x) and x>=0:\n",
    "        return np.sqrt(x)\n",
    "    else:\n",
    "        return np.NAN # We are returning NaNs so that we can replace them later"
   ]
  },
  {
   "cell_type": "code",
   "execution_count": 34,
   "metadata": {},
   "outputs": [
    {
     "data": {
      "image/png": "[encoded data removed]",
      "text/plain": [
       "<Figure size 640x480 with 1 Axes>"
      ]
     },
     "metadata": {},
     "output_type": "display_data"
    }
   ],
   "source": [
    "# Using the functions to check the distribution of transformed data\n",
    "pd.Series(map(log_transfom_clean_, data['TIMELAG'])).hist()\n",
    "plt.show()"
   ]
  },
  {
   "cell_type": "code",
   "execution_count": null,
   "metadata": {},
   "outputs": [],
   "source": [
    "pd.Series(map(sqrt_transfom_clean_, data['TIMELAG'])).hist()\n",
    "plt.show()"
   ]
  },
  {
   "cell_type": "code",
   "execution_count": null,
   "metadata": {},
   "outputs": [],
   "source": [
    "# Use log transformation to replace the values of the column now\n",
    "data['TIMELAG'] = list(map(log_transfom_clean_, data['TIMELAG']))\n",
    "data['TIMELAG'] = data['TIMELAG'].fillna(np.mean(data['TIMELAG']))\n",
    "sns.distplot(data['TIMELAG'])\n",
    "plt.show()"
   ]
  },
  {
   "cell_type": "markdown",
   "metadata": {},
   "source": [
    "# 4.01 Activity 3\n",
    "\n",
    "Logarithmic transformation is one of the most common transformations when it comes to visualization. Can you guess why?"
   ]
  },
  {
   "cell_type": "markdown",
   "metadata": {},
   "source": [
    "A logarithmic scale is common to visualize exponential data as they are the inverse function of each other, so the result would be a linear visualization. This is needed because we don't visualize exponential functions properly otherwise. As an example, you can see some corona virus visualizations, like [this one](https://education-team-2020.s3-eu-west-1.amazonaws.com/data-analytics/4.1-COVID-Logarithmicvslinear.png). Check the log transform with the `IC`-n columns."
   ]
  },
  {
   "cell_type": "markdown",
   "metadata": {},
   "source": [
    "### Lesson 4 key concepts\n",
    "\n",
    "> :clock10: 20 min\n",
    "\n",
    "Cleaning numerical variables\n",
    "\n",
    "- Filtering/subsetting data\n",
    "- Using filter function\n",
    "- Removing outliers\n",
    "\n",
    "\n",
    "Code Sample\n",
    "\n",
    "- Even after using the transformation, there is still some skewness in the column `TIMELAG` . We will remove the outliers only from the right side of the distribution plot."
   ]
  },
  {
   "cell_type": "code",
   "execution_count": 35,
   "metadata": {},
   "outputs": [
    {
     "name": "stdout",
     "output_type": "stream",
     "text": [
      "nan\n"
     ]
    }
   ],
   "source": [
    "# Checking how many values will be removed if the outliers are removed\n",
    "iqr = np.percentile(data['TIMELAG'], 75) - np.percentile(data['TIMELAG'], 25)\n",
    "upper_limit = np.percentile(data['TIMELAG'], 75) + 1.5*iqr\n",
    "print(upper_limit)"
   ]
  },
  {
   "cell_type": "code",
   "execution_count": 36,
   "metadata": {},
   "outputs": [
    {
     "data": {
      "text/plain": [
       "0"
      ]
     },
     "execution_count": 36,
     "metadata": {},
     "output_type": "execute_result"
    }
   ],
   "source": [
    "new_df = data[data['TIMELAG'] > upper_limit]\n",
    "len(new_df)  # THis checks the number of points that will be removed"
   ]
  },
  {
   "cell_type": "markdown",
   "metadata": {},
   "source": [
    "- `filter` function (syntax is very similar to the `map` functions)."
   ]
  },
  {
   "cell_type": "code",
   "execution_count": 37,
   "metadata": {},
   "outputs": [
    {
     "data": {
      "text/plain": [
       "[0, 2, 4, 6, 8, 10]"
      ]
     },
     "execution_count": 37,
     "metadata": {},
     "output_type": "execute_result"
    }
   ],
   "source": [
    "list(filter(lambda x: x % 2 == 0, lst))"
   ]
  },
  {
   "cell_type": "code",
   "execution_count": 38,
   "metadata": {},
   "outputs": [
    {
     "data": {
      "text/plain": [
       "0"
      ]
     },
     "execution_count": 38,
     "metadata": {},
     "output_type": "execute_result"
    }
   ],
   "source": [
    "# Using filters\n",
    "points = list(filter(lambda x: x < upper_limit, data['TIMELAG']))\n",
    "len(points)"
   ]
  },
  {
   "cell_type": "code",
   "execution_count": 39,
   "metadata": {},
   "outputs": [
    {
     "data": {
      "image/png": "[encoded data removed]",
      "text/plain": [
       "<Figure size 640x480 with 1 Axes>"
      ]
     },
     "metadata": {},
     "output_type": "display_data"
    }
   ],
   "source": [
    "# Removing outliers\n",
    "data = data[data['TIMELAG'] < upper_limit]\n",
    "sns.distplot(data['TIMELAG'])\n",
    "plt.show()"
   ]
  },
  {
   "cell_type": "markdown",
   "metadata": {},
   "source": [
    "# 4.01 Activity 4\n",
    "\n",
    "- What is the difference between **map**, **filter**, and **reduce**?\n",
    "- Use **map**, **filter** and **reduce** to get the sum of the square root of the odd numbers between 0 and 100."
   ]
  },
  {
   "cell_type": "code",
   "execution_count": 40,
   "metadata": {},
   "outputs": [],
   "source": [
    "from functools import reduce"
   ]
  },
  {
   "cell_type": "code",
   "execution_count": 41,
   "metadata": {},
   "outputs": [],
   "source": [
    "lst = list(range(100))"
   ]
  },
  {
   "cell_type": "code",
   "execution_count": 42,
   "metadata": {},
   "outputs": [
    {
     "name": "stdout",
     "output_type": "stream",
     "text": [
      "[0, 1, 2, 3, 4, 5, 6, 7, 8, 9, 10, 11, 12, 13, 14, 15, 16, 17, 18, 19, 20, 21, 22, 23, 24, 25, 26, 27, 28, 29, 30, 31, 32, 33, 34, 35, 36, 37, 38, 39, 40, 41, 42, 43, 44, 45, 46, 47, 48, 49, 50, 51, 52, 53, 54, 55, 56, 57, 58, 59, 60, 61, 62, 63, 64, 65, 66, 67, 68, 69, 70, 71, 72, 73, 74, 75, 76, 77, 78, 79, 80, 81, 82, 83, 84, 85, 86, 87, 88, 89, 90, 91, 92, 93, 94, 95, 96, 97, 98, 99]\n"
     ]
    }
   ],
   "source": [
    "print(lst)"
   ]
  },
  {
   "cell_type": "code",
   "execution_count": 43,
   "metadata": {},
   "outputs": [
    {
     "data": {
      "text/plain": [
       "0"
      ]
     },
     "execution_count": 43,
     "metadata": {},
     "output_type": "execute_result"
    }
   ],
   "source": [
    "reduce(lambda a,b: a*b, lst)"
   ]
  },
  {
   "cell_type": "markdown",
   "metadata": {
    "tags": []
   },
   "source": [
    "# Lab | Basic Data Cleaning and EDA\n",
    "\n",
    "For this lab, we will be using the dataset in the Customer Analysis Business Case. This dataset can be found in the `files_for_lab` folder.\n",
    "\n",
    "## Context\n",
    "\n",
    "An auto insurance company has collected some data about its customers including their _demographics_, _education_, _employment_, _policy details_, _vehicle information_ on which insurance policy is and _claim amounts_. You will help the senior management with some business questions that should help them to better understand their customers, improve their services and improve profitability.\n",
    "\n",
    "**Some business Objectives for the case study could be**:\n",
    "\n",
    "- Retain customers,\n",
    "- Analyze relevant customer data,\n",
    "- Develop focused customer retention programs.\n",
    "\n",
    "Based on the analysis, take targeted actions to increase profitable customer response, retention, and growth.\n",
    "\n",
    "### Instructions\n",
    "\n",
    "1. Import the necessary libraries.\n",
    "2. Load the `we_fn_use_c_marketing_customer_value_analysis.csv` into the variable `customer_df` (i.e. `customer_df = pd.readcsv(\"\")`)\n",
    "3. First, look at its main features (`head`, `shape`, `info`).\n",
    "4. Rename the columns so they follow the PE8 (snake case).\n",
    "5. Fix the data types of any other column/columns as you might see necessary. Note that sometimes there are some features you might want to use as categorical, but they are read as numerical by python (and vice versa). For eg., if there's a column with year values like 2020, 2021, 2022, etc., this column might be read as numerical by python, but you would want to use that column as categorical data. **Hint**: One thing you can try is to change date column to datetime format.\n",
    "6. Plot a correlation matrix, and comment on what you observe.\n",
    "7. Plot every continuous variable. Comment what you can see in the plots.\n",
    "8. Do the same with the categorical variables (be careful, you may need to change the plot type to one better suited for continuous data!). Comment what you can see in the plots. \n",
    "You should also delete the column `customer_id` before you can try to use a for loop on all the categorical columns. Discuss why is deleting the column `customer_id` required. **Hint**: Use bar plots to plot categorical data, with each unique category in the column on the x-axis and an appropriate measure on the y-axis.\n",
    "9. Look for outliers in the continuous variables. (**Hint**: There’s a good plot to do that!). In case you find outliers, comment on what you will do with them.\n",
    "10. Check all columns for *NaN* values. Decide what (if anything) you will need to do with them."
   ]
  },
  {
   "cell_type": "markdown",
   "metadata": {},
   "source": [
    "### LAB Solution:"
   ]
  },
  {
   "cell_type": "markdown",
   "metadata": {},
   "source": [
    "1. Import the necessary libraries."
   ]
  },
  {
   "cell_type": "code",
   "execution_count": null,
   "metadata": {},
   "outputs": [],
   "source": [
    "# Base libraries\n",
    "import pandas as pd\n",
    "import numpy as np\n",
    "\n",
    "pd.set_option('display.max_columns', None)\n",
    "\n",
    "# Visualization\n",
    "import matplotlib.pyplot as plt\n",
    "import seaborn as sns\n",
    "\n",
    "%matplotlib inline"
   ]
  },
  {
   "cell_type": "markdown",
   "metadata": {},
   "source": [
    "2. Load the `we_fn_use_c_marketing_customer_value_analysis.csv` into the variable `customer_df`."
   ]
  },
  {
   "cell_type": "code",
   "execution_count": null,
   "metadata": {},
   "outputs": [],
   "source": [
    "customer_df = pd.read_csv(\"./files_for_lab/we_fn_use_c_marketing_customer_value_analysis.csv\")"
   ]
  },
  {
   "cell_type": "markdown",
   "metadata": {},
   "source": [
    "3. First, look at its main features (`head`, `shape`, `info`)."
   ]
  },
  {
   "cell_type": "code",
   "execution_count": null,
   "metadata": {},
   "outputs": [],
   "source": [
    "customer_df.head(3)"
   ]
  },
  {
   "cell_type": "code",
   "execution_count": null,
   "metadata": {},
   "outputs": [],
   "source": [
    "customer_df.info()"
   ]
  },
  {
   "cell_type": "code",
   "execution_count": null,
   "metadata": {},
   "outputs": [],
   "source": [
    "customer_df.shape"
   ]
  },
  {
   "cell_type": "markdown",
   "metadata": {},
   "source": [
    "4. Rename the columns so they follow the PE8 (snake case)."
   ]
  },
  {
   "cell_type": "code",
   "execution_count": null,
   "metadata": {},
   "outputs": [],
   "source": [
    "customer_df.columns = [col.replace(\" \", \"_\").lower() for col in customer_df]"
   ]
  },
  {
   "cell_type": "markdown",
   "metadata": {},
   "source": [
    "5. Fix the data types of any other column/columns as you might see necessary. Note that sometimes there are some features you might want to use as categorical, but they are read as numerical by python (and vice versa). For eg., if there's a column with year values like 2020, 2021, 2022, etc., this column might be read as numerical by python, but you would want to use that column as categorical data. **Hint**: One thing you can try is to change date column to datetime format."
   ]
  },
  {
   "cell_type": "code",
   "execution_count": null,
   "metadata": {},
   "outputs": [],
   "source": [
    "customer_df['number_of_open_complaints'].unique()"
   ]
  },
  {
   "cell_type": "code",
   "execution_count": null,
   "metadata": {},
   "outputs": [],
   "source": [
    "customer_df['number_of_open_complaints'] = customer_df['number_of_open_complaints'].astype('object')"
   ]
  },
  {
   "cell_type": "code",
   "execution_count": null,
   "metadata": {},
   "outputs": [],
   "source": [
    "customer_df['effective_to_date'] = pd.to_datetime(customer_df['effective_to_date'])"
   ]
  },
  {
   "cell_type": "markdown",
   "metadata": {},
   "source": [
    "6. Plot a correlation matrix, and comment on what you observe."
   ]
  },
  {
   "cell_type": "code",
   "execution_count": null,
   "metadata": {},
   "outputs": [],
   "source": [
    "correlation_matrix = customer_df.corr()\n",
    "import seaborn as sns\n",
    "sns.heatmap(correlation_matrix, annot=True)"
   ]
  },
  {
   "cell_type": "markdown",
   "metadata": {},
   "source": [
    "7. Plot every continuous variable. Comment what you can see in the plots."
   ]
  },
  {
   "cell_type": "code",
   "execution_count": null,
   "metadata": {},
   "outputs": [],
   "source": [
    "numericals = customer_df.select_dtypes(np.number)\n",
    "for col in numericals.columns:\n",
    "    sns.displot(numericals[col])\n",
    "    plt.show()"
   ]
  },
  {
   "cell_type": "markdown",
   "metadata": {},
   "source": [
    "8. Do the same with the categorical variables (be careful, you may need to change the plot type to one better suited for continuous data!). Comment what you can see in the plots. You should also delete the column `customer_id` before you can try to use a for loop on all the categorical columns. Discuss why is deleting the column `customer_id` required. **Hint**: Use bar plots to plot categorical data, with each unique category in the column on the x-axis and an appropriate measure on the y-axis."
   ]
  },
  {
   "cell_type": "code",
   "execution_count": null,
   "metadata": {},
   "outputs": [],
   "source": [
    "categoricals = customer_df.select_dtypes(np.object)\n",
    "categoricals = categoricals.drop(['customer'], axis=1)\n",
    "for col in categoricals.columns:\n",
    "    sns.barplot(x = categoricals[col].value_counts().index, y = categoricals[col].value_counts())\n",
    "    plt.show()"
   ]
  },
  {
   "cell_type": "markdown",
   "metadata": {},
   "source": [
    "9. Look for outliers in the continuous variables. (**Hint**: There’s a good plot to do that!). In case you find outliers, comment on what you will do with them."
   ]
  },
  {
   "cell_type": "code",
   "execution_count": null,
   "metadata": {},
   "outputs": [],
   "source": [
    "for col in numericals.columns:\n",
    "    sns.boxplot(numericals[col])\n",
    "    plt.show()"
   ]
  },
  {
   "cell_type": "markdown",
   "metadata": {},
   "source": [
    "10. Check all columns for _NaN_ values. Decide what (if anything) you will need to do with them."
   ]
  },
  {
   "cell_type": "code",
   "execution_count": null,
   "metadata": {},
   "outputs": [],
   "source": [
    "customer_df.isna().sum()"
   ]
  },
  {
   "cell_type": "code",
   "execution_count": null,
   "metadata": {},
   "outputs": [],
   "source": []
  }
 ],
 "metadata": {
  "kernelspec": {
   "display_name": "Python 3 (ipykernel)",
   "language": "python",
   "name": "python3"
  },
  "language_info": {
   "codemirror_mode": {
    "name": "ipython",
    "version": 3
   },
   "file_extension": ".py",
   "mimetype": "text/x-python",
   "name": "python",
   "nbconvert_exporter": "python",
   "pygments_lexer": "ipython3",
   "version": "3.9.13"
  }
 },
 "nbformat": 4,
 "nbformat_minor": 4
}
