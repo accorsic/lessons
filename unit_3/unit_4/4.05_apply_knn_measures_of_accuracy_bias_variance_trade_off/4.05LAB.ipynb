{
 "cells": [
  {
   "cell_type": "code",
   "execution_count": null,
   "id": "5181be6c-ed05-480d-9d1e-0ab88842bb65",
   "metadata": {},
   "outputs": [],
   "source": [
    "In this final lab, we will model our data. "
   ]
  },
  {
   "cell_type": "code",
   "execution_count": null,
   "id": "9116d252-161c-4456-a5e9-ddf776717e21",
   "metadata": {},
   "outputs": [],
   "source": [
    "1. Import sklearn train_test_split and separate the data."
   ]
  },
  {
   "cell_type": "code",
   "execution_count": null,
   "id": "b32046a1-140e-4ce2-ba01-75d1c17589c9",
   "metadata": {},
   "outputs": [],
   "source": [
    "2. Try a simple linear regression with all the data to see whether we are getting good results."
   ]
  },
  {
   "cell_type": "code",
   "execution_count": null,
   "id": "0c7f6c83-c61d-472e-819c-f6a8094f0d44",
   "metadata": {},
   "outputs": [],
   "source": [
    "3. Now define a function that takes a list of models and train (and tests) them so we can try a lot of them without repeating code."
   ]
  },
  {
   "cell_type": "code",
   "execution_count": null,
   "id": "e2880d9a-54fa-4dff-babb-774472c7b21f",
   "metadata": {},
   "outputs": [],
   "source": [
    "4. Use the function to check LinearRegressor and KNeighborsRegressor.\n",
    "You can check also the MLPRegressor for this task!\n",
    "Check and discuss the results."
   ]
  }
 ],
 "metadata": {
  "kernelspec": {
   "display_name": "Python 3 (ipykernel)",
   "language": "python",
   "name": "python3"
  },
  "language_info": {
   "codemirror_mode": {
    "name": "ipython",
    "version": 3
   },
   "file_extension": ".py",
   "mimetype": "text/x-python",
   "name": "python",
   "nbconvert_exporter": "python",
   "pygments_lexer": "ipython3",
   "version": "3.9.13"
  }
 },
 "nbformat": 4,
 "nbformat_minor": 5
}
